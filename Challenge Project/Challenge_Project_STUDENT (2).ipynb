{
 "cells": [
  {
   "cell_type": "markdown",
   "source": "# Week 1 Challenge Project\n### Lyle Lalunio\n---\nHypothyroidism, also called underactive thyroid or low thyroid, is a disorder of the endocrine system in which the thyroid gland does not produce enough thyroid hormone. It can cause a number of symptoms, such as poor ability to tolerate cold, a feeling of tiredness, constipation, depression, and weight gain. Occasionally there may be swelling of the front part of the neck due to goitre. Untreated hypothyroidism during pregnancy can lead to delays in growth and intellectual development in the baby or cretinism.\n\nWorldwide, too little iodine in the diet is the most common cause of hypothyroidism. In countries with enough iodine in the diet, the most common cause of hypothyroidism is the autoimmune condition Hashimoto's thyroiditis. Less common causes include: previous treatment with radioactive iodine, injury to the hypothalamus or the anterior pituitary gland, certain medications, a lack of a functioning thyroid at birth, or previous thyroid surgery. The diagnosis of hypothyroidism, when suspected, can be confirmed with blood tests measuring thyroid-stimulating hormone (TSH) and thyroxine levels.\n\nWorldwide about one billion people are estimated to be iodine deficient; however, it is unknown how often this results in hypothyroidism. In the United States, hypothyroidism occurs in 0.3–0.4% of people.\n\nAnd that is why we iodize salt.\n\n![alt text](https://www.mayoclinic.org/-/media/kcms/gbs/patient-consumer/images/2013/11/15/17/39/ds00181_-ds00344_-ds00353_-ds00491_-ds00492_-ds00567_-ds00660_-my00709_im01872_thyroid_gif.jpg)\n\n",
   "metadata": {
    "colab_type": "text",
    "id": "XQDE8pPCpFRb",
    "cell_id": "00000-8b5d522d-fc03-43db-aaff-a40f052bec90",
    "deepnote_cell_type": "markdown",
    "deepnote_cell_height": 542.5625
   }
  },
  {
   "cell_type": "markdown",
   "source": "Background: Doctors all around the world need our help to predict whether a patient has hypothyroid disease. We have already overspent our budget to collect such complete data on about 30 attributes for 2800 patients--a good starting number, but a larger sample would certainly be preferred. Moving forward, however, we simply cannot afford to spend so much money on data collection. Therefore, we also need to determine which attributes are the most meaningful to the predictive models, and cut out the rest that don't contribute much. \n\nThe boss wants to see a **balanced** model that can predict with a **high sensitivity** and **high specificity** while using a ***low amount of features***. Collecting complete data such as this is very rare, very time-consuming, and often very expensive. By minimizing the number of features, it will optimize future data collection by deciding what needs to be collected, and what doesn't.",
   "metadata": {
    "colab_type": "text",
    "id": "OFF1-BLiSLZ8",
    "cell_id": "00001-0e5a6dfa-b096-43d7-b48a-e2621857d4f4",
    "deepnote_cell_type": "markdown",
    "deepnote_cell_height": 245.59375
   }
  },
  {
   "cell_type": "markdown",
   "source": "## Loading the data",
   "metadata": {
    "colab_type": "text",
    "id": "HsZB_SGvp4mP",
    "cell_id": "00002-b5d69cb5-0118-40c5-b8a2-fb1f84c8a4ac",
    "deepnote_cell_type": "markdown",
    "deepnote_cell_height": 69.96875
   }
  },
  {
   "cell_type": "markdown",
   "source": "Let's read the data into a Pandas dataframe and look at the first 20 records.",
   "metadata": {
    "colab_type": "text",
    "id": "DWrUz9OQ0uAU",
    "cell_id": "00003-c0f7d2a4-4fa9-4018-a10d-9368c9ec1204",
    "deepnote_cell_type": "markdown",
    "deepnote_cell_height": 52.375
   }
  },
  {
   "cell_type": "code",
   "metadata": {
    "colab": {
     "autoexec": {
      "startup": false,
      "wait_interval": 0
     }
    },
    "colab_type": "code",
    "id": "s9AtXQPkzC8j",
    "cell_id": "00004-4c43f37e-a713-4459-a63a-b7c11bec377c",
    "deepnote_to_be_reexecuted": false,
    "source_hash": "1fd0d02f",
    "execution_start": 1657916769427,
    "execution_millis": 234,
    "deepnote_cell_type": "code",
    "deepnote_cell_height": 653.90625
   },
   "source": "import pandas as pd\nurl = 'https://raw.githubusercontent.com/Medlytics2022/Week1/master/Datasets/allhypo.train.data'\ndataset = pd.read_csv(url)\ndataset.head(20)",
   "outputs": [
    {
     "output_type": "execute_result",
     "execution_count": 1,
     "data": {
      "application/vnd.deepnote.dataframe.v3+json": {
       "column_count": 30,
       "row_count": 20,
       "columns": [
        {
         "name": "Age",
         "dtype": "object",
         "stats": {
          "unique_count": 16,
          "nan_count": 0,
          "categories": [
           {
            "name": "70",
            "count": 2
           },
           {
            "name": "59",
            "count": 2
           },
           {
            "name": "14 others",
            "count": 16
           }
          ]
         }
        },
        {
         "name": "Sex",
         "dtype": "object",
         "stats": {
          "unique_count": 3,
          "nan_count": 0,
          "categories": [
           {
            "name": "F",
            "count": 15
           },
           {
            "name": "M",
            "count": 4
           },
           {
            "name": "?",
            "count": 1
           }
          ]
         }
        },
        {
         "name": "On Thyroxine",
         "dtype": "object",
         "stats": {
          "unique_count": 2,
          "nan_count": 0,
          "categories": [
           {
            "name": "f",
            "count": 17
           },
           {
            "name": "t",
            "count": 3
           }
          ]
         }
        },
        {
         "name": "Query on Thyroxine",
         "dtype": "object",
         "stats": {
          "unique_count": 1,
          "nan_count": 0,
          "categories": [
           {
            "name": "f",
            "count": 20
           }
          ]
         }
        },
        {
         "name": "On Antithyroid Medication",
         "dtype": "object",
         "stats": {
          "unique_count": 1,
          "nan_count": 0,
          "categories": [
           {
            "name": "f",
            "count": 20
           }
          ]
         }
        },
        {
         "name": "Sick",
         "dtype": "object",
         "stats": {
          "unique_count": 2,
          "nan_count": 0,
          "categories": [
           {
            "name": "f",
            "count": 19
           },
           {
            "name": "t",
            "count": 1
           }
          ]
         }
        },
        {
         "name": "Pregnant",
         "dtype": "object",
         "stats": {
          "unique_count": 1,
          "nan_count": 0,
          "categories": [
           {
            "name": "f",
            "count": 20
           }
          ]
         }
        },
        {
         "name": "Thyroid Surgery",
         "dtype": "object",
         "stats": {
          "unique_count": 1,
          "nan_count": 0,
          "categories": [
           {
            "name": "f",
            "count": 20
           }
          ]
         }
        },
        {
         "name": "I131 Treatment",
         "dtype": "object",
         "stats": {
          "unique_count": 1,
          "nan_count": 0,
          "categories": [
           {
            "name": "f",
            "count": 20
           }
          ]
         }
        },
        {
         "name": "Query Hypothyroid",
         "dtype": "object",
         "stats": {
          "unique_count": 2,
          "nan_count": 0,
          "categories": [
           {
            "name": "f",
            "count": 19
           },
           {
            "name": "t",
            "count": 1
           }
          ]
         }
        },
        {
         "name": "Query Hyperthyroid",
         "dtype": "object",
         "stats": {
          "unique_count": 2,
          "nan_count": 0,
          "categories": [
           {
            "name": "f",
            "count": 19
           },
           {
            "name": "t",
            "count": 1
           }
          ]
         }
        },
        {
         "name": "Lithium",
         "dtype": "object",
         "stats": {
          "unique_count": 1,
          "nan_count": 0,
          "categories": [
           {
            "name": "f",
            "count": 20
           }
          ]
         }
        },
        {
         "name": "Goiter",
         "dtype": "object",
         "stats": {
          "unique_count": 1,
          "nan_count": 0,
          "categories": [
           {
            "name": "f",
            "count": 20
           }
          ]
         }
        },
        {
         "name": "Tumor",
         "dtype": "object",
         "stats": {
          "unique_count": 2,
          "nan_count": 0,
          "categories": [
           {
            "name": "f",
            "count": 18
           },
           {
            "name": "t",
            "count": 2
           }
          ]
         }
        },
        {
         "name": "Hypopituitary",
         "dtype": "object",
         "stats": {
          "unique_count": 1,
          "nan_count": 0,
          "categories": [
           {
            "name": "f",
            "count": 20
           }
          ]
         }
        },
        {
         "name": "Psych",
         "dtype": "object",
         "stats": {
          "unique_count": 2,
          "nan_count": 0,
          "categories": [
           {
            "name": "f",
            "count": 18
           },
           {
            "name": "t",
            "count": 2
           }
          ]
         }
        },
        {
         "name": "TSH Measured",
         "dtype": "object",
         "stats": {
          "unique_count": 2,
          "nan_count": 0,
          "categories": [
           {
            "name": "t",
            "count": 19
           },
           {
            "name": "f",
            "count": 1
           }
          ]
         }
        },
        {
         "name": "TSH",
         "dtype": "object",
         "stats": {
          "unique_count": 18,
          "nan_count": 0,
          "categories": [
           {
            "name": "0.03",
            "count": 3
           },
           {
            "name": "1.3",
            "count": 1
           },
           {
            "name": "16 others",
            "count": 16
           }
          ]
         }
        },
        {
         "name": "T3 Measured",
         "dtype": "object",
         "stats": {
          "unique_count": 2,
          "nan_count": 0,
          "categories": [
           {
            "name": "t",
            "count": 15
           },
           {
            "name": "f",
            "count": 5
           }
          ]
         }
        },
        {
         "name": "T3",
         "dtype": "object",
         "stats": {
          "unique_count": 12,
          "nan_count": 0,
          "categories": [
           {
            "name": "?",
            "count": 5
           },
           {
            "name": "1.2",
            "count": 2
           },
           {
            "name": "10 others",
            "count": 13
           }
          ]
         }
        },
        {
         "name": "TT4 Measured",
         "dtype": "object",
         "stats": {
          "unique_count": 1,
          "nan_count": 0,
          "categories": [
           {
            "name": "t",
            "count": 20
           }
          ]
         }
        },
        {
         "name": "TT4",
         "dtype": "object",
         "stats": {
          "unique_count": 18,
          "nan_count": 0,
          "categories": [
           {
            "name": "109",
            "count": 2
           },
           {
            "name": "99",
            "count": 2
           },
           {
            "name": "16 others",
            "count": 16
           }
          ]
         }
        },
        {
         "name": "T4U Measured",
         "dtype": "object",
         "stats": {
          "unique_count": 2,
          "nan_count": 0,
          "categories": [
           {
            "name": "t",
            "count": 18
           },
           {
            "name": "f",
            "count": 2
           }
          ]
         }
        },
        {
         "name": "T4U",
         "dtype": "object",
         "stats": {
          "unique_count": 15,
          "nan_count": 0,
          "categories": [
           {
            "name": "0.91",
            "count": 3
           },
           {
            "name": "1.14",
            "count": 2
           },
           {
            "name": "13 others",
            "count": 15
           }
          ]
         }
        },
        {
         "name": "FTI Measured",
         "dtype": "object",
         "stats": {
          "unique_count": 2,
          "nan_count": 0,
          "categories": [
           {
            "name": "t",
            "count": 18
           },
           {
            "name": "f",
            "count": 2
           }
          ]
         }
        },
        {
         "name": "FTI",
         "dtype": "object",
         "stats": {
          "unique_count": 18,
          "nan_count": 0,
          "categories": [
           {
            "name": "?",
            "count": 2
           },
           {
            "name": "121",
            "count": 2
           },
           {
            "name": "16 others",
            "count": 16
           }
          ]
         }
        },
        {
         "name": "TBG Measured",
         "dtype": "object",
         "stats": {
          "unique_count": 1,
          "nan_count": 0,
          "categories": [
           {
            "name": "f",
            "count": 20
           }
          ]
         }
        },
        {
         "name": "TBG",
         "dtype": "object",
         "stats": {
          "unique_count": 1,
          "nan_count": 0,
          "categories": [
           {
            "name": "?",
            "count": 20
           }
          ]
         }
        },
        {
         "name": "Referral Source",
         "dtype": "object",
         "stats": {
          "unique_count": 3,
          "nan_count": 0,
          "categories": [
           {
            "name": "other",
            "count": 9
           },
           {
            "name": "SVI",
            "count": 8
           },
           {
            "name": "SVHC",
            "count": 3
           }
          ]
         }
        },
        {
         "name": "Class ",
         "dtype": "object",
         "stats": {
          "unique_count": 20,
          "nan_count": 0,
          "categories": [
           {
            "name": "negative.|3733",
            "count": 1
           },
           {
            "name": "negative.|1442",
            "count": 1
           },
           {
            "name": "18 others",
            "count": 18
           }
          ]
         }
        },
        {
         "name": "_deepnote_index_column",
         "dtype": "int64"
        }
       ],
       "rows": [
        {
         "Age": "41",
         "Sex": "F",
         "On Thyroxine": "f",
         "Query on Thyroxine": "f",
         "On Antithyroid Medication": "f",
         "Sick": "f",
         "Pregnant": "f",
         "Thyroid Surgery": "f",
         "I131 Treatment": "f",
         "Query Hypothyroid": "f",
         "Query Hyperthyroid": "f",
         "Lithium": "f",
         "Goiter": "f",
         "Tumor": "f",
         "Hypopituitary": "f",
         "Psych": "f",
         "TSH Measured": "t",
         "TSH": "1.3",
         "T3 Measured": "t",
         "T3": "2.5",
         "TT4 Measured": "t",
         "TT4": "125",
         "T4U Measured": "t",
         "T4U": "1.14",
         "FTI Measured": "t",
         "FTI": "109",
         "TBG Measured": "f",
         "TBG": "?",
         "Referral Source": "SVHC",
         "Class ": "negative.|3733",
         "_deepnote_index_column": 0
        },
        {
         "Age": "23",
         "Sex": "F",
         "On Thyroxine": "f",
         "Query on Thyroxine": "f",
         "On Antithyroid Medication": "f",
         "Sick": "f",
         "Pregnant": "f",
         "Thyroid Surgery": "f",
         "I131 Treatment": "f",
         "Query Hypothyroid": "f",
         "Query Hyperthyroid": "f",
         "Lithium": "f",
         "Goiter": "f",
         "Tumor": "f",
         "Hypopituitary": "f",
         "Psych": "f",
         "TSH Measured": "t",
         "TSH": "4.1",
         "T3 Measured": "t",
         "T3": "2",
         "TT4 Measured": "t",
         "TT4": "102",
         "T4U Measured": "f",
         "T4U": "?",
         "FTI Measured": "f",
         "FTI": "?",
         "TBG Measured": "f",
         "TBG": "?",
         "Referral Source": "other",
         "Class ": "negative.|1442",
         "_deepnote_index_column": 1
        },
        {
         "Age": "46",
         "Sex": "M",
         "On Thyroxine": "f",
         "Query on Thyroxine": "f",
         "On Antithyroid Medication": "f",
         "Sick": "f",
         "Pregnant": "f",
         "Thyroid Surgery": "f",
         "I131 Treatment": "f",
         "Query Hypothyroid": "f",
         "Query Hyperthyroid": "f",
         "Lithium": "f",
         "Goiter": "f",
         "Tumor": "f",
         "Hypopituitary": "f",
         "Psych": "f",
         "TSH Measured": "t",
         "TSH": "0.98",
         "T3 Measured": "f",
         "T3": "?",
         "TT4 Measured": "t",
         "TT4": "109",
         "T4U Measured": "t",
         "T4U": "0.91",
         "FTI Measured": "t",
         "FTI": "120",
         "TBG Measured": "f",
         "TBG": "?",
         "Referral Source": "other",
         "Class ": "negative.|2965",
         "_deepnote_index_column": 2
        },
        {
         "Age": "70",
         "Sex": "F",
         "On Thyroxine": "t",
         "Query on Thyroxine": "f",
         "On Antithyroid Medication": "f",
         "Sick": "f",
         "Pregnant": "f",
         "Thyroid Surgery": "f",
         "I131 Treatment": "f",
         "Query Hypothyroid": "f",
         "Query Hyperthyroid": "f",
         "Lithium": "f",
         "Goiter": "f",
         "Tumor": "f",
         "Hypopituitary": "f",
         "Psych": "f",
         "TSH Measured": "t",
         "TSH": "0.16",
         "T3 Measured": "t",
         "T3": "1.9",
         "TT4 Measured": "t",
         "TT4": "175",
         "T4U Measured": "f",
         "T4U": "?",
         "FTI Measured": "f",
         "FTI": "?",
         "TBG Measured": "f",
         "TBG": "?",
         "Referral Source": "other",
         "Class ": "negative.|806",
         "_deepnote_index_column": 3
        },
        {
         "Age": "70",
         "Sex": "F",
         "On Thyroxine": "f",
         "Query on Thyroxine": "f",
         "On Antithyroid Medication": "f",
         "Sick": "f",
         "Pregnant": "f",
         "Thyroid Surgery": "f",
         "I131 Treatment": "f",
         "Query Hypothyroid": "f",
         "Query Hyperthyroid": "f",
         "Lithium": "f",
         "Goiter": "f",
         "Tumor": "f",
         "Hypopituitary": "f",
         "Psych": "f",
         "TSH Measured": "t",
         "TSH": "0.72",
         "T3 Measured": "t",
         "T3": "1.2",
         "TT4 Measured": "t",
         "TT4": "61",
         "T4U Measured": "t",
         "T4U": "0.87",
         "FTI Measured": "t",
         "FTI": "70",
         "TBG Measured": "f",
         "TBG": "?",
         "Referral Source": "SVI",
         "Class ": "negative.|2807",
         "_deepnote_index_column": 4
        },
        {
         "Age": "18",
         "Sex": "F",
         "On Thyroxine": "t",
         "Query on Thyroxine": "f",
         "On Antithyroid Medication": "f",
         "Sick": "f",
         "Pregnant": "f",
         "Thyroid Surgery": "f",
         "I131 Treatment": "f",
         "Query Hypothyroid": "f",
         "Query Hyperthyroid": "f",
         "Lithium": "f",
         "Goiter": "f",
         "Tumor": "f",
         "Hypopituitary": "f",
         "Psych": "f",
         "TSH Measured": "t",
         "TSH": "0.03",
         "T3 Measured": "f",
         "T3": "?",
         "TT4 Measured": "t",
         "TT4": "183",
         "T4U Measured": "t",
         "T4U": "1.3",
         "FTI Measured": "t",
         "FTI": "141",
         "TBG Measured": "f",
         "TBG": "?",
         "Referral Source": "other",
         "Class ": "negative.|3434",
         "_deepnote_index_column": 5
        },
        {
         "Age": "59",
         "Sex": "F",
         "On Thyroxine": "f",
         "Query on Thyroxine": "f",
         "On Antithyroid Medication": "f",
         "Sick": "f",
         "Pregnant": "f",
         "Thyroid Surgery": "f",
         "I131 Treatment": "f",
         "Query Hypothyroid": "f",
         "Query Hyperthyroid": "f",
         "Lithium": "f",
         "Goiter": "f",
         "Tumor": "f",
         "Hypopituitary": "f",
         "Psych": "f",
         "TSH Measured": "f",
         "TSH": "?",
         "T3 Measured": "f",
         "T3": "?",
         "TT4 Measured": "t",
         "TT4": "72",
         "T4U Measured": "t",
         "T4U": "0.92",
         "FTI Measured": "t",
         "FTI": "78",
         "TBG Measured": "f",
         "TBG": "?",
         "Referral Source": "other",
         "Class ": "negative.|1595",
         "_deepnote_index_column": 6
        },
        {
         "Age": "80",
         "Sex": "F",
         "On Thyroxine": "f",
         "Query on Thyroxine": "f",
         "On Antithyroid Medication": "f",
         "Sick": "f",
         "Pregnant": "f",
         "Thyroid Surgery": "f",
         "I131 Treatment": "f",
         "Query Hypothyroid": "f",
         "Query Hyperthyroid": "f",
         "Lithium": "f",
         "Goiter": "f",
         "Tumor": "f",
         "Hypopituitary": "f",
         "Psych": "f",
         "TSH Measured": "t",
         "TSH": "2.2",
         "T3 Measured": "t",
         "T3": "0.6",
         "TT4 Measured": "t",
         "TT4": "80",
         "T4U Measured": "t",
         "T4U": "0.7",
         "FTI Measured": "t",
         "FTI": "115",
         "TBG Measured": "f",
         "TBG": "?",
         "Referral Source": "SVI",
         "Class ": "negative.|1367",
         "_deepnote_index_column": 7
        },
        {
         "Age": "66",
         "Sex": "F",
         "On Thyroxine": "f",
         "Query on Thyroxine": "f",
         "On Antithyroid Medication": "f",
         "Sick": "f",
         "Pregnant": "f",
         "Thyroid Surgery": "f",
         "I131 Treatment": "f",
         "Query Hypothyroid": "f",
         "Query Hyperthyroid": "f",
         "Lithium": "f",
         "Goiter": "f",
         "Tumor": "t",
         "Hypopituitary": "f",
         "Psych": "f",
         "TSH Measured": "t",
         "TSH": "0.6",
         "T3 Measured": "t",
         "T3": "2.2",
         "TT4 Measured": "t",
         "TT4": "123",
         "T4U Measured": "t",
         "T4U": "0.93",
         "FTI Measured": "t",
         "FTI": "132",
         "TBG Measured": "f",
         "TBG": "?",
         "Referral Source": "SVI",
         "Class ": "negative.|1787",
         "_deepnote_index_column": 8
        },
        {
         "Age": "68",
         "Sex": "M",
         "On Thyroxine": "f",
         "Query on Thyroxine": "f",
         "On Antithyroid Medication": "f",
         "Sick": "f",
         "Pregnant": "f",
         "Thyroid Surgery": "f",
         "I131 Treatment": "f",
         "Query Hypothyroid": "f",
         "Query Hyperthyroid": "f",
         "Lithium": "f",
         "Goiter": "f",
         "Tumor": "f",
         "Hypopituitary": "f",
         "Psych": "f",
         "TSH Measured": "t",
         "TSH": "2.4",
         "T3 Measured": "t",
         "T3": "1.6",
         "TT4 Measured": "t",
         "TT4": "83",
         "T4U Measured": "t",
         "T4U": "0.89",
         "FTI Measured": "t",
         "FTI": "93",
         "TBG Measured": "f",
         "TBG": "?",
         "Referral Source": "SVI",
         "Class ": "negative.|2534",
         "_deepnote_index_column": 9
        }
       ]
      },
      "text/plain": "   Age Sex On Thyroxine Query on Thyroxine On Antithyroid Medication Sick  \\\n0   41   F            f                  f                         f    f   \n1   23   F            f                  f                         f    f   \n2   46   M            f                  f                         f    f   \n3   70   F            t                  f                         f    f   \n4   70   F            f                  f                         f    f   \n5   18   F            t                  f                         f    f   \n6   59   F            f                  f                         f    f   \n7   80   F            f                  f                         f    f   \n8   66   F            f                  f                         f    f   \n9   68   M            f                  f                         f    f   \n10  84   F            f                  f                         f    f   \n11  67   F            t                  f                         f    f   \n12  71   F            f                  f                         f    t   \n13  59   F            f                  f                         f    f   \n14  28   M            f                  f                         f    f   \n15  65   F            f                  f                         f    f   \n16  42   ?            f                  f                         f    f   \n17  63   F            f                  f                         f    f   \n18  80   F            f                  f                         f    f   \n19  28   M            f                  f                         f    f   \n\n   Pregnant Thyroid Surgery I131 Treatment Query Hypothyroid  ...  \\\n0         f               f              f                 f  ...   \n1         f               f              f                 f  ...   \n2         f               f              f                 f  ...   \n3         f               f              f                 f  ...   \n4         f               f              f                 f  ...   \n5         f               f              f                 f  ...   \n6         f               f              f                 f  ...   \n7         f               f              f                 f  ...   \n8         f               f              f                 f  ...   \n9         f               f              f                 f  ...   \n10        f               f              f                 f  ...   \n11        f               f              f                 f  ...   \n12        f               f              f                 f  ...   \n13        f               f              f                 f  ...   \n14        f               f              f                 f  ...   \n15        f               f              f                 t  ...   \n16        f               f              f                 f  ...   \n17        f               f              f                 f  ...   \n18        f               f              f                 f  ...   \n19        f               f              f                 f  ...   \n\n   TT4 Measured  TT4 T4U Measured   T4U FTI Measured  FTI TBG Measured TBG  \\\n0             t  125            t  1.14            t  109            f   ?   \n1             t  102            f     ?            f    ?            f   ?   \n2             t  109            t  0.91            t  120            f   ?   \n3             t  175            f     ?            f    ?            f   ?   \n4             t   61            t  0.87            t   70            f   ?   \n5             t  183            t   1.3            t  141            f   ?   \n6             t   72            t  0.92            t   78            f   ?   \n7             t   80            t   0.7            t  115            f   ?   \n8             t  123            t  0.93            t  132            f   ?   \n9             t   83            t  0.89            t   93            f   ?   \n10            t  115            t  0.95            t  121            f   ?   \n11            t  152            t  0.99            t  153            f   ?   \n12            t  171            t  1.13            t  151            f   ?   \n13            t   97            t  0.91            t  107            f   ?   \n14            t  109            t  0.91            t  119            f   ?   \n15            t   99            t  1.14            t   87            f   ?   \n16            t   70            t  0.86            t   81            f   ?   \n17            t  117            t  0.96            t  121            f   ?   \n18            t   99            t  0.95            t  104            f   ?   \n19            t  121            t  0.94            t  130            f   ?   \n\n   Referral Source                         Class   \n0             SVHC                 negative.|3733  \n1            other                 negative.|1442  \n2            other                 negative.|2965  \n3            other                  negative.|806  \n4              SVI                 negative.|2807  \n5            other                 negative.|3434  \n6            other                 negative.|1595  \n7              SVI                 negative.|1367  \n8              SVI                 negative.|1787  \n9              SVI                 negative.|2534  \n10             SVI                 negative.|1485  \n11           other                 negative.|3448  \n12           other                 negative.|1027  \n13             SVI                 negative.|3331  \n14            SVHC                 negative.|2043  \n15           other  compensated hypothyroid.|3169  \n16           other                 negative.|2755  \n17             SVI                 negative.|1010  \n18             SVI                  negative.|803  \n19            SVHC                 negative.|2297  \n\n[20 rows x 30 columns]",
      "text/html": "<div>\n<style scoped>\n    .dataframe tbody tr th:only-of-type {\n        vertical-align: middle;\n    }\n\n    .dataframe tbody tr th {\n        vertical-align: top;\n    }\n\n    .dataframe thead th {\n        text-align: right;\n    }\n</style>\n<table border=\"1\" class=\"dataframe\">\n  <thead>\n    <tr style=\"text-align: right;\">\n      <th></th>\n      <th>Age</th>\n      <th>Sex</th>\n      <th>On Thyroxine</th>\n      <th>Query on Thyroxine</th>\n      <th>On Antithyroid Medication</th>\n      <th>Sick</th>\n      <th>Pregnant</th>\n      <th>Thyroid Surgery</th>\n      <th>I131 Treatment</th>\n      <th>Query Hypothyroid</th>\n      <th>...</th>\n      <th>TT4 Measured</th>\n      <th>TT4</th>\n      <th>T4U Measured</th>\n      <th>T4U</th>\n      <th>FTI Measured</th>\n      <th>FTI</th>\n      <th>TBG Measured</th>\n      <th>TBG</th>\n      <th>Referral Source</th>\n      <th>Class</th>\n    </tr>\n  </thead>\n  <tbody>\n    <tr>\n      <th>0</th>\n      <td>41</td>\n      <td>F</td>\n      <td>f</td>\n      <td>f</td>\n      <td>f</td>\n      <td>f</td>\n      <td>f</td>\n      <td>f</td>\n      <td>f</td>\n      <td>f</td>\n      <td>...</td>\n      <td>t</td>\n      <td>125</td>\n      <td>t</td>\n      <td>1.14</td>\n      <td>t</td>\n      <td>109</td>\n      <td>f</td>\n      <td>?</td>\n      <td>SVHC</td>\n      <td>negative.|3733</td>\n    </tr>\n    <tr>\n      <th>1</th>\n      <td>23</td>\n      <td>F</td>\n      <td>f</td>\n      <td>f</td>\n      <td>f</td>\n      <td>f</td>\n      <td>f</td>\n      <td>f</td>\n      <td>f</td>\n      <td>f</td>\n      <td>...</td>\n      <td>t</td>\n      <td>102</td>\n      <td>f</td>\n      <td>?</td>\n      <td>f</td>\n      <td>?</td>\n      <td>f</td>\n      <td>?</td>\n      <td>other</td>\n      <td>negative.|1442</td>\n    </tr>\n    <tr>\n      <th>2</th>\n      <td>46</td>\n      <td>M</td>\n      <td>f</td>\n      <td>f</td>\n      <td>f</td>\n      <td>f</td>\n      <td>f</td>\n      <td>f</td>\n      <td>f</td>\n      <td>f</td>\n      <td>...</td>\n      <td>t</td>\n      <td>109</td>\n      <td>t</td>\n      <td>0.91</td>\n      <td>t</td>\n      <td>120</td>\n      <td>f</td>\n      <td>?</td>\n      <td>other</td>\n      <td>negative.|2965</td>\n    </tr>\n    <tr>\n      <th>3</th>\n      <td>70</td>\n      <td>F</td>\n      <td>t</td>\n      <td>f</td>\n      <td>f</td>\n      <td>f</td>\n      <td>f</td>\n      <td>f</td>\n      <td>f</td>\n      <td>f</td>\n      <td>...</td>\n      <td>t</td>\n      <td>175</td>\n      <td>f</td>\n      <td>?</td>\n      <td>f</td>\n      <td>?</td>\n      <td>f</td>\n      <td>?</td>\n      <td>other</td>\n      <td>negative.|806</td>\n    </tr>\n    <tr>\n      <th>4</th>\n      <td>70</td>\n      <td>F</td>\n      <td>f</td>\n      <td>f</td>\n      <td>f</td>\n      <td>f</td>\n      <td>f</td>\n      <td>f</td>\n      <td>f</td>\n      <td>f</td>\n      <td>...</td>\n      <td>t</td>\n      <td>61</td>\n      <td>t</td>\n      <td>0.87</td>\n      <td>t</td>\n      <td>70</td>\n      <td>f</td>\n      <td>?</td>\n      <td>SVI</td>\n      <td>negative.|2807</td>\n    </tr>\n    <tr>\n      <th>5</th>\n      <td>18</td>\n      <td>F</td>\n      <td>t</td>\n      <td>f</td>\n      <td>f</td>\n      <td>f</td>\n      <td>f</td>\n      <td>f</td>\n      <td>f</td>\n      <td>f</td>\n      <td>...</td>\n      <td>t</td>\n      <td>183</td>\n      <td>t</td>\n      <td>1.3</td>\n      <td>t</td>\n      <td>141</td>\n      <td>f</td>\n      <td>?</td>\n      <td>other</td>\n      <td>negative.|3434</td>\n    </tr>\n    <tr>\n      <th>6</th>\n      <td>59</td>\n      <td>F</td>\n      <td>f</td>\n      <td>f</td>\n      <td>f</td>\n      <td>f</td>\n      <td>f</td>\n      <td>f</td>\n      <td>f</td>\n      <td>f</td>\n      <td>...</td>\n      <td>t</td>\n      <td>72</td>\n      <td>t</td>\n      <td>0.92</td>\n      <td>t</td>\n      <td>78</td>\n      <td>f</td>\n      <td>?</td>\n      <td>other</td>\n      <td>negative.|1595</td>\n    </tr>\n    <tr>\n      <th>7</th>\n      <td>80</td>\n      <td>F</td>\n      <td>f</td>\n      <td>f</td>\n      <td>f</td>\n      <td>f</td>\n      <td>f</td>\n      <td>f</td>\n      <td>f</td>\n      <td>f</td>\n      <td>...</td>\n      <td>t</td>\n      <td>80</td>\n      <td>t</td>\n      <td>0.7</td>\n      <td>t</td>\n      <td>115</td>\n      <td>f</td>\n      <td>?</td>\n      <td>SVI</td>\n      <td>negative.|1367</td>\n    </tr>\n    <tr>\n      <th>8</th>\n      <td>66</td>\n      <td>F</td>\n      <td>f</td>\n      <td>f</td>\n      <td>f</td>\n      <td>f</td>\n      <td>f</td>\n      <td>f</td>\n      <td>f</td>\n      <td>f</td>\n      <td>...</td>\n      <td>t</td>\n      <td>123</td>\n      <td>t</td>\n      <td>0.93</td>\n      <td>t</td>\n      <td>132</td>\n      <td>f</td>\n      <td>?</td>\n      <td>SVI</td>\n      <td>negative.|1787</td>\n    </tr>\n    <tr>\n      <th>9</th>\n      <td>68</td>\n      <td>M</td>\n      <td>f</td>\n      <td>f</td>\n      <td>f</td>\n      <td>f</td>\n      <td>f</td>\n      <td>f</td>\n      <td>f</td>\n      <td>f</td>\n      <td>...</td>\n      <td>t</td>\n      <td>83</td>\n      <td>t</td>\n      <td>0.89</td>\n      <td>t</td>\n      <td>93</td>\n      <td>f</td>\n      <td>?</td>\n      <td>SVI</td>\n      <td>negative.|2534</td>\n    </tr>\n    <tr>\n      <th>10</th>\n      <td>84</td>\n      <td>F</td>\n      <td>f</td>\n      <td>f</td>\n      <td>f</td>\n      <td>f</td>\n      <td>f</td>\n      <td>f</td>\n      <td>f</td>\n      <td>f</td>\n      <td>...</td>\n      <td>t</td>\n      <td>115</td>\n      <td>t</td>\n      <td>0.95</td>\n      <td>t</td>\n      <td>121</td>\n      <td>f</td>\n      <td>?</td>\n      <td>SVI</td>\n      <td>negative.|1485</td>\n    </tr>\n    <tr>\n      <th>11</th>\n      <td>67</td>\n      <td>F</td>\n      <td>t</td>\n      <td>f</td>\n      <td>f</td>\n      <td>f</td>\n      <td>f</td>\n      <td>f</td>\n      <td>f</td>\n      <td>f</td>\n      <td>...</td>\n      <td>t</td>\n      <td>152</td>\n      <td>t</td>\n      <td>0.99</td>\n      <td>t</td>\n      <td>153</td>\n      <td>f</td>\n      <td>?</td>\n      <td>other</td>\n      <td>negative.|3448</td>\n    </tr>\n    <tr>\n      <th>12</th>\n      <td>71</td>\n      <td>F</td>\n      <td>f</td>\n      <td>f</td>\n      <td>f</td>\n      <td>t</td>\n      <td>f</td>\n      <td>f</td>\n      <td>f</td>\n      <td>f</td>\n      <td>...</td>\n      <td>t</td>\n      <td>171</td>\n      <td>t</td>\n      <td>1.13</td>\n      <td>t</td>\n      <td>151</td>\n      <td>f</td>\n      <td>?</td>\n      <td>other</td>\n      <td>negative.|1027</td>\n    </tr>\n    <tr>\n      <th>13</th>\n      <td>59</td>\n      <td>F</td>\n      <td>f</td>\n      <td>f</td>\n      <td>f</td>\n      <td>f</td>\n      <td>f</td>\n      <td>f</td>\n      <td>f</td>\n      <td>f</td>\n      <td>...</td>\n      <td>t</td>\n      <td>97</td>\n      <td>t</td>\n      <td>0.91</td>\n      <td>t</td>\n      <td>107</td>\n      <td>f</td>\n      <td>?</td>\n      <td>SVI</td>\n      <td>negative.|3331</td>\n    </tr>\n    <tr>\n      <th>14</th>\n      <td>28</td>\n      <td>M</td>\n      <td>f</td>\n      <td>f</td>\n      <td>f</td>\n      <td>f</td>\n      <td>f</td>\n      <td>f</td>\n      <td>f</td>\n      <td>f</td>\n      <td>...</td>\n      <td>t</td>\n      <td>109</td>\n      <td>t</td>\n      <td>0.91</td>\n      <td>t</td>\n      <td>119</td>\n      <td>f</td>\n      <td>?</td>\n      <td>SVHC</td>\n      <td>negative.|2043</td>\n    </tr>\n    <tr>\n      <th>15</th>\n      <td>65</td>\n      <td>F</td>\n      <td>f</td>\n      <td>f</td>\n      <td>f</td>\n      <td>f</td>\n      <td>f</td>\n      <td>f</td>\n      <td>f</td>\n      <td>t</td>\n      <td>...</td>\n      <td>t</td>\n      <td>99</td>\n      <td>t</td>\n      <td>1.14</td>\n      <td>t</td>\n      <td>87</td>\n      <td>f</td>\n      <td>?</td>\n      <td>other</td>\n      <td>compensated hypothyroid.|3169</td>\n    </tr>\n    <tr>\n      <th>16</th>\n      <td>42</td>\n      <td>?</td>\n      <td>f</td>\n      <td>f</td>\n      <td>f</td>\n      <td>f</td>\n      <td>f</td>\n      <td>f</td>\n      <td>f</td>\n      <td>f</td>\n      <td>...</td>\n      <td>t</td>\n      <td>70</td>\n      <td>t</td>\n      <td>0.86</td>\n      <td>t</td>\n      <td>81</td>\n      <td>f</td>\n      <td>?</td>\n      <td>other</td>\n      <td>negative.|2755</td>\n    </tr>\n    <tr>\n      <th>17</th>\n      <td>63</td>\n      <td>F</td>\n      <td>f</td>\n      <td>f</td>\n      <td>f</td>\n      <td>f</td>\n      <td>f</td>\n      <td>f</td>\n      <td>f</td>\n      <td>f</td>\n      <td>...</td>\n      <td>t</td>\n      <td>117</td>\n      <td>t</td>\n      <td>0.96</td>\n      <td>t</td>\n      <td>121</td>\n      <td>f</td>\n      <td>?</td>\n      <td>SVI</td>\n      <td>negative.|1010</td>\n    </tr>\n    <tr>\n      <th>18</th>\n      <td>80</td>\n      <td>F</td>\n      <td>f</td>\n      <td>f</td>\n      <td>f</td>\n      <td>f</td>\n      <td>f</td>\n      <td>f</td>\n      <td>f</td>\n      <td>f</td>\n      <td>...</td>\n      <td>t</td>\n      <td>99</td>\n      <td>t</td>\n      <td>0.95</td>\n      <td>t</td>\n      <td>104</td>\n      <td>f</td>\n      <td>?</td>\n      <td>SVI</td>\n      <td>negative.|803</td>\n    </tr>\n    <tr>\n      <th>19</th>\n      <td>28</td>\n      <td>M</td>\n      <td>f</td>\n      <td>f</td>\n      <td>f</td>\n      <td>f</td>\n      <td>f</td>\n      <td>f</td>\n      <td>f</td>\n      <td>f</td>\n      <td>...</td>\n      <td>t</td>\n      <td>121</td>\n      <td>t</td>\n      <td>0.94</td>\n      <td>t</td>\n      <td>130</td>\n      <td>f</td>\n      <td>?</td>\n      <td>SVHC</td>\n      <td>negative.|2297</td>\n    </tr>\n  </tbody>\n</table>\n<p>20 rows × 30 columns</p>\n</div>"
     },
     "metadata": {}
    }
   ],
   "execution_count": null
  },
  {
   "cell_type": "markdown",
   "source": "Great, looks like the data loaded in properly. Let's continue looking at some summary statistics on our data.",
   "metadata": {
    "colab_type": "text",
    "id": "tYhtoqdR6Y3J",
    "cell_id": "00005-f0353135-7fee-4c88-96f3-1874b7fd9b18",
    "deepnote_cell_type": "markdown",
    "deepnote_cell_height": 52.375
   }
  },
  {
   "cell_type": "markdown",
   "source": "## Viewing summary statistics\nThe functions describe() and info() are your friends",
   "metadata": {
    "colab_type": "text",
    "id": "sGKbG-eBqBjF",
    "cell_id": "00006-86706ee1-5d51-44f9-847b-471d75f7193c",
    "deepnote_cell_type": "markdown",
    "deepnote_cell_height": 108.375
   }
  },
  {
   "cell_type": "code",
   "metadata": {
    "colab": {
     "autoexec": {
      "startup": false,
      "wait_interval": 0
     }
    },
    "colab_type": "code",
    "id": "rnp3nN9b6ZNw",
    "cell_id": "00007-6c5d1792-60ac-4055-a37e-481025d882bf",
    "deepnote_to_be_reexecuted": false,
    "source_hash": "f5acf3f1",
    "execution_start": 1657916769664,
    "execution_millis": 183,
    "deepnote_cell_type": "code",
    "deepnote_cell_height": 371.921875
   },
   "source": "# output high-level column statistics\ndataset.describe()",
   "outputs": [
    {
     "output_type": "execute_result",
     "execution_count": 2,
     "data": {
      "application/vnd.deepnote.dataframe.v3+json": {
       "column_count": 30,
       "row_count": 4,
       "columns": [
        {
         "name": "Age",
         "dtype": "object",
         "stats": {
          "unique_count": 4,
          "nan_count": 0,
          "categories": [
           {
            "name": "2800",
            "count": 1
           },
           {
            "name": "94",
            "count": 1
           },
           {
            "name": "2 others",
            "count": 2
           }
          ]
         }
        },
        {
         "name": "Sex",
         "dtype": "object",
         "stats": {
          "unique_count": 4,
          "nan_count": 0,
          "categories": [
           {
            "name": "2800",
            "count": 1
           },
           {
            "name": "3",
            "count": 1
           },
           {
            "name": "2 others",
            "count": 2
           }
          ]
         }
        },
        {
         "name": "On Thyroxine",
         "dtype": "object",
         "stats": {
          "unique_count": 4,
          "nan_count": 0,
          "categories": [
           {
            "name": "2800",
            "count": 1
           },
           {
            "name": "2",
            "count": 1
           },
           {
            "name": "2 others",
            "count": 2
           }
          ]
         }
        },
        {
         "name": "Query on Thyroxine",
         "dtype": "object",
         "stats": {
          "unique_count": 4,
          "nan_count": 0,
          "categories": [
           {
            "name": "2800",
            "count": 1
           },
           {
            "name": "2",
            "count": 1
           },
           {
            "name": "2 others",
            "count": 2
           }
          ]
         }
        },
        {
         "name": "On Antithyroid Medication",
         "dtype": "object",
         "stats": {
          "unique_count": 4,
          "nan_count": 0,
          "categories": [
           {
            "name": "2800",
            "count": 1
           },
           {
            "name": "2",
            "count": 1
           },
           {
            "name": "2 others",
            "count": 2
           }
          ]
         }
        },
        {
         "name": "Sick",
         "dtype": "object",
         "stats": {
          "unique_count": 4,
          "nan_count": 0,
          "categories": [
           {
            "name": "2800",
            "count": 1
           },
           {
            "name": "2",
            "count": 1
           },
           {
            "name": "2 others",
            "count": 2
           }
          ]
         }
        },
        {
         "name": "Pregnant",
         "dtype": "object",
         "stats": {
          "unique_count": 4,
          "nan_count": 0,
          "categories": [
           {
            "name": "2800",
            "count": 1
           },
           {
            "name": "2",
            "count": 1
           },
           {
            "name": "2 others",
            "count": 2
           }
          ]
         }
        },
        {
         "name": "Thyroid Surgery",
         "dtype": "object",
         "stats": {
          "unique_count": 4,
          "nan_count": 0,
          "categories": [
           {
            "name": "2800",
            "count": 1
           },
           {
            "name": "2",
            "count": 1
           },
           {
            "name": "2 others",
            "count": 2
           }
          ]
         }
        },
        {
         "name": "I131 Treatment",
         "dtype": "object",
         "stats": {
          "unique_count": 4,
          "nan_count": 0,
          "categories": [
           {
            "name": "2800",
            "count": 1
           },
           {
            "name": "2",
            "count": 1
           },
           {
            "name": "2 others",
            "count": 2
           }
          ]
         }
        },
        {
         "name": "Query Hypothyroid",
         "dtype": "object",
         "stats": {
          "unique_count": 4,
          "nan_count": 0,
          "categories": [
           {
            "name": "2800",
            "count": 1
           },
           {
            "name": "2",
            "count": 1
           },
           {
            "name": "2 others",
            "count": 2
           }
          ]
         }
        },
        {
         "name": "Query Hyperthyroid",
         "dtype": "object",
         "stats": {
          "unique_count": 4,
          "nan_count": 0,
          "categories": [
           {
            "name": "2800",
            "count": 1
           },
           {
            "name": "2",
            "count": 1
           },
           {
            "name": "2 others",
            "count": 2
           }
          ]
         }
        },
        {
         "name": "Lithium",
         "dtype": "object",
         "stats": {
          "unique_count": 4,
          "nan_count": 0,
          "categories": [
           {
            "name": "2800",
            "count": 1
           },
           {
            "name": "2",
            "count": 1
           },
           {
            "name": "2 others",
            "count": 2
           }
          ]
         }
        },
        {
         "name": "Goiter",
         "dtype": "object",
         "stats": {
          "unique_count": 4,
          "nan_count": 0,
          "categories": [
           {
            "name": "2800",
            "count": 1
           },
           {
            "name": "2",
            "count": 1
           },
           {
            "name": "2 others",
            "count": 2
           }
          ]
         }
        },
        {
         "name": "Tumor",
         "dtype": "object",
         "stats": {
          "unique_count": 4,
          "nan_count": 0,
          "categories": [
           {
            "name": "2800",
            "count": 1
           },
           {
            "name": "2",
            "count": 1
           },
           {
            "name": "2 others",
            "count": 2
           }
          ]
         }
        },
        {
         "name": "Hypopituitary",
         "dtype": "object",
         "stats": {
          "unique_count": 4,
          "nan_count": 0,
          "categories": [
           {
            "name": "2800",
            "count": 1
           },
           {
            "name": "2",
            "count": 1
           },
           {
            "name": "2 others",
            "count": 2
           }
          ]
         }
        },
        {
         "name": "Psych",
         "dtype": "object",
         "stats": {
          "unique_count": 4,
          "nan_count": 0,
          "categories": [
           {
            "name": "2800",
            "count": 1
           },
           {
            "name": "2",
            "count": 1
           },
           {
            "name": "2 others",
            "count": 2
           }
          ]
         }
        },
        {
         "name": "TSH Measured",
         "dtype": "object",
         "stats": {
          "unique_count": 4,
          "nan_count": 0,
          "categories": [
           {
            "name": "2800",
            "count": 1
           },
           {
            "name": "2",
            "count": 1
           },
           {
            "name": "2 others",
            "count": 2
           }
          ]
         }
        },
        {
         "name": "TSH",
         "dtype": "object",
         "stats": {
          "unique_count": 4,
          "nan_count": 0,
          "categories": [
           {
            "name": "2800",
            "count": 1
           },
           {
            "name": "264",
            "count": 1
           },
           {
            "name": "2 others",
            "count": 2
           }
          ]
         }
        },
        {
         "name": "T3 Measured",
         "dtype": "object",
         "stats": {
          "unique_count": 4,
          "nan_count": 0,
          "categories": [
           {
            "name": "2800",
            "count": 1
           },
           {
            "name": "2",
            "count": 1
           },
           {
            "name": "2 others",
            "count": 2
           }
          ]
         }
        },
        {
         "name": "T3",
         "dtype": "object",
         "stats": {
          "unique_count": 4,
          "nan_count": 0,
          "categories": [
           {
            "name": "2800",
            "count": 1
           },
           {
            "name": "65",
            "count": 1
           },
           {
            "name": "2 others",
            "count": 2
           }
          ]
         }
        },
        {
         "name": "TT4 Measured",
         "dtype": "object",
         "stats": {
          "unique_count": 4,
          "nan_count": 0,
          "categories": [
           {
            "name": "2800",
            "count": 1
           },
           {
            "name": "2",
            "count": 1
           },
           {
            "name": "2 others",
            "count": 2
           }
          ]
         }
        },
        {
         "name": "TT4",
         "dtype": "object",
         "stats": {
          "unique_count": 4,
          "nan_count": 0,
          "categories": [
           {
            "name": "2800",
            "count": 1
           },
           {
            "name": "218",
            "count": 1
           },
           {
            "name": "2 others",
            "count": 2
           }
          ]
         }
        },
        {
         "name": "T4U Measured",
         "dtype": "object",
         "stats": {
          "unique_count": 4,
          "nan_count": 0,
          "categories": [
           {
            "name": "2800",
            "count": 1
           },
           {
            "name": "2",
            "count": 1
           },
           {
            "name": "2 others",
            "count": 2
           }
          ]
         }
        },
        {
         "name": "T4U",
         "dtype": "object",
         "stats": {
          "unique_count": 4,
          "nan_count": 0,
          "categories": [
           {
            "name": "2800",
            "count": 1
           },
           {
            "name": "139",
            "count": 1
           },
           {
            "name": "2 others",
            "count": 2
           }
          ]
         }
        },
        {
         "name": "FTI Measured",
         "dtype": "object",
         "stats": {
          "unique_count": 4,
          "nan_count": 0,
          "categories": [
           {
            "name": "2800",
            "count": 1
           },
           {
            "name": "2",
            "count": 1
           },
           {
            "name": "2 others",
            "count": 2
           }
          ]
         }
        },
        {
         "name": "FTI",
         "dtype": "object",
         "stats": {
          "unique_count": 4,
          "nan_count": 0,
          "categories": [
           {
            "name": "2800",
            "count": 1
           },
           {
            "name": "210",
            "count": 1
           },
           {
            "name": "2 others",
            "count": 2
           }
          ]
         }
        },
        {
         "name": "TBG Measured",
         "dtype": "object",
         "stats": {
          "unique_count": 3,
          "nan_count": 0,
          "categories": [
           {
            "name": "2800",
            "count": 2
           },
           {
            "name": "1",
            "count": 1
           },
           {
            "name": "f",
            "count": 1
           }
          ]
         }
        },
        {
         "name": "TBG",
         "dtype": "object",
         "stats": {
          "unique_count": 3,
          "nan_count": 0,
          "categories": [
           {
            "name": "2800",
            "count": 2
           },
           {
            "name": "1",
            "count": 1
           },
           {
            "name": "?",
            "count": 1
           }
          ]
         }
        },
        {
         "name": "Referral Source",
         "dtype": "object",
         "stats": {
          "unique_count": 4,
          "nan_count": 0,
          "categories": [
           {
            "name": "2800",
            "count": 1
           },
           {
            "name": "5",
            "count": 1
           },
           {
            "name": "2 others",
            "count": 2
           }
          ]
         }
        },
        {
         "name": "Class ",
         "dtype": "object",
         "stats": {
          "unique_count": 3,
          "nan_count": 0,
          "categories": [
           {
            "name": "2800",
            "count": 2
           },
           {
            "name": "negative.|1674",
            "count": 1
           },
           {
            "name": "1",
            "count": 1
           }
          ]
         }
        },
        {
         "name": "_deepnote_index_column",
         "dtype": "object"
        }
       ],
       "rows": [
        {
         "Age": "2800",
         "Sex": "2800",
         "On Thyroxine": "2800",
         "Query on Thyroxine": "2800",
         "On Antithyroid Medication": "2800",
         "Sick": "2800",
         "Pregnant": "2800",
         "Thyroid Surgery": "2800",
         "I131 Treatment": "2800",
         "Query Hypothyroid": "2800",
         "Query Hyperthyroid": "2800",
         "Lithium": "2800",
         "Goiter": "2800",
         "Tumor": "2800",
         "Hypopituitary": "2800",
         "Psych": "2800",
         "TSH Measured": "2800",
         "TSH": "2800",
         "T3 Measured": "2800",
         "T3": "2800",
         "TT4 Measured": "2800",
         "TT4": "2800",
         "T4U Measured": "2800",
         "T4U": "2800",
         "FTI Measured": "2800",
         "FTI": "2800",
         "TBG Measured": "2800",
         "TBG": "2800",
         "Referral Source": "2800",
         "Class ": "2800",
         "_deepnote_index_column": "count"
        },
        {
         "Age": "94",
         "Sex": "3",
         "On Thyroxine": "2",
         "Query on Thyroxine": "2",
         "On Antithyroid Medication": "2",
         "Sick": "2",
         "Pregnant": "2",
         "Thyroid Surgery": "2",
         "I131 Treatment": "2",
         "Query Hypothyroid": "2",
         "Query Hyperthyroid": "2",
         "Lithium": "2",
         "Goiter": "2",
         "Tumor": "2",
         "Hypopituitary": "2",
         "Psych": "2",
         "TSH Measured": "2",
         "TSH": "264",
         "T3 Measured": "2",
         "T3": "65",
         "TT4 Measured": "2",
         "TT4": "218",
         "T4U Measured": "2",
         "T4U": "139",
         "FTI Measured": "2",
         "FTI": "210",
         "TBG Measured": "1",
         "TBG": "1",
         "Referral Source": "5",
         "Class ": "2800",
         "_deepnote_index_column": "unique"
        },
        {
         "Age": "59",
         "Sex": "F",
         "On Thyroxine": "f",
         "Query on Thyroxine": "f",
         "On Antithyroid Medication": "f",
         "Sick": "f",
         "Pregnant": "f",
         "Thyroid Surgery": "f",
         "I131 Treatment": "f",
         "Query Hypothyroid": "f",
         "Query Hyperthyroid": "f",
         "Lithium": "f",
         "Goiter": "f",
         "Tumor": "f",
         "Hypopituitary": "f",
         "Psych": "f",
         "TSH Measured": "t",
         "TSH": "?",
         "T3 Measured": "t",
         "T3": "?",
         "TT4 Measured": "t",
         "TT4": "?",
         "T4U Measured": "t",
         "T4U": "?",
         "FTI Measured": "t",
         "FTI": "?",
         "TBG Measured": "f",
         "TBG": "?",
         "Referral Source": "other",
         "Class ": "negative.|1674",
         "_deepnote_index_column": "top"
        },
        {
         "Age": "75",
         "Sex": "1830",
         "On Thyroxine": "2470",
         "Query on Thyroxine": "2760",
         "On Antithyroid Medication": "2766",
         "Sick": "2690",
         "Pregnant": "2759",
         "Thyroid Surgery": "2761",
         "I131 Treatment": "2752",
         "Query Hypothyroid": "2637",
         "Query Hyperthyroid": "2627",
         "Lithium": "2786",
         "Goiter": "2775",
         "Tumor": "2729",
         "Hypopituitary": "2799",
         "Psych": "2665",
         "TSH Measured": "2516",
         "TSH": "284",
         "T3 Measured": "2215",
         "T3": "585",
         "TT4 Measured": "2616",
         "TT4": "184",
         "T4U Measured": "2503",
         "T4U": "297",
         "FTI Measured": "2505",
         "FTI": "295",
         "TBG Measured": "2800",
         "TBG": "2800",
         "Referral Source": "1632",
         "Class ": "1",
         "_deepnote_index_column": "freq"
        }
       ]
      },
      "text/plain": "         Age   Sex On Thyroxine Query on Thyroxine On Antithyroid Medication  \\\ncount   2800  2800         2800               2800                      2800   \nunique    94     3            2                  2                         2   \ntop       59     F            f                  f                         f   \nfreq      75  1830         2470               2760                      2766   \n\n        Sick Pregnant Thyroid Surgery I131 Treatment Query Hypothyroid  ...  \\\ncount   2800     2800            2800           2800              2800  ...   \nunique     2        2               2              2                 2  ...   \ntop        f        f               f              f                 f  ...   \nfreq    2690     2759            2761           2752              2637  ...   \n\n       TT4 Measured   TT4 T4U Measured   T4U FTI Measured   FTI TBG Measured  \\\ncount          2800  2800         2800  2800         2800  2800         2800   \nunique            2   218            2   139            2   210            1   \ntop               t     ?            t     ?            t     ?            f   \nfreq           2616   184         2503   297         2505   295         2800   \n\n         TBG Referral Source          Class   \ncount   2800            2800            2800  \nunique     1               5            2800  \ntop        ?           other  negative.|1674  \nfreq    2800            1632               1  \n\n[4 rows x 30 columns]",
      "text/html": "<div>\n<style scoped>\n    .dataframe tbody tr th:only-of-type {\n        vertical-align: middle;\n    }\n\n    .dataframe tbody tr th {\n        vertical-align: top;\n    }\n\n    .dataframe thead th {\n        text-align: right;\n    }\n</style>\n<table border=\"1\" class=\"dataframe\">\n  <thead>\n    <tr style=\"text-align: right;\">\n      <th></th>\n      <th>Age</th>\n      <th>Sex</th>\n      <th>On Thyroxine</th>\n      <th>Query on Thyroxine</th>\n      <th>On Antithyroid Medication</th>\n      <th>Sick</th>\n      <th>Pregnant</th>\n      <th>Thyroid Surgery</th>\n      <th>I131 Treatment</th>\n      <th>Query Hypothyroid</th>\n      <th>...</th>\n      <th>TT4 Measured</th>\n      <th>TT4</th>\n      <th>T4U Measured</th>\n      <th>T4U</th>\n      <th>FTI Measured</th>\n      <th>FTI</th>\n      <th>TBG Measured</th>\n      <th>TBG</th>\n      <th>Referral Source</th>\n      <th>Class</th>\n    </tr>\n  </thead>\n  <tbody>\n    <tr>\n      <th>count</th>\n      <td>2800</td>\n      <td>2800</td>\n      <td>2800</td>\n      <td>2800</td>\n      <td>2800</td>\n      <td>2800</td>\n      <td>2800</td>\n      <td>2800</td>\n      <td>2800</td>\n      <td>2800</td>\n      <td>...</td>\n      <td>2800</td>\n      <td>2800</td>\n      <td>2800</td>\n      <td>2800</td>\n      <td>2800</td>\n      <td>2800</td>\n      <td>2800</td>\n      <td>2800</td>\n      <td>2800</td>\n      <td>2800</td>\n    </tr>\n    <tr>\n      <th>unique</th>\n      <td>94</td>\n      <td>3</td>\n      <td>2</td>\n      <td>2</td>\n      <td>2</td>\n      <td>2</td>\n      <td>2</td>\n      <td>2</td>\n      <td>2</td>\n      <td>2</td>\n      <td>...</td>\n      <td>2</td>\n      <td>218</td>\n      <td>2</td>\n      <td>139</td>\n      <td>2</td>\n      <td>210</td>\n      <td>1</td>\n      <td>1</td>\n      <td>5</td>\n      <td>2800</td>\n    </tr>\n    <tr>\n      <th>top</th>\n      <td>59</td>\n      <td>F</td>\n      <td>f</td>\n      <td>f</td>\n      <td>f</td>\n      <td>f</td>\n      <td>f</td>\n      <td>f</td>\n      <td>f</td>\n      <td>f</td>\n      <td>...</td>\n      <td>t</td>\n      <td>?</td>\n      <td>t</td>\n      <td>?</td>\n      <td>t</td>\n      <td>?</td>\n      <td>f</td>\n      <td>?</td>\n      <td>other</td>\n      <td>negative.|1674</td>\n    </tr>\n    <tr>\n      <th>freq</th>\n      <td>75</td>\n      <td>1830</td>\n      <td>2470</td>\n      <td>2760</td>\n      <td>2766</td>\n      <td>2690</td>\n      <td>2759</td>\n      <td>2761</td>\n      <td>2752</td>\n      <td>2637</td>\n      <td>...</td>\n      <td>2616</td>\n      <td>184</td>\n      <td>2503</td>\n      <td>297</td>\n      <td>2505</td>\n      <td>295</td>\n      <td>2800</td>\n      <td>2800</td>\n      <td>1632</td>\n      <td>1</td>\n    </tr>\n  </tbody>\n</table>\n<p>4 rows × 30 columns</p>\n</div>"
     },
     "metadata": {}
    }
   ],
   "execution_count": null
  },
  {
   "cell_type": "code",
   "metadata": {
    "colab": {
     "autoexec": {
      "startup": false,
      "wait_interval": 0
     }
    },
    "colab_type": "code",
    "id": "9QndSspU7lW4",
    "cell_id": "00008-a391e6da-8ee5-454d-a730-ae11b3937f1a",
    "deepnote_to_be_reexecuted": false,
    "source_hash": "ecce977f",
    "execution_start": 1657916769860,
    "execution_millis": 22,
    "deepnote_cell_type": "code",
    "deepnote_cell_height": 718.953125
   },
   "source": "# output information about the data including the index dtype and column dtypes, non-null values and memory usage\ndataset.info()",
   "outputs": [
    {
     "name": "stdout",
     "text": "<class 'pandas.core.frame.DataFrame'>\nRangeIndex: 2800 entries, 0 to 2799\nData columns (total 30 columns):\n #   Column                     Non-Null Count  Dtype \n---  ------                     --------------  ----- \n 0   Age                        2800 non-null   object\n 1   Sex                        2800 non-null   object\n 2   On Thyroxine               2800 non-null   object\n 3   Query on Thyroxine         2800 non-null   object\n 4   On Antithyroid Medication  2800 non-null   object\n 5   Sick                       2800 non-null   object\n 6   Pregnant                   2800 non-null   object\n 7   Thyroid Surgery            2800 non-null   object\n 8   I131 Treatment             2800 non-null   object\n 9   Query Hypothyroid          2800 non-null   object\n 10  Query Hyperthyroid         2800 non-null   object\n 11  Lithium                    2800 non-null   object\n 12  Goiter                     2800 non-null   object\n 13  Tumor                      2800 non-null   object\n 14  Hypopituitary              2800 non-null   object\n 15  Psych                      2800 non-null   object\n 16  TSH Measured               2800 non-null   object\n 17  TSH                        2800 non-null   object\n 18  T3 Measured                2800 non-null   object\n 19  T3                         2800 non-null   object\n 20  TT4 Measured               2800 non-null   object\n 21  TT4                        2800 non-null   object\n 22  T4U Measured               2800 non-null   object\n 23  T4U                        2800 non-null   object\n 24  FTI Measured               2800 non-null   object\n 25  FTI                        2800 non-null   object\n 26  TBG Measured               2800 non-null   object\n 27  TBG                        2800 non-null   object\n 28  Referral Source            2800 non-null   object\n 29  Class                      2800 non-null   object\ndtypes: object(30)\nmemory usage: 656.4+ KB\n",
     "output_type": "stream"
    }
   ],
   "execution_count": null
  },
  {
   "cell_type": "markdown",
   "source": "Note the data types are all objects--even columns that are obviously numeric like Age. This is because there are \"?\" values for some of the cells, making pandas interpret these columns as non-null objects (instead of int, for example).",
   "metadata": {
    "colab_type": "text",
    "id": "olpFokrp8AIH",
    "cell_id": "00009-78093fca-671c-43cb-93cf-b2669de1b5e2",
    "deepnote_cell_type": "markdown",
    "deepnote_cell_height": 97.1875
   }
  },
  {
   "cell_type": "markdown",
   "source": "## Data cleaning",
   "metadata": {
    "colab_type": "text",
    "id": "0emOppVyqQS9",
    "cell_id": "00010-dfb76c7b-2af8-4815-abbf-b1f890b8dc2c",
    "deepnote_cell_type": "markdown",
    "deepnote_cell_height": 69.96875
   }
  },
  {
   "cell_type": "markdown",
   "source": "To start, let's make all the numerical columns contain the correct type of values and change the data type of those columns to numeric. Let's also replace all those question marks with the median of the respective column.\n\nHint: To make it easier, first try converting all the \"?\" to NaN.",
   "metadata": {
    "colab_type": "text",
    "id": "ZRQpnByEWrcx",
    "cell_id": "00011-fdede008-a1e0-4f04-a098-0a4066a990bb",
    "deepnote_cell_type": "markdown",
    "deepnote_cell_height": 111.171875
   }
  },
  {
   "cell_type": "code",
   "metadata": {
    "cell_id": "185a47ec4db64c09927bc30c7f77ce8f",
    "tags": [],
    "deepnote_to_be_reexecuted": false,
    "source_hash": "56ad035e",
    "execution_start": 1657916769879,
    "execution_millis": 706,
    "deepnote_cell_type": "code",
    "deepnote_cell_height": 477.96875
   },
   "source": "import numpy as np\n\ndataset.replace('?', np.nan, inplace=True)\ndataset.columns = ['Age', 'Sex', 'On Thyroxine', 'Query on Thyroxine', 'On Antithyroid Medication', 'Sick', 'Pregnant', 'Thyroid Surgery', 'I131 Treatment', 'Query Hypothyroid', 'Query Hyperthyroid', 'Lithium', 'Goiter', 'Tumor', 'Hypopituitary', 'Psych', 'TSH Measured', 'TSH', 'T3 Measured', 'T3', 'TT4 Measured', 'TT4', 'T4U Measured', 'T4U', 'FTI Measured', 'FTI', 'TBG Measured', 'TBG', 'Referral Source', 'Class']\n\nfor column in dataset.columns:\n    dataset[column] = pd.to_numeric(dataset[column], errors='ignore')\n\n    if type(dataset[column][0]) == np.float64:\n        dataset[column].fillna(dataset[column].median(), inplace=True)\n\n#replace sex with binary values\ndataset.replace({'Sex': {'F': 0, 'M': 1}}, inplace=True)\n\n# *useless i think* coltest = ['On Thyroxine', 'Query on Thyroxine','On Antithyroid Medication', 'Sick', 'Pregnant', 'Thyroid Surgery', 'I131 Treatment', 'Query Hypothyroid', 'Query Hyperthyroid', 'Lithium', 'Goiter', 'Tumor', 'Hypopituitary', 'Psych', 'TSH Measured', 'T3 Measured', 'TT4 Measured', 'T4U Measured', 'FTI Measured', 'TBG Measured', 'TBG', 'Referral Source', 'Class']\nremember_class = dataset[['Class']]\ndropped_data = dataset.drop(['Referral Source','Class'], axis=1, inplace=True)\n\ndata = pd.get_dummies(dataset, drop_first=True)\ndata['Class'] = remember_class",
   "outputs": [
    {
     "name": "stderr",
     "text": "/shared-libs/python3.9/py/lib/python3.9/site-packages/numpy/lib/nanfunctions.py:1216: RuntimeWarning: Mean of empty slice\n  return np.nanmean(a, axis, out=out, keepdims=keepdims)\n",
     "output_type": "stream"
    }
   ],
   "execution_count": null
  },
  {
   "cell_type": "markdown",
   "source": "Hmm, still looks like the TBG column is unfilled, implying it was empty to begin with. Let's get rid of this column, then (and make sure to get rid of it in your list of numeric columns, too!)",
   "metadata": {
    "colab_type": "text",
    "id": "HZo7iKHUD3DG",
    "cell_id": "00013-e17ed78a-5ad6-4e5f-bc07-60cb25a0cd49",
    "deepnote_cell_type": "markdown",
    "deepnote_cell_height": 74.78125
   }
  },
  {
   "cell_type": "code",
   "metadata": {
    "colab": {
     "autoexec": {
      "startup": false,
      "wait_interval": 0
     }
    },
    "colab_type": "code",
    "id": "yAe5FIFkD25f",
    "cell_id": "00014-e0252e39-cf2c-4c89-b151-42ae67b62c9b",
    "deepnote_to_be_reexecuted": false,
    "source_hash": "c703d540",
    "execution_start": 1657916770025,
    "execution_millis": 0,
    "deepnote_table_state": {
     "pageSize": 10,
     "pageIndex": 5,
     "filters": [],
     "sortBy": []
    },
    "deepnote_table_loading": false,
    "deepnote_cell_type": "code",
    "deepnote_cell_height": 98.96875
   },
   "source": "### Your code here\ndata.drop(\"TBG\", axis = 1, inplace=True)",
   "outputs": [],
   "execution_count": null
  },
  {
   "cell_type": "markdown",
   "source": "All right, let's take a look now at the info of *just the numeric columns* in the dataset:",
   "metadata": {
    "colab_type": "text",
    "id": "DTjWD_ddCHsA",
    "cell_id": "00015-ff8e61fb-32a7-43f3-bcb4-926e42ac0a77",
    "deepnote_cell_type": "markdown",
    "deepnote_cell_height": 52.375
   }
  },
  {
   "cell_type": "code",
   "metadata": {
    "colab": {
     "autoexec": {
      "startup": false,
      "wait_interval": 0
     }
    },
    "colab_type": "code",
    "id": "00OaxCAbzRvA",
    "cell_id": "00016-2494c0dd-69f5-4ac5-a081-dfebc59f999c",
    "deepnote_to_be_reexecuted": false,
    "source_hash": "c842ec18",
    "execution_start": 1657916770026,
    "execution_millis": 582,
    "deepnote_cell_type": "code",
    "deepnote_cell_height": 367.65625
   },
   "source": "numeric_columns = ['Age', 'TSH', 'T3', 'TT4', 'T4U', 'FTI']\ndata[numeric_columns].info()",
   "outputs": [
    {
     "name": "stdout",
     "text": "<class 'pandas.core.frame.DataFrame'>\nRangeIndex: 2800 entries, 0 to 2799\nData columns (total 6 columns):\n #   Column  Non-Null Count  Dtype  \n---  ------  --------------  -----  \n 0   Age     2800 non-null   float64\n 1   TSH     2800 non-null   float64\n 2   T3      2800 non-null   float64\n 3   TT4     2800 non-null   float64\n 4   T4U     2800 non-null   float64\n 5   FTI     2800 non-null   float64\ndtypes: float64(6)\nmemory usage: 131.4 KB\n",
     "output_type": "stream"
    }
   ],
   "execution_count": null
  },
  {
   "cell_type": "markdown",
   "source": "Perfect, now let's fix that class feature. According to the note the data collectors included with this data, the \".|####\" refers to a patient number, and is not necessarily relevant for our purposes here.",
   "metadata": {
    "colab_type": "text",
    "id": "XOzcRX-5YRvz",
    "cell_id": "00017-f251e70d-2ccd-4bee-a053-a6df8755d5d4",
    "deepnote_cell_type": "markdown",
    "deepnote_cell_height": 74.78125
   }
  },
  {
   "cell_type": "code",
   "source": "new_class = []\nfor i in data['Class']:\n    index = i.find(\".\")\n    new_class.append(i[:index])\n\ndata['Class'] = new_class",
   "metadata": {
    "cell_id": "1c1f59b348f04406a583add523e0847b",
    "tags": [],
    "deepnote_to_be_reexecuted": false,
    "source_hash": "3a1b9460",
    "execution_start": 1657916770055,
    "execution_millis": 1,
    "deepnote_table_state": {
     "pageSize": 10,
     "pageIndex": 1,
     "filters": [],
     "sortBy": []
    },
    "deepnote_table_loading": false,
    "deepnote_cell_type": "code",
    "deepnote_cell_height": 170.96875
   },
   "outputs": [],
   "execution_count": null
  },
  {
   "cell_type": "markdown",
   "source": "Let's run the describe() function on just the \"class\" column.",
   "metadata": {
    "colab_type": "text",
    "id": "KYOwWnpqhQvd",
    "cell_id": "00019-66ba0c9c-aabd-4e07-a944-81504329dd89",
    "deepnote_cell_type": "markdown",
    "deepnote_cell_height": 52.375
   }
  },
  {
   "cell_type": "code",
   "metadata": {
    "colab": {
     "autoexec": {
      "startup": false,
      "wait_interval": 0
     },
     "base_uri": "https://localhost:8080/",
     "height": 105
    },
    "colab_type": "code",
    "executionInfo": {
     "elapsed": 272,
     "status": "ok",
     "timestamp": 1531117211963,
     "user": {
      "displayName": "Lyle Lalunio",
      "photoUrl": "https://lh3.googleusercontent.com/a/default-user=s128",
      "userId": "108954789805627648380"
     },
     "user_tz": 240
    },
    "id": "cq_v45R8hP5A",
    "outputId": "5db97e80-a424-49c9-d58f-a7126894d1c6",
    "cell_id": "00020-1367e747-df0b-414e-b579-f4332435c8e1",
    "deepnote_to_be_reexecuted": false,
    "source_hash": "f56a9c17",
    "execution_start": 1657916770056,
    "execution_millis": 553,
    "deepnote_cell_type": "code",
    "deepnote_cell_height": 194.890625
   },
   "source": "data['Class'].describe()",
   "outputs": [
    {
     "output_type": "execute_result",
     "execution_count": 8,
     "data": {
      "text/plain": "count         2800\nunique           4\ntop       negative\nfreq          2580\nName: Class, dtype: object"
     },
     "metadata": {}
    }
   ],
   "execution_count": null
  },
  {
   "cell_type": "markdown",
   "source": "It looks like there are actually 4 unique classification variables! Thank goodness we didn't assume it was binary.\n\nDisplay all the unique values in the class column.",
   "metadata": {
    "colab_type": "text",
    "id": "m6S7Y6VXhYct",
    "cell_id": "00021-214b1f27-55d2-4b14-962a-ee2f6a40d7a6",
    "deepnote_cell_type": "markdown",
    "deepnote_cell_height": 88.765625
   }
  },
  {
   "cell_type": "code",
   "metadata": {
    "colab": {
     "autoexec": {
      "startup": false,
      "wait_interval": 0
     }
    },
    "colab_type": "code",
    "id": "oH0fTzzvE-oF",
    "cell_id": "00022-2741982f-4184-478c-8307-06e618d5d71a",
    "deepnote_to_be_reexecuted": false,
    "source_hash": "44be1b17",
    "execution_start": 1657916770058,
    "execution_millis": 553,
    "deepnote_cell_type": "code",
    "deepnote_cell_height": 137.34375
   },
   "source": "data.Class.unique()",
   "outputs": [
    {
     "output_type": "execute_result",
     "execution_count": 9,
     "data": {
      "text/plain": "array(['negative', 'compensated hypothyroid', 'primary hypothyroid',\n       'secondary hypothyroid'], dtype=object)"
     },
     "metadata": {}
    }
   ],
   "execution_count": null
  },
  {
   "cell_type": "markdown",
   "source": "But let's make it binary for the sake of this example anyway. If you finish early later on, try the multiclass classifier with all 4 values!",
   "metadata": {
    "colab_type": "text",
    "id": "aBrmRJHakpWm",
    "cell_id": "00023-d91a3557-da51-49d2-a0b0-b1ba913c638f",
    "deepnote_cell_type": "markdown",
    "deepnote_cell_height": 74.78125
   }
  },
  {
   "cell_type": "code",
   "metadata": {
    "colab": {
     "autoexec": {
      "startup": false,
      "wait_interval": 0
     }
    },
    "colab_type": "code",
    "id": "HwqVoUFTkoa0",
    "cell_id": "00024-df72775d-91e6-4626-b40c-db048f27370d",
    "deepnote_to_be_reexecuted": false,
    "source_hash": "a344daed",
    "execution_start": 1657916770066,
    "execution_millis": 4,
    "deepnote_cell_type": "code",
    "deepnote_cell_height": 152.96875
   },
   "source": "# Your code here\ndata['Class'] = data['Class'].replace('negative', 0)\ndata['Class'] = data['Class'].replace('primary hypothyroid', 1)\ndata['Class'] = data['Class'].replace('secondary hypothyroid', 1)\ndata['Class'] = data['Class'].replace('compensated hypothyroid', 1)",
   "outputs": [],
   "execution_count": null
  },
  {
   "cell_type": "markdown",
   "source": "Before we move on, let's not forget to run the describe() function on just  your categorical columns, too.\nCompare it to the describe() that your numeric columns produce.",
   "metadata": {
    "colab_type": "text",
    "id": "jbgWOvekhluw",
    "cell_id": "00025-4254945e-4327-4176-99e3-1513627b43ec",
    "deepnote_cell_type": "markdown",
    "deepnote_cell_height": 74.78125
   }
  },
  {
   "cell_type": "code",
   "metadata": {
    "colab": {
     "autoexec": {
      "startup": false,
      "wait_interval": 0
     }
    },
    "colab_type": "code",
    "id": "WHAZCbNAc5KT",
    "cell_id": "00026-53760f2b-50ed-4d67-88a0-c5c4877696c0",
    "deepnote_to_be_reexecuted": false,
    "source_hash": "1a22409d",
    "execution_start": 1657916770075,
    "execution_millis": 543,
    "deepnote_cell_type": "code",
    "deepnote_cell_height": 571.90625
   },
   "source": "### Your code here\ncategorical_columns = list(set(data.columns)-set(numeric_columns)-set(['Class']))\n\ndata[categorical_columns].describe()",
   "outputs": [
    {
     "output_type": "execute_result",
     "execution_count": 11,
     "data": {
      "application/vnd.deepnote.dataframe.v3+json": {
       "column_count": 20,
       "row_count": 8,
       "columns": [
        {
         "name": "Lithium_t",
         "dtype": "float64",
         "stats": {
          "unique_count": 5,
          "nan_count": 0,
          "min": "0.0",
          "max": "2800.0",
          "histogram": [
           {
            "bin_start": 0,
            "bin_end": 280,
            "count": 7
           },
           {
            "bin_start": 280,
            "bin_end": 560,
            "count": 0
           },
           {
            "bin_start": 560,
            "bin_end": 840,
            "count": 0
           },
           {
            "bin_start": 840,
            "bin_end": 1120,
            "count": 0
           },
           {
            "bin_start": 1120,
            "bin_end": 1400,
            "count": 0
           },
           {
            "bin_start": 1400,
            "bin_end": 1680,
            "count": 0
           },
           {
            "bin_start": 1680,
            "bin_end": 1960,
            "count": 0
           },
           {
            "bin_start": 1960,
            "bin_end": 2240,
            "count": 0
           },
           {
            "bin_start": 2240,
            "bin_end": 2520,
            "count": 0
           },
           {
            "bin_start": 2520,
            "bin_end": 2800,
            "count": 1
           }
          ]
         }
        },
        {
         "name": "On Antithyroid Medication_t",
         "dtype": "float64",
         "stats": {
          "unique_count": 5,
          "nan_count": 0,
          "min": "0.0",
          "max": "2800.0",
          "histogram": [
           {
            "bin_start": 0,
            "bin_end": 280,
            "count": 7
           },
           {
            "bin_start": 280,
            "bin_end": 560,
            "count": 0
           },
           {
            "bin_start": 560,
            "bin_end": 840,
            "count": 0
           },
           {
            "bin_start": 840,
            "bin_end": 1120,
            "count": 0
           },
           {
            "bin_start": 1120,
            "bin_end": 1400,
            "count": 0
           },
           {
            "bin_start": 1400,
            "bin_end": 1680,
            "count": 0
           },
           {
            "bin_start": 1680,
            "bin_end": 1960,
            "count": 0
           },
           {
            "bin_start": 1960,
            "bin_end": 2240,
            "count": 0
           },
           {
            "bin_start": 2240,
            "bin_end": 2520,
            "count": 0
           },
           {
            "bin_start": 2520,
            "bin_end": 2800,
            "count": 1
           }
          ]
         }
        },
        {
         "name": "Psych_t",
         "dtype": "float64",
         "stats": {
          "unique_count": 5,
          "nan_count": 0,
          "min": "0.0",
          "max": "2800.0",
          "histogram": [
           {
            "bin_start": 0,
            "bin_end": 280,
            "count": 7
           },
           {
            "bin_start": 280,
            "bin_end": 560,
            "count": 0
           },
           {
            "bin_start": 560,
            "bin_end": 840,
            "count": 0
           },
           {
            "bin_start": 840,
            "bin_end": 1120,
            "count": 0
           },
           {
            "bin_start": 1120,
            "bin_end": 1400,
            "count": 0
           },
           {
            "bin_start": 1400,
            "bin_end": 1680,
            "count": 0
           },
           {
            "bin_start": 1680,
            "bin_end": 1960,
            "count": 0
           },
           {
            "bin_start": 1960,
            "bin_end": 2240,
            "count": 0
           },
           {
            "bin_start": 2240,
            "bin_end": 2520,
            "count": 0
           },
           {
            "bin_start": 2520,
            "bin_end": 2800,
            "count": 1
           }
          ]
         }
        },
        {
         "name": "I131 Treatment_t",
         "dtype": "float64",
         "stats": {
          "unique_count": 5,
          "nan_count": 0,
          "min": "0.0",
          "max": "2800.0",
          "histogram": [
           {
            "bin_start": 0,
            "bin_end": 280,
            "count": 7
           },
           {
            "bin_start": 280,
            "bin_end": 560,
            "count": 0
           },
           {
            "bin_start": 560,
            "bin_end": 840,
            "count": 0
           },
           {
            "bin_start": 840,
            "bin_end": 1120,
            "count": 0
           },
           {
            "bin_start": 1120,
            "bin_end": 1400,
            "count": 0
           },
           {
            "bin_start": 1400,
            "bin_end": 1680,
            "count": 0
           },
           {
            "bin_start": 1680,
            "bin_end": 1960,
            "count": 0
           },
           {
            "bin_start": 1960,
            "bin_end": 2240,
            "count": 0
           },
           {
            "bin_start": 2240,
            "bin_end": 2520,
            "count": 0
           },
           {
            "bin_start": 2520,
            "bin_end": 2800,
            "count": 1
           }
          ]
         }
        },
        {
         "name": "Hypopituitary_t",
         "dtype": "float64",
         "stats": {
          "unique_count": 5,
          "nan_count": 0,
          "min": "0.0",
          "max": "2800.0",
          "histogram": [
           {
            "bin_start": 0,
            "bin_end": 280,
            "count": 7
           },
           {
            "bin_start": 280,
            "bin_end": 560,
            "count": 0
           },
           {
            "bin_start": 560,
            "bin_end": 840,
            "count": 0
           },
           {
            "bin_start": 840,
            "bin_end": 1120,
            "count": 0
           },
           {
            "bin_start": 1120,
            "bin_end": 1400,
            "count": 0
           },
           {
            "bin_start": 1400,
            "bin_end": 1680,
            "count": 0
           },
           {
            "bin_start": 1680,
            "bin_end": 1960,
            "count": 0
           },
           {
            "bin_start": 1960,
            "bin_end": 2240,
            "count": 0
           },
           {
            "bin_start": 2240,
            "bin_end": 2520,
            "count": 0
           },
           {
            "bin_start": 2520,
            "bin_end": 2800,
            "count": 1
           }
          ]
         }
        },
        {
         "name": "TSH Measured_t",
         "dtype": "float64",
         "stats": {
          "unique_count": 5,
          "nan_count": 0,
          "min": "0.0",
          "max": "2800.0",
          "histogram": [
           {
            "bin_start": 0,
            "bin_end": 280,
            "count": 7
           },
           {
            "bin_start": 280,
            "bin_end": 560,
            "count": 0
           },
           {
            "bin_start": 560,
            "bin_end": 840,
            "count": 0
           },
           {
            "bin_start": 840,
            "bin_end": 1120,
            "count": 0
           },
           {
            "bin_start": 1120,
            "bin_end": 1400,
            "count": 0
           },
           {
            "bin_start": 1400,
            "bin_end": 1680,
            "count": 0
           },
           {
            "bin_start": 1680,
            "bin_end": 1960,
            "count": 0
           },
           {
            "bin_start": 1960,
            "bin_end": 2240,
            "count": 0
           },
           {
            "bin_start": 2240,
            "bin_end": 2520,
            "count": 0
           },
           {
            "bin_start": 2520,
            "bin_end": 2800,
            "count": 1
           }
          ]
         }
        },
        {
         "name": "Goiter_t",
         "dtype": "float64",
         "stats": {
          "unique_count": 5,
          "nan_count": 0,
          "min": "0.0",
          "max": "2800.0",
          "histogram": [
           {
            "bin_start": 0,
            "bin_end": 280,
            "count": 7
           },
           {
            "bin_start": 280,
            "bin_end": 560,
            "count": 0
           },
           {
            "bin_start": 560,
            "bin_end": 840,
            "count": 0
           },
           {
            "bin_start": 840,
            "bin_end": 1120,
            "count": 0
           },
           {
            "bin_start": 1120,
            "bin_end": 1400,
            "count": 0
           },
           {
            "bin_start": 1400,
            "bin_end": 1680,
            "count": 0
           },
           {
            "bin_start": 1680,
            "bin_end": 1960,
            "count": 0
           },
           {
            "bin_start": 1960,
            "bin_end": 2240,
            "count": 0
           },
           {
            "bin_start": 2240,
            "bin_end": 2520,
            "count": 0
           },
           {
            "bin_start": 2520,
            "bin_end": 2800,
            "count": 1
           }
          ]
         }
        },
        {
         "name": "T4U Measured_t",
         "dtype": "float64",
         "stats": {
          "unique_count": 5,
          "nan_count": 0,
          "min": "0.0",
          "max": "2800.0",
          "histogram": [
           {
            "bin_start": 0,
            "bin_end": 280,
            "count": 7
           },
           {
            "bin_start": 280,
            "bin_end": 560,
            "count": 0
           },
           {
            "bin_start": 560,
            "bin_end": 840,
            "count": 0
           },
           {
            "bin_start": 840,
            "bin_end": 1120,
            "count": 0
           },
           {
            "bin_start": 1120,
            "bin_end": 1400,
            "count": 0
           },
           {
            "bin_start": 1400,
            "bin_end": 1680,
            "count": 0
           },
           {
            "bin_start": 1680,
            "bin_end": 1960,
            "count": 0
           },
           {
            "bin_start": 1960,
            "bin_end": 2240,
            "count": 0
           },
           {
            "bin_start": 2240,
            "bin_end": 2520,
            "count": 0
           },
           {
            "bin_start": 2520,
            "bin_end": 2800,
            "count": 1
           }
          ]
         }
        },
        {
         "name": "Query Hypothyroid_t",
         "dtype": "float64",
         "stats": {
          "unique_count": 5,
          "nan_count": 0,
          "min": "0.0",
          "max": "2800.0",
          "histogram": [
           {
            "bin_start": 0,
            "bin_end": 280,
            "count": 7
           },
           {
            "bin_start": 280,
            "bin_end": 560,
            "count": 0
           },
           {
            "bin_start": 560,
            "bin_end": 840,
            "count": 0
           },
           {
            "bin_start": 840,
            "bin_end": 1120,
            "count": 0
           },
           {
            "bin_start": 1120,
            "bin_end": 1400,
            "count": 0
           },
           {
            "bin_start": 1400,
            "bin_end": 1680,
            "count": 0
           },
           {
            "bin_start": 1680,
            "bin_end": 1960,
            "count": 0
           },
           {
            "bin_start": 1960,
            "bin_end": 2240,
            "count": 0
           },
           {
            "bin_start": 2240,
            "bin_end": 2520,
            "count": 0
           },
           {
            "bin_start": 2520,
            "bin_end": 2800,
            "count": 1
           }
          ]
         }
        },
        {
         "name": "Pregnant_t",
         "dtype": "float64",
         "stats": {
          "unique_count": 5,
          "nan_count": 0,
          "min": "0.0",
          "max": "2800.0",
          "histogram": [
           {
            "bin_start": 0,
            "bin_end": 280,
            "count": 7
           },
           {
            "bin_start": 280,
            "bin_end": 560,
            "count": 0
           },
           {
            "bin_start": 560,
            "bin_end": 840,
            "count": 0
           },
           {
            "bin_start": 840,
            "bin_end": 1120,
            "count": 0
           },
           {
            "bin_start": 1120,
            "bin_end": 1400,
            "count": 0
           },
           {
            "bin_start": 1400,
            "bin_end": 1680,
            "count": 0
           },
           {
            "bin_start": 1680,
            "bin_end": 1960,
            "count": 0
           },
           {
            "bin_start": 1960,
            "bin_end": 2240,
            "count": 0
           },
           {
            "bin_start": 2240,
            "bin_end": 2520,
            "count": 0
           },
           {
            "bin_start": 2520,
            "bin_end": 2800,
            "count": 1
           }
          ]
         }
        },
        {
         "name": "Thyroid Surgery_t",
         "dtype": "float64",
         "stats": {
          "unique_count": 5,
          "nan_count": 0,
          "min": "0.0",
          "max": "2800.0",
          "histogram": [
           {
            "bin_start": 0,
            "bin_end": 280,
            "count": 7
           },
           {
            "bin_start": 280,
            "bin_end": 560,
            "count": 0
           },
           {
            "bin_start": 560,
            "bin_end": 840,
            "count": 0
           },
           {
            "bin_start": 840,
            "bin_end": 1120,
            "count": 0
           },
           {
            "bin_start": 1120,
            "bin_end": 1400,
            "count": 0
           },
           {
            "bin_start": 1400,
            "bin_end": 1680,
            "count": 0
           },
           {
            "bin_start": 1680,
            "bin_end": 1960,
            "count": 0
           },
           {
            "bin_start": 1960,
            "bin_end": 2240,
            "count": 0
           },
           {
            "bin_start": 2240,
            "bin_end": 2520,
            "count": 0
           },
           {
            "bin_start": 2520,
            "bin_end": 2800,
            "count": 1
           }
          ]
         }
        },
        {
         "name": "Sick_t",
         "dtype": "float64",
         "stats": {
          "unique_count": 5,
          "nan_count": 0,
          "min": "0.0",
          "max": "2800.0",
          "histogram": [
           {
            "bin_start": 0,
            "bin_end": 280,
            "count": 7
           },
           {
            "bin_start": 280,
            "bin_end": 560,
            "count": 0
           },
           {
            "bin_start": 560,
            "bin_end": 840,
            "count": 0
           },
           {
            "bin_start": 840,
            "bin_end": 1120,
            "count": 0
           },
           {
            "bin_start": 1120,
            "bin_end": 1400,
            "count": 0
           },
           {
            "bin_start": 1400,
            "bin_end": 1680,
            "count": 0
           },
           {
            "bin_start": 1680,
            "bin_end": 1960,
            "count": 0
           },
           {
            "bin_start": 1960,
            "bin_end": 2240,
            "count": 0
           },
           {
            "bin_start": 2240,
            "bin_end": 2520,
            "count": 0
           },
           {
            "bin_start": 2520,
            "bin_end": 2800,
            "count": 1
           }
          ]
         }
        },
        {
         "name": "Sex",
         "dtype": "float64",
         "stats": {
          "unique_count": 5,
          "nan_count": 0,
          "min": "0.0",
          "max": "2690.0",
          "histogram": [
           {
            "bin_start": 0,
            "bin_end": 269,
            "count": 7
           },
           {
            "bin_start": 269,
            "bin_end": 538,
            "count": 0
           },
           {
            "bin_start": 538,
            "bin_end": 807,
            "count": 0
           },
           {
            "bin_start": 807,
            "bin_end": 1076,
            "count": 0
           },
           {
            "bin_start": 1076,
            "bin_end": 1345,
            "count": 0
           },
           {
            "bin_start": 1345,
            "bin_end": 1614,
            "count": 0
           },
           {
            "bin_start": 1614,
            "bin_end": 1883,
            "count": 0
           },
           {
            "bin_start": 1883,
            "bin_end": 2152,
            "count": 0
           },
           {
            "bin_start": 2152,
            "bin_end": 2421,
            "count": 0
           },
           {
            "bin_start": 2421,
            "bin_end": 2690,
            "count": 1
           }
          ]
         }
        },
        {
         "name": "On Thyroxine_t",
         "dtype": "float64",
         "stats": {
          "unique_count": 5,
          "nan_count": 0,
          "min": "0.0",
          "max": "2800.0",
          "histogram": [
           {
            "bin_start": 0,
            "bin_end": 280,
            "count": 7
           },
           {
            "bin_start": 280,
            "bin_end": 560,
            "count": 0
           },
           {
            "bin_start": 560,
            "bin_end": 840,
            "count": 0
           },
           {
            "bin_start": 840,
            "bin_end": 1120,
            "count": 0
           },
           {
            "bin_start": 1120,
            "bin_end": 1400,
            "count": 0
           },
           {
            "bin_start": 1400,
            "bin_end": 1680,
            "count": 0
           },
           {
            "bin_start": 1680,
            "bin_end": 1960,
            "count": 0
           },
           {
            "bin_start": 1960,
            "bin_end": 2240,
            "count": 0
           },
           {
            "bin_start": 2240,
            "bin_end": 2520,
            "count": 0
           },
           {
            "bin_start": 2520,
            "bin_end": 2800,
            "count": 1
           }
          ]
         }
        },
        {
         "name": "Query on Thyroxine_t",
         "dtype": "float64",
         "stats": {
          "unique_count": 5,
          "nan_count": 0,
          "min": "0.0",
          "max": "2800.0",
          "histogram": [
           {
            "bin_start": 0,
            "bin_end": 280,
            "count": 7
           },
           {
            "bin_start": 280,
            "bin_end": 560,
            "count": 0
           },
           {
            "bin_start": 560,
            "bin_end": 840,
            "count": 0
           },
           {
            "bin_start": 840,
            "bin_end": 1120,
            "count": 0
           },
           {
            "bin_start": 1120,
            "bin_end": 1400,
            "count": 0
           },
           {
            "bin_start": 1400,
            "bin_end": 1680,
            "count": 0
           },
           {
            "bin_start": 1680,
            "bin_end": 1960,
            "count": 0
           },
           {
            "bin_start": 1960,
            "bin_end": 2240,
            "count": 0
           },
           {
            "bin_start": 2240,
            "bin_end": 2520,
            "count": 0
           },
           {
            "bin_start": 2520,
            "bin_end": 2800,
            "count": 1
           }
          ]
         }
        },
        {
         "name": "TT4 Measured_t",
         "dtype": "float64",
         "stats": {
          "unique_count": 5,
          "nan_count": 0,
          "min": "0.0",
          "max": "2800.0",
          "histogram": [
           {
            "bin_start": 0,
            "bin_end": 280,
            "count": 7
           },
           {
            "bin_start": 280,
            "bin_end": 560,
            "count": 0
           },
           {
            "bin_start": 560,
            "bin_end": 840,
            "count": 0
           },
           {
            "bin_start": 840,
            "bin_end": 1120,
            "count": 0
           },
           {
            "bin_start": 1120,
            "bin_end": 1400,
            "count": 0
           },
           {
            "bin_start": 1400,
            "bin_end": 1680,
            "count": 0
           },
           {
            "bin_start": 1680,
            "bin_end": 1960,
            "count": 0
           },
           {
            "bin_start": 1960,
            "bin_end": 2240,
            "count": 0
           },
           {
            "bin_start": 2240,
            "bin_end": 2520,
            "count": 0
           },
           {
            "bin_start": 2520,
            "bin_end": 2800,
            "count": 1
           }
          ]
         }
        },
        {
         "name": "Query Hyperthyroid_t",
         "dtype": "float64",
         "stats": {
          "unique_count": 5,
          "nan_count": 0,
          "min": "0.0",
          "max": "2800.0",
          "histogram": [
           {
            "bin_start": 0,
            "bin_end": 280,
            "count": 7
           },
           {
            "bin_start": 280,
            "bin_end": 560,
            "count": 0
           },
           {
            "bin_start": 560,
            "bin_end": 840,
            "count": 0
           },
           {
            "bin_start": 840,
            "bin_end": 1120,
            "count": 0
           },
           {
            "bin_start": 1120,
            "bin_end": 1400,
            "count": 0
           },
           {
            "bin_start": 1400,
            "bin_end": 1680,
            "count": 0
           },
           {
            "bin_start": 1680,
            "bin_end": 1960,
            "count": 0
           },
           {
            "bin_start": 1960,
            "bin_end": 2240,
            "count": 0
           },
           {
            "bin_start": 2240,
            "bin_end": 2520,
            "count": 0
           },
           {
            "bin_start": 2520,
            "bin_end": 2800,
            "count": 1
           }
          ]
         }
        },
        {
         "name": "T3 Measured_t",
         "dtype": "float64",
         "stats": {
          "unique_count": 5,
          "nan_count": 0,
          "min": "0.0",
          "max": "2800.0",
          "histogram": [
           {
            "bin_start": 0,
            "bin_end": 280,
            "count": 7
           },
           {
            "bin_start": 280,
            "bin_end": 560,
            "count": 0
           },
           {
            "bin_start": 560,
            "bin_end": 840,
            "count": 0
           },
           {
            "bin_start": 840,
            "bin_end": 1120,
            "count": 0
           },
           {
            "bin_start": 1120,
            "bin_end": 1400,
            "count": 0
           },
           {
            "bin_start": 1400,
            "bin_end": 1680,
            "count": 0
           },
           {
            "bin_start": 1680,
            "bin_end": 1960,
            "count": 0
           },
           {
            "bin_start": 1960,
            "bin_end": 2240,
            "count": 0
           },
           {
            "bin_start": 2240,
            "bin_end": 2520,
            "count": 0
           },
           {
            "bin_start": 2520,
            "bin_end": 2800,
            "count": 1
           }
          ]
         }
        },
        {
         "name": "FTI Measured_t",
         "dtype": "float64",
         "stats": {
          "unique_count": 5,
          "nan_count": 0,
          "min": "0.0",
          "max": "2800.0",
          "histogram": [
           {
            "bin_start": 0,
            "bin_end": 280,
            "count": 7
           },
           {
            "bin_start": 280,
            "bin_end": 560,
            "count": 0
           },
           {
            "bin_start": 560,
            "bin_end": 840,
            "count": 0
           },
           {
            "bin_start": 840,
            "bin_end": 1120,
            "count": 0
           },
           {
            "bin_start": 1120,
            "bin_end": 1400,
            "count": 0
           },
           {
            "bin_start": 1400,
            "bin_end": 1680,
            "count": 0
           },
           {
            "bin_start": 1680,
            "bin_end": 1960,
            "count": 0
           },
           {
            "bin_start": 1960,
            "bin_end": 2240,
            "count": 0
           },
           {
            "bin_start": 2240,
            "bin_end": 2520,
            "count": 0
           },
           {
            "bin_start": 2520,
            "bin_end": 2800,
            "count": 1
           }
          ]
         }
        },
        {
         "name": "Tumor_t",
         "dtype": "float64",
         "stats": {
          "unique_count": 5,
          "nan_count": 0,
          "min": "0.0",
          "max": "2800.0",
          "histogram": [
           {
            "bin_start": 0,
            "bin_end": 280,
            "count": 7
           },
           {
            "bin_start": 280,
            "bin_end": 560,
            "count": 0
           },
           {
            "bin_start": 560,
            "bin_end": 840,
            "count": 0
           },
           {
            "bin_start": 840,
            "bin_end": 1120,
            "count": 0
           },
           {
            "bin_start": 1120,
            "bin_end": 1400,
            "count": 0
           },
           {
            "bin_start": 1400,
            "bin_end": 1680,
            "count": 0
           },
           {
            "bin_start": 1680,
            "bin_end": 1960,
            "count": 0
           },
           {
            "bin_start": 1960,
            "bin_end": 2240,
            "count": 0
           },
           {
            "bin_start": 2240,
            "bin_end": 2520,
            "count": 0
           },
           {
            "bin_start": 2520,
            "bin_end": 2800,
            "count": 1
           }
          ]
         }
        },
        {
         "name": "_deepnote_index_column",
         "dtype": "object"
        }
       ],
       "rows": [
        {
         "Lithium_t": 2800,
         "On Antithyroid Medication_t": 2800,
         "Psych_t": 2800,
         "I131 Treatment_t": 2800,
         "Hypopituitary_t": 2800,
         "TSH Measured_t": 2800,
         "Goiter_t": 2800,
         "T4U Measured_t": 2800,
         "Query Hypothyroid_t": 2800,
         "Pregnant_t": 2800,
         "Thyroid Surgery_t": 2800,
         "Sick_t": 2800,
         "Sex": 2690,
         "On Thyroxine_t": 2800,
         "Query on Thyroxine_t": 2800,
         "TT4 Measured_t": 2800,
         "Query Hyperthyroid_t": 2800,
         "T3 Measured_t": 2800,
         "FTI Measured_t": 2800,
         "Tumor_t": 2800,
         "_deepnote_index_column": "count"
        },
        {
         "Lithium_t": 0.005,
         "On Antithyroid Medication_t": 0.012142857142857143,
         "Psych_t": 0.048214285714285716,
         "I131 Treatment_t": 0.017142857142857144,
         "Hypopituitary_t": 0.00035714285714285714,
         "TSH Measured_t": 0.8985714285714286,
         "Goiter_t": 0.008928571428571428,
         "T4U Measured_t": 0.8939285714285714,
         "Query Hypothyroid_t": 0.05821428571428571,
         "Pregnant_t": 0.014642857142857143,
         "Thyroid Surgery_t": 0.013928571428571429,
         "Sick_t": 0.039285714285714285,
         "Sex": 0.31970260223048325,
         "On Thyroxine_t": 0.11785714285714285,
         "Query on Thyroxine_t": 0.014285714285714285,
         "TT4 Measured_t": 0.9342857142857143,
         "Query Hyperthyroid_t": 0.061785714285714284,
         "T3 Measured_t": 0.7910714285714285,
         "FTI Measured_t": 0.8946428571428572,
         "Tumor_t": 0.025357142857142856,
         "_deepnote_index_column": "mean"
        },
        {
         "Lithium_t": 0.07054627857305674,
         "On Antithyroid Medication_t": 0.10954311374149685,
         "Psych_t": 0.21425700312938714,
         "I131 Treatment_t": 0.12982680476088307,
         "Hypopituitary_t": 0.018898223650461364,
         "TSH Measured_t": 0.30194929747779387,
         "Goiter_t": 0.09408513949715953,
         "T4U Measured_t": 0.3079840208467355,
         "Query Hypothyroid_t": 0.23419002998077826,
         "Pregnant_t": 0.1201399131606221,
         "Thyroid Surgery_t": 0.1172154993218641,
         "Sick_t": 0.1943085977618883,
         "Sex": 0.4664479936556078,
         "On Thyroxine_t": 0.32249648217248406,
         "Query on Thyroxine_t": 0.11868725122922215,
         "TT4 Measured_t": 0.2478262563066299,
         "Query Hyperthyroid_t": 0.2408089494500825,
         "T3 Measured_t": 0.40661587796034543,
         "FTI Measured_t": 0.30706789241590926,
         "Tumor_t": 0.15723545338684256,
         "_deepnote_index_column": "std"
        },
        {
         "Lithium_t": 0,
         "On Antithyroid Medication_t": 0,
         "Psych_t": 0,
         "I131 Treatment_t": 0,
         "Hypopituitary_t": 0,
         "TSH Measured_t": 0,
         "Goiter_t": 0,
         "T4U Measured_t": 0,
         "Query Hypothyroid_t": 0,
         "Pregnant_t": 0,
         "Thyroid Surgery_t": 0,
         "Sick_t": 0,
         "Sex": 0,
         "On Thyroxine_t": 0,
         "Query on Thyroxine_t": 0,
         "TT4 Measured_t": 0,
         "Query Hyperthyroid_t": 0,
         "T3 Measured_t": 0,
         "FTI Measured_t": 0,
         "Tumor_t": 0,
         "_deepnote_index_column": "min"
        },
        {
         "Lithium_t": 0,
         "On Antithyroid Medication_t": 0,
         "Psych_t": 0,
         "I131 Treatment_t": 0,
         "Hypopituitary_t": 0,
         "TSH Measured_t": 1,
         "Goiter_t": 0,
         "T4U Measured_t": 1,
         "Query Hypothyroid_t": 0,
         "Pregnant_t": 0,
         "Thyroid Surgery_t": 0,
         "Sick_t": 0,
         "Sex": 0,
         "On Thyroxine_t": 0,
         "Query on Thyroxine_t": 0,
         "TT4 Measured_t": 1,
         "Query Hyperthyroid_t": 0,
         "T3 Measured_t": 1,
         "FTI Measured_t": 1,
         "Tumor_t": 0,
         "_deepnote_index_column": "25%"
        },
        {
         "Lithium_t": 0,
         "On Antithyroid Medication_t": 0,
         "Psych_t": 0,
         "I131 Treatment_t": 0,
         "Hypopituitary_t": 0,
         "TSH Measured_t": 1,
         "Goiter_t": 0,
         "T4U Measured_t": 1,
         "Query Hypothyroid_t": 0,
         "Pregnant_t": 0,
         "Thyroid Surgery_t": 0,
         "Sick_t": 0,
         "Sex": 0,
         "On Thyroxine_t": 0,
         "Query on Thyroxine_t": 0,
         "TT4 Measured_t": 1,
         "Query Hyperthyroid_t": 0,
         "T3 Measured_t": 1,
         "FTI Measured_t": 1,
         "Tumor_t": 0,
         "_deepnote_index_column": "50%"
        },
        {
         "Lithium_t": 0,
         "On Antithyroid Medication_t": 0,
         "Psych_t": 0,
         "I131 Treatment_t": 0,
         "Hypopituitary_t": 0,
         "TSH Measured_t": 1,
         "Goiter_t": 0,
         "T4U Measured_t": 1,
         "Query Hypothyroid_t": 0,
         "Pregnant_t": 0,
         "Thyroid Surgery_t": 0,
         "Sick_t": 0,
         "Sex": 1,
         "On Thyroxine_t": 0,
         "Query on Thyroxine_t": 0,
         "TT4 Measured_t": 1,
         "Query Hyperthyroid_t": 0,
         "T3 Measured_t": 1,
         "FTI Measured_t": 1,
         "Tumor_t": 0,
         "_deepnote_index_column": "75%"
        },
        {
         "Lithium_t": 1,
         "On Antithyroid Medication_t": 1,
         "Psych_t": 1,
         "I131 Treatment_t": 1,
         "Hypopituitary_t": 1,
         "TSH Measured_t": 1,
         "Goiter_t": 1,
         "T4U Measured_t": 1,
         "Query Hypothyroid_t": 1,
         "Pregnant_t": 1,
         "Thyroid Surgery_t": 1,
         "Sick_t": 1,
         "Sex": 1,
         "On Thyroxine_t": 1,
         "Query on Thyroxine_t": 1,
         "TT4 Measured_t": 1,
         "Query Hyperthyroid_t": 1,
         "T3 Measured_t": 1,
         "FTI Measured_t": 1,
         "Tumor_t": 1,
         "_deepnote_index_column": "max"
        }
       ]
      },
      "text/plain": "         Lithium_t  On Antithyroid Medication_t      Psych_t  \\\ncount  2800.000000                  2800.000000  2800.000000   \nmean      0.005000                     0.012143     0.048214   \nstd       0.070546                     0.109543     0.214257   \nmin       0.000000                     0.000000     0.000000   \n25%       0.000000                     0.000000     0.000000   \n50%       0.000000                     0.000000     0.000000   \n75%       0.000000                     0.000000     0.000000   \nmax       1.000000                     1.000000     1.000000   \n\n       I131 Treatment_t  Hypopituitary_t  TSH Measured_t     Goiter_t  \\\ncount       2800.000000      2800.000000     2800.000000  2800.000000   \nmean           0.017143         0.000357        0.898571     0.008929   \nstd            0.129827         0.018898        0.301949     0.094085   \nmin            0.000000         0.000000        0.000000     0.000000   \n25%            0.000000         0.000000        1.000000     0.000000   \n50%            0.000000         0.000000        1.000000     0.000000   \n75%            0.000000         0.000000        1.000000     0.000000   \nmax            1.000000         1.000000        1.000000     1.000000   \n\n       T4U Measured_t  Query Hypothyroid_t   Pregnant_t  Thyroid Surgery_t  \\\ncount     2800.000000          2800.000000  2800.000000        2800.000000   \nmean         0.893929             0.058214     0.014643           0.013929   \nstd          0.307984             0.234190     0.120140           0.117215   \nmin          0.000000             0.000000     0.000000           0.000000   \n25%          1.000000             0.000000     0.000000           0.000000   \n50%          1.000000             0.000000     0.000000           0.000000   \n75%          1.000000             0.000000     0.000000           0.000000   \nmax          1.000000             1.000000     1.000000           1.000000   \n\n            Sick_t          Sex  On Thyroxine_t  Query on Thyroxine_t  \\\ncount  2800.000000  2690.000000     2800.000000           2800.000000   \nmean      0.039286     0.319703        0.117857              0.014286   \nstd       0.194309     0.466448        0.322496              0.118687   \nmin       0.000000     0.000000        0.000000              0.000000   \n25%       0.000000     0.000000        0.000000              0.000000   \n50%       0.000000     0.000000        0.000000              0.000000   \n75%       0.000000     1.000000        0.000000              0.000000   \nmax       1.000000     1.000000        1.000000              1.000000   \n\n       TT4 Measured_t  Query Hyperthyroid_t  T3 Measured_t  FTI Measured_t  \\\ncount     2800.000000           2800.000000    2800.000000     2800.000000   \nmean         0.934286              0.061786       0.791071        0.894643   \nstd          0.247826              0.240809       0.406616        0.307068   \nmin          0.000000              0.000000       0.000000        0.000000   \n25%          1.000000              0.000000       1.000000        1.000000   \n50%          1.000000              0.000000       1.000000        1.000000   \n75%          1.000000              0.000000       1.000000        1.000000   \nmax          1.000000              1.000000       1.000000        1.000000   \n\n           Tumor_t  \ncount  2800.000000  \nmean      0.025357  \nstd       0.157235  \nmin       0.000000  \n25%       0.000000  \n50%       0.000000  \n75%       0.000000  \nmax       1.000000  ",
      "text/html": "<div>\n<style scoped>\n    .dataframe tbody tr th:only-of-type {\n        vertical-align: middle;\n    }\n\n    .dataframe tbody tr th {\n        vertical-align: top;\n    }\n\n    .dataframe thead th {\n        text-align: right;\n    }\n</style>\n<table border=\"1\" class=\"dataframe\">\n  <thead>\n    <tr style=\"text-align: right;\">\n      <th></th>\n      <th>Lithium_t</th>\n      <th>On Antithyroid Medication_t</th>\n      <th>Psych_t</th>\n      <th>I131 Treatment_t</th>\n      <th>Hypopituitary_t</th>\n      <th>TSH Measured_t</th>\n      <th>Goiter_t</th>\n      <th>T4U Measured_t</th>\n      <th>Query Hypothyroid_t</th>\n      <th>Pregnant_t</th>\n      <th>Thyroid Surgery_t</th>\n      <th>Sick_t</th>\n      <th>Sex</th>\n      <th>On Thyroxine_t</th>\n      <th>Query on Thyroxine_t</th>\n      <th>TT4 Measured_t</th>\n      <th>Query Hyperthyroid_t</th>\n      <th>T3 Measured_t</th>\n      <th>FTI Measured_t</th>\n      <th>Tumor_t</th>\n    </tr>\n  </thead>\n  <tbody>\n    <tr>\n      <th>count</th>\n      <td>2800.000000</td>\n      <td>2800.000000</td>\n      <td>2800.000000</td>\n      <td>2800.000000</td>\n      <td>2800.000000</td>\n      <td>2800.000000</td>\n      <td>2800.000000</td>\n      <td>2800.000000</td>\n      <td>2800.000000</td>\n      <td>2800.000000</td>\n      <td>2800.000000</td>\n      <td>2800.000000</td>\n      <td>2690.000000</td>\n      <td>2800.000000</td>\n      <td>2800.000000</td>\n      <td>2800.000000</td>\n      <td>2800.000000</td>\n      <td>2800.000000</td>\n      <td>2800.000000</td>\n      <td>2800.000000</td>\n    </tr>\n    <tr>\n      <th>mean</th>\n      <td>0.005000</td>\n      <td>0.012143</td>\n      <td>0.048214</td>\n      <td>0.017143</td>\n      <td>0.000357</td>\n      <td>0.898571</td>\n      <td>0.008929</td>\n      <td>0.893929</td>\n      <td>0.058214</td>\n      <td>0.014643</td>\n      <td>0.013929</td>\n      <td>0.039286</td>\n      <td>0.319703</td>\n      <td>0.117857</td>\n      <td>0.014286</td>\n      <td>0.934286</td>\n      <td>0.061786</td>\n      <td>0.791071</td>\n      <td>0.894643</td>\n      <td>0.025357</td>\n    </tr>\n    <tr>\n      <th>std</th>\n      <td>0.070546</td>\n      <td>0.109543</td>\n      <td>0.214257</td>\n      <td>0.129827</td>\n      <td>0.018898</td>\n      <td>0.301949</td>\n      <td>0.094085</td>\n      <td>0.307984</td>\n      <td>0.234190</td>\n      <td>0.120140</td>\n      <td>0.117215</td>\n      <td>0.194309</td>\n      <td>0.466448</td>\n      <td>0.322496</td>\n      <td>0.118687</td>\n      <td>0.247826</td>\n      <td>0.240809</td>\n      <td>0.406616</td>\n      <td>0.307068</td>\n      <td>0.157235</td>\n    </tr>\n    <tr>\n      <th>min</th>\n      <td>0.000000</td>\n      <td>0.000000</td>\n      <td>0.000000</td>\n      <td>0.000000</td>\n      <td>0.000000</td>\n      <td>0.000000</td>\n      <td>0.000000</td>\n      <td>0.000000</td>\n      <td>0.000000</td>\n      <td>0.000000</td>\n      <td>0.000000</td>\n      <td>0.000000</td>\n      <td>0.000000</td>\n      <td>0.000000</td>\n      <td>0.000000</td>\n      <td>0.000000</td>\n      <td>0.000000</td>\n      <td>0.000000</td>\n      <td>0.000000</td>\n      <td>0.000000</td>\n    </tr>\n    <tr>\n      <th>25%</th>\n      <td>0.000000</td>\n      <td>0.000000</td>\n      <td>0.000000</td>\n      <td>0.000000</td>\n      <td>0.000000</td>\n      <td>1.000000</td>\n      <td>0.000000</td>\n      <td>1.000000</td>\n      <td>0.000000</td>\n      <td>0.000000</td>\n      <td>0.000000</td>\n      <td>0.000000</td>\n      <td>0.000000</td>\n      <td>0.000000</td>\n      <td>0.000000</td>\n      <td>1.000000</td>\n      <td>0.000000</td>\n      <td>1.000000</td>\n      <td>1.000000</td>\n      <td>0.000000</td>\n    </tr>\n    <tr>\n      <th>50%</th>\n      <td>0.000000</td>\n      <td>0.000000</td>\n      <td>0.000000</td>\n      <td>0.000000</td>\n      <td>0.000000</td>\n      <td>1.000000</td>\n      <td>0.000000</td>\n      <td>1.000000</td>\n      <td>0.000000</td>\n      <td>0.000000</td>\n      <td>0.000000</td>\n      <td>0.000000</td>\n      <td>0.000000</td>\n      <td>0.000000</td>\n      <td>0.000000</td>\n      <td>1.000000</td>\n      <td>0.000000</td>\n      <td>1.000000</td>\n      <td>1.000000</td>\n      <td>0.000000</td>\n    </tr>\n    <tr>\n      <th>75%</th>\n      <td>0.000000</td>\n      <td>0.000000</td>\n      <td>0.000000</td>\n      <td>0.000000</td>\n      <td>0.000000</td>\n      <td>1.000000</td>\n      <td>0.000000</td>\n      <td>1.000000</td>\n      <td>0.000000</td>\n      <td>0.000000</td>\n      <td>0.000000</td>\n      <td>0.000000</td>\n      <td>1.000000</td>\n      <td>0.000000</td>\n      <td>0.000000</td>\n      <td>1.000000</td>\n      <td>0.000000</td>\n      <td>1.000000</td>\n      <td>1.000000</td>\n      <td>0.000000</td>\n    </tr>\n    <tr>\n      <th>max</th>\n      <td>1.000000</td>\n      <td>1.000000</td>\n      <td>1.000000</td>\n      <td>1.000000</td>\n      <td>1.000000</td>\n      <td>1.000000</td>\n      <td>1.000000</td>\n      <td>1.000000</td>\n      <td>1.000000</td>\n      <td>1.000000</td>\n      <td>1.000000</td>\n      <td>1.000000</td>\n      <td>1.000000</td>\n      <td>1.000000</td>\n      <td>1.000000</td>\n      <td>1.000000</td>\n      <td>1.000000</td>\n      <td>1.000000</td>\n      <td>1.000000</td>\n      <td>1.000000</td>\n    </tr>\n  </tbody>\n</table>\n</div>"
     },
     "metadata": {}
    }
   ],
   "execution_count": null
  },
  {
   "cell_type": "code",
   "source": "data[numeric_columns].describe()",
   "metadata": {
    "cell_id": "a89781de4ccf4d7fbbe4aa79327ed3d7",
    "tags": [],
    "deepnote_to_be_reexecuted": false,
    "source_hash": "c40efe01",
    "execution_start": 1657916770252,
    "execution_millis": 367,
    "deepnote_cell_type": "code",
    "deepnote_cell_height": 517.90625
   },
   "outputs": [
    {
     "output_type": "execute_result",
     "execution_count": 12,
     "data": {
      "application/vnd.deepnote.dataframe.v3+json": {
       "column_count": 6,
       "row_count": 8,
       "columns": [
        {
         "name": "Age",
         "dtype": "float64",
         "stats": {
          "unique_count": 8,
          "nan_count": 0,
          "min": "1.0",
          "max": "2800.0",
          "histogram": [
           {
            "bin_start": 1,
            "bin_end": 280.9,
            "count": 6
           },
           {
            "bin_start": 280.9,
            "bin_end": 560.8,
            "count": 1
           },
           {
            "bin_start": 560.8,
            "bin_end": 840.6999999999999,
            "count": 0
           },
           {
            "bin_start": 840.6999999999999,
            "bin_end": 1120.6,
            "count": 0
           },
           {
            "bin_start": 1120.6,
            "bin_end": 1400.5,
            "count": 0
           },
           {
            "bin_start": 1400.5,
            "bin_end": 1680.3999999999999,
            "count": 0
           },
           {
            "bin_start": 1680.3999999999999,
            "bin_end": 1960.2999999999997,
            "count": 0
           },
           {
            "bin_start": 1960.2999999999997,
            "bin_end": 2240.2,
            "count": 0
           },
           {
            "bin_start": 2240.2,
            "bin_end": 2520.1,
            "count": 0
           },
           {
            "bin_start": 2520.1,
            "bin_end": 2800,
            "count": 1
           }
          ]
         }
        },
        {
         "name": "TSH",
         "dtype": "float64",
         "stats": {
          "unique_count": 8,
          "nan_count": 0,
          "min": "0.005",
          "max": "2800.0",
          "histogram": [
           {
            "bin_start": 0.005,
            "bin_end": 280.0045,
            "count": 6
           },
           {
            "bin_start": 280.0045,
            "bin_end": 560.004,
            "count": 1
           },
           {
            "bin_start": 560.004,
            "bin_end": 840.0035,
            "count": 0
           },
           {
            "bin_start": 840.0035,
            "bin_end": 1120.0030000000002,
            "count": 0
           },
           {
            "bin_start": 1120.0030000000002,
            "bin_end": 1400.0025,
            "count": 0
           },
           {
            "bin_start": 1400.0025,
            "bin_end": 1680.0020000000002,
            "count": 0
           },
           {
            "bin_start": 1680.0020000000002,
            "bin_end": 1960.0015000000003,
            "count": 0
           },
           {
            "bin_start": 1960.0015000000003,
            "bin_end": 2240.001,
            "count": 0
           },
           {
            "bin_start": 2240.001,
            "bin_end": 2520.0005,
            "count": 0
           },
           {
            "bin_start": 2520.0005,
            "bin_end": 2800,
            "count": 1
           }
          ]
         }
        },
        {
         "name": "T3",
         "dtype": "float64",
         "stats": {
          "unique_count": 8,
          "nan_count": 0,
          "min": "0.05",
          "max": "2800.0",
          "histogram": [
           {
            "bin_start": 0.05,
            "bin_end": 280.045,
            "count": 7
           },
           {
            "bin_start": 280.045,
            "bin_end": 560.04,
            "count": 0
           },
           {
            "bin_start": 560.04,
            "bin_end": 840.035,
            "count": 0
           },
           {
            "bin_start": 840.035,
            "bin_end": 1120.03,
            "count": 0
           },
           {
            "bin_start": 1120.03,
            "bin_end": 1400.0249999999999,
            "count": 0
           },
           {
            "bin_start": 1400.0249999999999,
            "bin_end": 1680.02,
            "count": 0
           },
           {
            "bin_start": 1680.02,
            "bin_end": 1960.015,
            "count": 0
           },
           {
            "bin_start": 1960.015,
            "bin_end": 2240.01,
            "count": 0
           },
           {
            "bin_start": 2240.01,
            "bin_end": 2520.005,
            "count": 0
           },
           {
            "bin_start": 2520.005,
            "bin_end": 2800,
            "count": 1
           }
          ]
         }
        },
        {
         "name": "TT4",
         "dtype": "float64",
         "stats": {
          "unique_count": 8,
          "nan_count": 0,
          "min": "2.0",
          "max": "2800.0",
          "histogram": [
           {
            "bin_start": 2,
            "bin_end": 281.8,
            "count": 6
           },
           {
            "bin_start": 281.8,
            "bin_end": 561.6,
            "count": 1
           },
           {
            "bin_start": 561.6,
            "bin_end": 841.4000000000001,
            "count": 0
           },
           {
            "bin_start": 841.4000000000001,
            "bin_end": 1121.2,
            "count": 0
           },
           {
            "bin_start": 1121.2,
            "bin_end": 1401,
            "count": 0
           },
           {
            "bin_start": 1401,
            "bin_end": 1680.8000000000002,
            "count": 0
           },
           {
            "bin_start": 1680.8000000000002,
            "bin_end": 1960.6000000000001,
            "count": 0
           },
           {
            "bin_start": 1960.6000000000001,
            "bin_end": 2240.4,
            "count": 0
           },
           {
            "bin_start": 2240.4,
            "bin_end": 2520.2000000000003,
            "count": 0
           },
           {
            "bin_start": 2520.2000000000003,
            "bin_end": 2800,
            "count": 1
           }
          ]
         }
        },
        {
         "name": "T4U",
         "dtype": "float64",
         "stats": {
          "unique_count": 8,
          "nan_count": 0,
          "min": "0.18387079708429901",
          "max": "2800.0",
          "histogram": [
           {
            "bin_start": 0.18387079708429901,
            "bin_end": 280.1654837173759,
            "count": 7
           },
           {
            "bin_start": 280.1654837173759,
            "bin_end": 560.1470966376675,
            "count": 0
           },
           {
            "bin_start": 560.1470966376675,
            "bin_end": 840.128709557959,
            "count": 0
           },
           {
            "bin_start": 840.128709557959,
            "bin_end": 1120.1103224782507,
            "count": 0
           },
           {
            "bin_start": 1120.1103224782507,
            "bin_end": 1400.0919353985423,
            "count": 0
           },
           {
            "bin_start": 1400.0919353985423,
            "bin_end": 1680.073548318834,
            "count": 0
           },
           {
            "bin_start": 1680.073548318834,
            "bin_end": 1960.0551612391255,
            "count": 0
           },
           {
            "bin_start": 1960.0551612391255,
            "bin_end": 2240.036774159417,
            "count": 0
           },
           {
            "bin_start": 2240.036774159417,
            "bin_end": 2520.0183870797086,
            "count": 0
           },
           {
            "bin_start": 2520.0183870797086,
            "bin_end": 2800,
            "count": 1
           }
          ]
         }
        },
        {
         "name": "FTI",
         "dtype": "float64",
         "stats": {
          "unique_count": 8,
          "nan_count": 0,
          "min": "2.0",
          "max": "2800.0",
          "histogram": [
           {
            "bin_start": 2,
            "bin_end": 281.8,
            "count": 6
           },
           {
            "bin_start": 281.8,
            "bin_end": 561.6,
            "count": 1
           },
           {
            "bin_start": 561.6,
            "bin_end": 841.4000000000001,
            "count": 0
           },
           {
            "bin_start": 841.4000000000001,
            "bin_end": 1121.2,
            "count": 0
           },
           {
            "bin_start": 1121.2,
            "bin_end": 1401,
            "count": 0
           },
           {
            "bin_start": 1401,
            "bin_end": 1680.8000000000002,
            "count": 0
           },
           {
            "bin_start": 1680.8000000000002,
            "bin_end": 1960.6000000000001,
            "count": 0
           },
           {
            "bin_start": 1960.6000000000001,
            "bin_end": 2240.4,
            "count": 0
           },
           {
            "bin_start": 2240.4,
            "bin_end": 2520.2000000000003,
            "count": 0
           },
           {
            "bin_start": 2520.2000000000003,
            "bin_end": 2800,
            "count": 1
           }
          ]
         }
        },
        {
         "name": "_deepnote_index_column",
         "dtype": "object"
        }
       ],
       "rows": [
        {
         "Age": 2800,
         "TSH": 2800,
         "T3": 2800,
         "TT4": 2800,
         "T4U": 2800,
         "FTI": 2800,
         "_deepnote_index_column": "count"
        },
        {
         "Age": 51.845,
         "TSH": 4.340260714285714,
         "T3": 2.01975,
         "TT4": 108.73907142857144,
         "T4U": 0.9960121428571428,
         "FTI": 110.38889285714286,
         "_deepnote_index_column": "mean"
        },
        {
         "Age": 20.457545247567463,
         "TSH": 20.356163243963497,
         "T3": 0.7334533724710378,
         "TT4": 34.232447776021196,
         "T4U": 0.18387079708429901,
         "FTI": 31.124590672652097,
         "_deepnote_index_column": "std"
        },
        {
         "Age": 1,
         "TSH": 0.005,
         "T3": 0.05,
         "TT4": 2,
         "T4U": 0.31,
         "FTI": 2,
         "_deepnote_index_column": "min"
        },
        {
         "Age": 36,
         "TSH": 0.5974999999999999,
         "T3": 1.7,
         "TT4": 89,
         "T4U": 0.89,
         "FTI": 95,
         "_deepnote_index_column": "25%"
        },
        {
         "Age": 54,
         "TSH": 1.4,
         "T3": 2,
         "TT4": 104,
         "T4U": 0.98,
         "FTI": 107,
         "_deepnote_index_column": "50%"
        },
        {
         "Age": 67,
         "TSH": 2.4,
         "T3": 2.3,
         "TT4": 123,
         "T4U": 1.07,
         "FTI": 122,
         "_deepnote_index_column": "75%"
        },
        {
         "Age": 455,
         "TSH": 478,
         "T3": 10.6,
         "TT4": 430,
         "T4U": 2.12,
         "FTI": 395,
         "_deepnote_index_column": "max"
        }
       ]
      },
      "text/plain": "               Age          TSH           T3          TT4          T4U  \\\ncount  2800.000000  2800.000000  2800.000000  2800.000000  2800.000000   \nmean     51.845000     4.340261     2.019750   108.739071     0.996012   \nstd      20.457545    20.356163     0.733453    34.232448     0.183871   \nmin       1.000000     0.005000     0.050000     2.000000     0.310000   \n25%      36.000000     0.597500     1.700000    89.000000     0.890000   \n50%      54.000000     1.400000     2.000000   104.000000     0.980000   \n75%      67.000000     2.400000     2.300000   123.000000     1.070000   \nmax     455.000000   478.000000    10.600000   430.000000     2.120000   \n\n               FTI  \ncount  2800.000000  \nmean    110.388893  \nstd      31.124591  \nmin       2.000000  \n25%      95.000000  \n50%     107.000000  \n75%     122.000000  \nmax     395.000000  ",
      "text/html": "<div>\n<style scoped>\n    .dataframe tbody tr th:only-of-type {\n        vertical-align: middle;\n    }\n\n    .dataframe tbody tr th {\n        vertical-align: top;\n    }\n\n    .dataframe thead th {\n        text-align: right;\n    }\n</style>\n<table border=\"1\" class=\"dataframe\">\n  <thead>\n    <tr style=\"text-align: right;\">\n      <th></th>\n      <th>Age</th>\n      <th>TSH</th>\n      <th>T3</th>\n      <th>TT4</th>\n      <th>T4U</th>\n      <th>FTI</th>\n    </tr>\n  </thead>\n  <tbody>\n    <tr>\n      <th>count</th>\n      <td>2800.000000</td>\n      <td>2800.000000</td>\n      <td>2800.000000</td>\n      <td>2800.000000</td>\n      <td>2800.000000</td>\n      <td>2800.000000</td>\n    </tr>\n    <tr>\n      <th>mean</th>\n      <td>51.845000</td>\n      <td>4.340261</td>\n      <td>2.019750</td>\n      <td>108.739071</td>\n      <td>0.996012</td>\n      <td>110.388893</td>\n    </tr>\n    <tr>\n      <th>std</th>\n      <td>20.457545</td>\n      <td>20.356163</td>\n      <td>0.733453</td>\n      <td>34.232448</td>\n      <td>0.183871</td>\n      <td>31.124591</td>\n    </tr>\n    <tr>\n      <th>min</th>\n      <td>1.000000</td>\n      <td>0.005000</td>\n      <td>0.050000</td>\n      <td>2.000000</td>\n      <td>0.310000</td>\n      <td>2.000000</td>\n    </tr>\n    <tr>\n      <th>25%</th>\n      <td>36.000000</td>\n      <td>0.597500</td>\n      <td>1.700000</td>\n      <td>89.000000</td>\n      <td>0.890000</td>\n      <td>95.000000</td>\n    </tr>\n    <tr>\n      <th>50%</th>\n      <td>54.000000</td>\n      <td>1.400000</td>\n      <td>2.000000</td>\n      <td>104.000000</td>\n      <td>0.980000</td>\n      <td>107.000000</td>\n    </tr>\n    <tr>\n      <th>75%</th>\n      <td>67.000000</td>\n      <td>2.400000</td>\n      <td>2.300000</td>\n      <td>123.000000</td>\n      <td>1.070000</td>\n      <td>122.000000</td>\n    </tr>\n    <tr>\n      <th>max</th>\n      <td>455.000000</td>\n      <td>478.000000</td>\n      <td>10.600000</td>\n      <td>430.000000</td>\n      <td>2.120000</td>\n      <td>395.000000</td>\n    </tr>\n  </tbody>\n</table>\n</div>"
     },
     "metadata": {}
    }
   ],
   "execution_count": null
  },
  {
   "cell_type": "markdown",
   "source": "Great! Let's see if there's any other records we have to address. count() is a nice way to check if we have any other missing values.",
   "metadata": {
    "colab_type": "text",
    "id": "Jo9aRzltCOK8",
    "cell_id": "00027-3c662a88-d2e9-4efa-93a3-bebb230dabcc",
    "deepnote_cell_type": "markdown",
    "deepnote_cell_height": 74.78125
   }
  },
  {
   "cell_type": "code",
   "metadata": {
    "colab": {
     "autoexec": {
      "startup": false,
      "wait_interval": 0
     }
    },
    "colab_type": "code",
    "id": "Q1yGe8nrzozW",
    "cell_id": "00028-ebd9756e-fd9e-44f1-859b-d7f7a393821c",
    "deepnote_to_be_reexecuted": false,
    "source_hash": "5b370030",
    "execution_start": 1657916770345,
    "execution_millis": 277,
    "deepnote_cell_type": "code",
    "deepnote_cell_height": 655.40625
   },
   "source": "dataset.count()",
   "outputs": [
    {
     "output_type": "execute_result",
     "execution_count": 13,
     "data": {
      "text/plain": "Age                          2800\nSex                          2690\nOn Thyroxine                 2800\nQuery on Thyroxine           2800\nOn Antithyroid Medication    2800\nSick                         2800\nPregnant                     2800\nThyroid Surgery              2800\nI131 Treatment               2800\nQuery Hypothyroid            2800\nQuery Hyperthyroid           2800\nLithium                      2800\nGoiter                       2800\nTumor                        2800\nHypopituitary                2800\nPsych                        2800\nTSH Measured                 2800\nTSH                          2800\nT3 Measured                  2800\nT3                           2800\nTT4 Measured                 2800\nTT4                          2800\nT4U Measured                 2800\nT4U                          2800\nFTI Measured                 2800\nFTI                          2800\nTBG Measured                 2800\nTBG                             0\ndtype: int64"
     },
     "metadata": {}
    }
   ],
   "execution_count": null
  },
  {
   "cell_type": "markdown",
   "source": "We could replace the missing values in proportion to the current number of males and females over the total, but that is making an assumption we don't have to make. For now, let's simply cut the records of all these sexless people out of our data.",
   "metadata": {
    "colab_type": "text",
    "id": "-Y9DDq8qCeL8",
    "cell_id": "00029-e3fd0fcd-0d18-44a2-a05d-8cb82d03df9e",
    "deepnote_cell_type": "markdown",
    "deepnote_cell_height": 97.1875
   }
  },
  {
   "cell_type": "code",
   "metadata": {
    "colab": {
     "autoexec": {
      "startup": false,
      "wait_interval": 0
     }
    },
    "colab_type": "code",
    "id": "1E6qS7F5zyt3",
    "cell_id": "00030-58548724-742a-46dd-b3c3-385331d54e45",
    "deepnote_to_be_reexecuted": false,
    "source_hash": "e384b99b",
    "execution_start": 1657916770362,
    "execution_millis": 262,
    "deepnote_cell_type": "code",
    "deepnote_cell_height": 672.203125
   },
   "source": "### Your code here\ndata = data.dropna(axis='rows')\ndata.count()",
   "outputs": [
    {
     "output_type": "execute_result",
     "execution_count": 14,
     "data": {
      "text/plain": "Age                            2690\nSex                            2690\nTSH                            2690\nT3                             2690\nTT4                            2690\nT4U                            2690\nFTI                            2690\nOn Thyroxine_t                 2690\nQuery on Thyroxine_t           2690\nOn Antithyroid Medication_t    2690\nSick_t                         2690\nPregnant_t                     2690\nThyroid Surgery_t              2690\nI131 Treatment_t               2690\nQuery Hypothyroid_t            2690\nQuery Hyperthyroid_t           2690\nLithium_t                      2690\nGoiter_t                       2690\nTumor_t                        2690\nHypopituitary_t                2690\nPsych_t                        2690\nTSH Measured_t                 2690\nT3 Measured_t                  2690\nTT4 Measured_t                 2690\nT4U Measured_t                 2690\nFTI Measured_t                 2690\nClass                          2690\ndtype: int64"
     },
     "metadata": {}
    }
   ],
   "execution_count": null
  },
  {
   "cell_type": "markdown",
   "source": "Nice! Now we have a pretty clean dataset to work with. Let's now do some further data analysis and visualization to better understand what we're working with.",
   "metadata": {
    "colab_type": "text",
    "id": "eTcS25EHF4vL",
    "cell_id": "00031-9c48d9a8-de4c-47f8-b216-2d513ccd1e60",
    "deepnote_cell_type": "markdown",
    "deepnote_cell_height": 74.78125
   }
  },
  {
   "cell_type": "markdown",
   "source": "## Data analysis and visualization",
   "metadata": {
    "colab_type": "text",
    "id": "SsiaTCjQql3S",
    "cell_id": "00032-3f0ec780-a580-48d9-9af1-06db3d8591d2",
    "deepnote_cell_type": "markdown",
    "deepnote_cell_height": 69.96875
   }
  },
  {
   "cell_type": "markdown",
   "source": "Check the correlation of the dataset",
   "metadata": {
    "colab_type": "text",
    "id": "huFOG2Mw3OqJ",
    "cell_id": "00033-220c09f0-3cd5-499d-8f19-aadc8492b45d",
    "deepnote_cell_type": "markdown",
    "deepnote_cell_height": 52.375
   }
  },
  {
   "cell_type": "code",
   "metadata": {
    "colab": {
     "autoexec": {
      "startup": false,
      "wait_interval": 0
     }
    },
    "colab_type": "code",
    "id": "fXrXSMW_GSeT",
    "cell_id": "00034-d2ffd0d7-43eb-473f-9748-36ef544a7e8a",
    "deepnote_to_be_reexecuted": false,
    "source_hash": "76d76e0a",
    "execution_start": 1657916770371,
    "execution_millis": 285,
    "deepnote_cell_type": "code",
    "deepnote_cell_height": 617.90625
   },
   "source": "### Your code here\ndata.corr()",
   "outputs": [
    {
     "output_type": "execute_result",
     "execution_count": 15,
     "data": {
      "application/vnd.deepnote.dataframe.v3+json": {
       "column_count": 27,
       "row_count": 27,
       "columns": [
        {
         "name": "Age",
         "dtype": "float64",
         "stats": {
          "unique_count": 27,
          "nan_count": 0,
          "min": "-0.22428552546513156",
          "max": "1.0",
          "histogram": [
           {
            "bin_start": -0.22428552546513156,
            "bin_end": -0.10185697291861841,
            "count": 3
           },
           {
            "bin_start": -0.10185697291861841,
            "bin_end": 0.020571579627894743,
            "count": 14
           },
           {
            "bin_start": 0.020571579627894743,
            "bin_end": 0.1430001321744079,
            "count": 9
           },
           {
            "bin_start": 0.1430001321744079,
            "bin_end": 0.26542868472092107,
            "count": 0
           },
           {
            "bin_start": 0.26542868472092107,
            "bin_end": 0.38785723726743415,
            "count": 0
           },
           {
            "bin_start": 0.38785723726743415,
            "bin_end": 0.5102857898139473,
            "count": 0
           },
           {
            "bin_start": 0.5102857898139473,
            "bin_end": 0.6327143423604604,
            "count": 0
           },
           {
            "bin_start": 0.6327143423604604,
            "bin_end": 0.7551428949069736,
            "count": 0
           },
           {
            "bin_start": 0.7551428949069736,
            "bin_end": 0.8775714474534867,
            "count": 0
           },
           {
            "bin_start": 0.8775714474534867,
            "bin_end": 1,
            "count": 1
           }
          ]
         }
        },
        {
         "name": "Sex",
         "dtype": "float64",
         "stats": {
          "unique_count": 27,
          "nan_count": 0,
          "min": "-0.22774214036759813",
          "max": "1.0",
          "histogram": [
           {
            "bin_start": -0.22774214036759813,
            "bin_end": -0.10496792633083832,
            "count": 2
           },
           {
            "bin_start": -0.10496792633083832,
            "bin_end": 0.017806287705921492,
            "count": 15
           },
           {
            "bin_start": 0.017806287705921492,
            "bin_end": 0.1405805017426813,
            "count": 9
           },
           {
            "bin_start": 0.1405805017426813,
            "bin_end": 0.26335471577944114,
            "count": 0
           },
           {
            "bin_start": 0.26335471577944114,
            "bin_end": 0.38612892981620095,
            "count": 0
           },
           {
            "bin_start": 0.38612892981620095,
            "bin_end": 0.5089031438529608,
            "count": 0
           },
           {
            "bin_start": 0.5089031438529608,
            "bin_end": 0.6316773578897206,
            "count": 0
           },
           {
            "bin_start": 0.6316773578897206,
            "bin_end": 0.7544515719264804,
            "count": 0
           },
           {
            "bin_start": 0.7544515719264804,
            "bin_end": 0.8772257859632402,
            "count": 0
           },
           {
            "bin_start": 0.8772257859632402,
            "bin_end": 1,
            "count": 1
           }
          ]
         }
        },
        {
         "name": "TSH",
         "dtype": "float64",
         "stats": {
          "unique_count": 27,
          "nan_count": 0,
          "min": "-0.29518756279514613",
          "max": "1.0",
          "histogram": [
           {
            "bin_start": -0.29518756279514613,
            "bin_end": -0.1656688065156315,
            "count": 2
           },
           {
            "bin_start": -0.1656688065156315,
            "bin_end": -0.03615005023611689,
            "count": 1
           },
           {
            "bin_start": -0.03615005023611689,
            "bin_end": 0.09336870604339775,
            "count": 22
           },
           {
            "bin_start": 0.09336870604339775,
            "bin_end": 0.22288746232291234,
            "count": 0
           },
           {
            "bin_start": 0.22288746232291234,
            "bin_end": 0.35240621860242693,
            "count": 0
           },
           {
            "bin_start": 0.35240621860242693,
            "bin_end": 0.48192497488194164,
            "count": 1
           },
           {
            "bin_start": 0.48192497488194164,
            "bin_end": 0.6114437311614562,
            "count": 0
           },
           {
            "bin_start": 0.6114437311614562,
            "bin_end": 0.7409624874409708,
            "count": 0
           },
           {
            "bin_start": 0.7409624874409708,
            "bin_end": 0.8704812437204854,
            "count": 0
           },
           {
            "bin_start": 0.8704812437204854,
            "bin_end": 1,
            "count": 1
           }
          ]
         }
        },
        {
         "name": "T3",
         "dtype": "float64",
         "stats": {
          "unique_count": 27,
          "nan_count": 0,
          "min": "-0.22428552546513156",
          "max": "1.0",
          "histogram": [
           {
            "bin_start": -0.22428552546513156,
            "bin_end": -0.10185697291861841,
            "count": 3
           },
           {
            "bin_start": -0.10185697291861841,
            "bin_end": 0.020571579627894743,
            "count": 14
           },
           {
            "bin_start": 0.020571579627894743,
            "bin_end": 0.1430001321744079,
            "count": 4
           },
           {
            "bin_start": 0.1430001321744079,
            "bin_end": 0.26542868472092107,
            "count": 2
           },
           {
            "bin_start": 0.26542868472092107,
            "bin_end": 0.38785723726743415,
            "count": 1
           },
           {
            "bin_start": 0.38785723726743415,
            "bin_end": 0.5102857898139473,
            "count": 1
           },
           {
            "bin_start": 0.5102857898139473,
            "bin_end": 0.6327143423604604,
            "count": 1
           },
           {
            "bin_start": 0.6327143423604604,
            "bin_end": 0.7551428949069736,
            "count": 0
           },
           {
            "bin_start": 0.7551428949069736,
            "bin_end": 0.8775714474534867,
            "count": 0
           },
           {
            "bin_start": 0.8775714474534867,
            "bin_end": 1,
            "count": 1
           }
          ]
         }
        },
        {
         "name": "TT4",
         "dtype": "float64",
         "stats": {
          "unique_count": 27,
          "nan_count": 0,
          "min": "-0.26898644591600823",
          "max": "1.0",
          "histogram": [
           {
            "bin_start": -0.26898644591600823,
            "bin_end": -0.1420878013244074,
            "count": 3
           },
           {
            "bin_start": -0.1420878013244074,
            "bin_end": -0.015189156732806575,
            "count": 8
           },
           {
            "bin_start": -0.015189156732806575,
            "bin_end": 0.11170948785879425,
            "count": 9
           },
           {
            "bin_start": 0.11170948785879425,
            "bin_end": 0.23860813245039508,
            "count": 3
           },
           {
            "bin_start": 0.23860813245039508,
            "bin_end": 0.3655067770419959,
            "count": 0
           },
           {
            "bin_start": 0.3655067770419959,
            "bin_end": 0.49240542163359674,
            "count": 1
           },
           {
            "bin_start": 0.49240542163359674,
            "bin_end": 0.6193040662251976,
            "count": 1
           },
           {
            "bin_start": 0.6193040662251976,
            "bin_end": 0.7462027108167983,
            "count": 0
           },
           {
            "bin_start": 0.7462027108167983,
            "bin_end": 0.8731013554083991,
            "count": 1
           },
           {
            "bin_start": 0.8731013554083991,
            "bin_end": 1,
            "count": 1
           }
          ]
         }
        },
        {
         "name": "T4U",
         "dtype": "float64",
         "stats": {
          "unique_count": 27,
          "nan_count": 0,
          "min": "-0.22774214036759813",
          "max": "1.0",
          "histogram": [
           {
            "bin_start": -0.22774214036759813,
            "bin_end": -0.10496792633083832,
            "count": 3
           },
           {
            "bin_start": -0.10496792633083832,
            "bin_end": 0.017806287705921492,
            "count": 9
           },
           {
            "bin_start": 0.017806287705921492,
            "bin_end": 0.1405805017426813,
            "count": 11
           },
           {
            "bin_start": 0.1405805017426813,
            "bin_end": 0.26335471577944114,
            "count": 0
           },
           {
            "bin_start": 0.26335471577944114,
            "bin_end": 0.38612892981620095,
            "count": 1
           },
           {
            "bin_start": 0.38612892981620095,
            "bin_end": 0.5089031438529608,
            "count": 2
           },
           {
            "bin_start": 0.5089031438529608,
            "bin_end": 0.6316773578897206,
            "count": 0
           },
           {
            "bin_start": 0.6316773578897206,
            "bin_end": 0.7544515719264804,
            "count": 0
           },
           {
            "bin_start": 0.7544515719264804,
            "bin_end": 0.8772257859632402,
            "count": 0
           },
           {
            "bin_start": 0.8772257859632402,
            "bin_end": 1,
            "count": 1
           }
          ]
         }
        },
        {
         "name": "FTI",
         "dtype": "float64",
         "stats": {
          "unique_count": 27,
          "nan_count": 0,
          "min": "-0.29518756279514613",
          "max": "1.0",
          "histogram": [
           {
            "bin_start": -0.29518756279514613,
            "bin_end": -0.1656688065156315,
            "count": 3
           },
           {
            "bin_start": -0.1656688065156315,
            "bin_end": -0.03615005023611689,
            "count": 4
           },
           {
            "bin_start": -0.03615005023611689,
            "bin_end": 0.09336870604339775,
            "count": 15
           },
           {
            "bin_start": 0.09336870604339775,
            "bin_end": 0.22288746232291234,
            "count": 2
           },
           {
            "bin_start": 0.22288746232291234,
            "bin_end": 0.35240621860242693,
            "count": 1
           },
           {
            "bin_start": 0.35240621860242693,
            "bin_end": 0.48192497488194164,
            "count": 0
           },
           {
            "bin_start": 0.48192497488194164,
            "bin_end": 0.6114437311614562,
            "count": 0
           },
           {
            "bin_start": 0.6114437311614562,
            "bin_end": 0.7409624874409708,
            "count": 0
           },
           {
            "bin_start": 0.7409624874409708,
            "bin_end": 0.8704812437204854,
            "count": 1
           },
           {
            "bin_start": 0.8704812437204854,
            "bin_end": 1,
            "count": 1
           }
          ]
         }
        },
        {
         "name": "On Thyroxine_t",
         "dtype": "float64",
         "stats": {
          "unique_count": 27,
          "nan_count": 0,
          "min": "-0.15909016562721182",
          "max": "1.0",
          "histogram": [
           {
            "bin_start": -0.15909016562721182,
            "bin_end": -0.04318114906449062,
            "count": 5
           },
           {
            "bin_start": -0.04318114906449062,
            "bin_end": 0.07272786749823057,
            "count": 18
           },
           {
            "bin_start": 0.07272786749823057,
            "bin_end": 0.18863688406095178,
            "count": 2
           },
           {
            "bin_start": 0.18863688406095178,
            "bin_end": 0.3045459006236729,
            "count": 1
           },
           {
            "bin_start": 0.3045459006236729,
            "bin_end": 0.42045491718639416,
            "count": 0
           },
           {
            "bin_start": 0.42045491718639416,
            "bin_end": 0.5363639337491154,
            "count": 0
           },
           {
            "bin_start": 0.5363639337491154,
            "bin_end": 0.6522729503118365,
            "count": 0
           },
           {
            "bin_start": 0.6522729503118365,
            "bin_end": 0.7681819668745578,
            "count": 0
           },
           {
            "bin_start": 0.7681819668745578,
            "bin_end": 0.8840909834372789,
            "count": 0
           },
           {
            "bin_start": 0.8840909834372789,
            "bin_end": 1,
            "count": 1
           }
          ]
         }
        },
        {
         "name": "Query on Thyroxine_t",
         "dtype": "float64",
         "stats": {
          "unique_count": 27,
          "nan_count": 0,
          "min": "-0.12215193737775",
          "max": "1.0",
          "histogram": [
           {
            "bin_start": -0.12215193737775,
            "bin_end": -0.009936743639975001,
            "count": 11
           },
           {
            "bin_start": -0.009936743639975001,
            "bin_end": 0.1022784500978,
            "count": 14
           },
           {
            "bin_start": 0.1022784500978,
            "bin_end": 0.214493643835575,
            "count": 1
           },
           {
            "bin_start": 0.214493643835575,
            "bin_end": 0.32670883757335,
            "count": 0
           },
           {
            "bin_start": 0.32670883757335,
            "bin_end": 0.438924031311125,
            "count": 0
           },
           {
            "bin_start": 0.438924031311125,
            "bin_end": 0.5511392250489,
            "count": 0
           },
           {
            "bin_start": 0.5511392250489,
            "bin_end": 0.663354418786675,
            "count": 0
           },
           {
            "bin_start": 0.663354418786675,
            "bin_end": 0.77556961252445,
            "count": 0
           },
           {
            "bin_start": 0.77556961252445,
            "bin_end": 0.8877848062622251,
            "count": 0
           },
           {
            "bin_start": 0.8877848062622251,
            "bin_end": 1,
            "count": 1
           }
          ]
         }
        },
        {
         "name": "On Antithyroid Medication_t",
         "dtype": "float64",
         "stats": {
          "unique_count": 27,
          "nan_count": 0,
          "min": "-0.07093249238773516",
          "max": "1.0",
          "histogram": [
           {
            "bin_start": -0.07093249238773516,
            "bin_end": 0.03616075685103837,
            "count": 22
           },
           {
            "bin_start": 0.03616075685103837,
            "bin_end": 0.1432540060898119,
            "count": 4
           },
           {
            "bin_start": 0.1432540060898119,
            "bin_end": 0.2503472553285855,
            "count": 0
           },
           {
            "bin_start": 0.2503472553285855,
            "bin_end": 0.357440504567359,
            "count": 0
           },
           {
            "bin_start": 0.357440504567359,
            "bin_end": 0.4645337538061325,
            "count": 0
           },
           {
            "bin_start": 0.4645337538061325,
            "bin_end": 0.5716270030449061,
            "count": 0
           },
           {
            "bin_start": 0.5716270030449061,
            "bin_end": 0.6787202522836796,
            "count": 0
           },
           {
            "bin_start": 0.6787202522836796,
            "bin_end": 0.7858135015224531,
            "count": 0
           },
           {
            "bin_start": 0.7858135015224531,
            "bin_end": 0.8929067507612266,
            "count": 0
           },
           {
            "bin_start": 0.8929067507612266,
            "bin_end": 1,
            "count": 1
           }
          ]
         }
        },
        {
         "name": "Sick_t",
         "dtype": "float64",
         "stats": {
          "unique_count": 27,
          "nan_count": 0,
          "min": "-0.07863470648125062",
          "max": "1.0",
          "histogram": [
           {
            "bin_start": -0.07863470648125062,
            "bin_end": 0.02922876416687445,
            "count": 22
           },
           {
            "bin_start": 0.02922876416687445,
            "bin_end": 0.13709223481499952,
            "count": 4
           },
           {
            "bin_start": 0.13709223481499952,
            "bin_end": 0.2449557054631246,
            "count": 0
           },
           {
            "bin_start": 0.2449557054631246,
            "bin_end": 0.3528191761112497,
            "count": 0
           },
           {
            "bin_start": 0.3528191761112497,
            "bin_end": 0.46068264675937476,
            "count": 0
           },
           {
            "bin_start": 0.46068264675937476,
            "bin_end": 0.5685461174074998,
            "count": 0
           },
           {
            "bin_start": 0.5685461174074998,
            "bin_end": 0.6764095880556249,
            "count": 0
           },
           {
            "bin_start": 0.6764095880556249,
            "bin_end": 0.78427305870375,
            "count": 0
           },
           {
            "bin_start": 0.78427305870375,
            "bin_end": 0.892136529351875,
            "count": 0
           },
           {
            "bin_start": 0.892136529351875,
            "bin_end": 1,
            "count": 1
           }
          ]
         }
        },
        {
         "name": "Pregnant_t",
         "dtype": "float64",
         "stats": {
          "unique_count": 27,
          "nan_count": 0,
          "min": "-0.11603835693569141",
          "max": "1.0",
          "histogram": [
           {
            "bin_start": -0.11603835693569141,
            "bin_end": -0.004434521242122277,
            "count": 12
           },
           {
            "bin_start": -0.004434521242122277,
            "bin_end": 0.10716931445144685,
            "count": 9
           },
           {
            "bin_start": 0.10716931445144685,
            "bin_end": 0.21877315014501597,
            "count": 4
           },
           {
            "bin_start": 0.21877315014501597,
            "bin_end": 0.3303769858385851,
            "count": 0
           },
           {
            "bin_start": 0.3303769858385851,
            "bin_end": 0.44198082153215423,
            "count": 1
           },
           {
            "bin_start": 0.44198082153215423,
            "bin_end": 0.5535846572257234,
            "count": 0
           },
           {
            "bin_start": 0.5535846572257234,
            "bin_end": 0.6651884929192925,
            "count": 0
           },
           {
            "bin_start": 0.6651884929192925,
            "bin_end": 0.7767923286128616,
            "count": 0
           },
           {
            "bin_start": 0.7767923286128616,
            "bin_end": 0.8883961643064308,
            "count": 0
           },
           {
            "bin_start": 0.8883961643064308,
            "bin_end": 1,
            "count": 1
           }
          ]
         }
        },
        {
         "name": "Thyroid Surgery_t",
         "dtype": "float64",
         "stats": {
          "unique_count": 27,
          "nan_count": 0,
          "min": "-0.04313574572024398",
          "max": "1.0",
          "histogram": [
           {
            "bin_start": -0.04313574572024398,
            "bin_end": 0.061177828851780414,
            "count": 26
           },
           {
            "bin_start": 0.061177828851780414,
            "bin_end": 0.1654914034238048,
            "count": 0
           },
           {
            "bin_start": 0.1654914034238048,
            "bin_end": 0.2698049779958292,
            "count": 0
           },
           {
            "bin_start": 0.2698049779958292,
            "bin_end": 0.3741185525678536,
            "count": 0
           },
           {
            "bin_start": 0.3741185525678536,
            "bin_end": 0.478432127139878,
            "count": 0
           },
           {
            "bin_start": 0.478432127139878,
            "bin_end": 0.5827457017119024,
            "count": 0
           },
           {
            "bin_start": 0.5827457017119024,
            "bin_end": 0.6870592762839267,
            "count": 0
           },
           {
            "bin_start": 0.6870592762839267,
            "bin_end": 0.7913728508559512,
            "count": 0
           },
           {
            "bin_start": 0.7913728508559512,
            "bin_end": 0.8956864254279755,
            "count": 0
           },
           {
            "bin_start": 0.8956864254279755,
            "bin_end": 1,
            "count": 1
           }
          ]
         }
        },
        {
         "name": "I131 Treatment_t",
         "dtype": "float64",
         "stats": {
          "unique_count": 27,
          "nan_count": 0,
          "min": "-0.029865197640162926",
          "max": "1.0",
          "histogram": [
           {
            "bin_start": -0.029865197640162926,
            "bin_end": 0.07312132212385336,
            "count": 24
           },
           {
            "bin_start": 0.07312132212385336,
            "bin_end": 0.17610784188786965,
            "count": 2
           },
           {
            "bin_start": 0.17610784188786965,
            "bin_end": 0.27909436165188595,
            "count": 0
           },
           {
            "bin_start": 0.27909436165188595,
            "bin_end": 0.38208088141590224,
            "count": 0
           },
           {
            "bin_start": 0.38208088141590224,
            "bin_end": 0.48506740117991853,
            "count": 0
           },
           {
            "bin_start": 0.48506740117991853,
            "bin_end": 0.5880539209439348,
            "count": 0
           },
           {
            "bin_start": 0.5880539209439348,
            "bin_end": 0.6910404407079511,
            "count": 0
           },
           {
            "bin_start": 0.6910404407079511,
            "bin_end": 0.7940269604719674,
            "count": 0
           },
           {
            "bin_start": 0.7940269604719674,
            "bin_end": 0.8970134802359837,
            "count": 0
           },
           {
            "bin_start": 0.8970134802359837,
            "bin_end": 1,
            "count": 1
           }
          ]
         }
        },
        {
         "name": "Query Hypothyroid_t",
         "dtype": "float64",
         "stats": {
          "unique_count": 27,
          "nan_count": 0,
          "min": "-0.0772948272952792",
          "max": "1.0",
          "histogram": [
           {
            "bin_start": -0.0772948272952792,
            "bin_end": 0.03043465543424871,
            "count": 20
           },
           {
            "bin_start": 0.03043465543424871,
            "bin_end": 0.13816413816377662,
            "count": 6
           },
           {
            "bin_start": 0.13816413816377662,
            "bin_end": 0.24589362089330452,
            "count": 0
           },
           {
            "bin_start": 0.24589362089330452,
            "bin_end": 0.35362310362283245,
            "count": 0
           },
           {
            "bin_start": 0.35362310362283245,
            "bin_end": 0.46135258635236037,
            "count": 0
           },
           {
            "bin_start": 0.46135258635236037,
            "bin_end": 0.5690820690818883,
            "count": 0
           },
           {
            "bin_start": 0.5690820690818883,
            "bin_end": 0.6768115518114162,
            "count": 0
           },
           {
            "bin_start": 0.6768115518114162,
            "bin_end": 0.784541034540944,
            "count": 0
           },
           {
            "bin_start": 0.784541034540944,
            "bin_end": 0.8922705172704719,
            "count": 0
           },
           {
            "bin_start": 0.8922705172704719,
            "bin_end": 1,
            "count": 1
           }
          ]
         }
        },
        {
         "name": "Query Hyperthyroid_t",
         "dtype": "float64",
         "stats": {
          "unique_count": 27,
          "nan_count": 0,
          "min": "-0.07151726451441819",
          "max": "1.0",
          "histogram": [
           {
            "bin_start": -0.07151726451441819,
            "bin_end": 0.03563446193702363,
            "count": 18
           },
           {
            "bin_start": 0.03563446193702363,
            "bin_end": 0.14278618838846546,
            "count": 7
           },
           {
            "bin_start": 0.14278618838846546,
            "bin_end": 0.24993791483990724,
            "count": 1
           },
           {
            "bin_start": 0.24993791483990724,
            "bin_end": 0.35708964129134907,
            "count": 0
           },
           {
            "bin_start": 0.35708964129134907,
            "bin_end": 0.4642413677427909,
            "count": 0
           },
           {
            "bin_start": 0.4642413677427909,
            "bin_end": 0.5713930941942327,
            "count": 0
           },
           {
            "bin_start": 0.5713930941942327,
            "bin_end": 0.6785448206456746,
            "count": 0
           },
           {
            "bin_start": 0.6785448206456746,
            "bin_end": 0.7856965470971163,
            "count": 0
           },
           {
            "bin_start": 0.7856965470971163,
            "bin_end": 0.8928482735485581,
            "count": 0
           },
           {
            "bin_start": 0.8928482735485581,
            "bin_end": 1,
            "count": 1
           }
          ]
         }
        },
        {
         "name": "Lithium_t",
         "dtype": "float64",
         "stats": {
          "unique_count": 27,
          "nan_count": 0,
          "min": "-0.030682145335268245",
          "max": "1.0",
          "histogram": [
           {
            "bin_start": -0.030682145335268245,
            "bin_end": 0.07238606919825857,
            "count": 26
           },
           {
            "bin_start": 0.07238606919825857,
            "bin_end": 0.17545428373178537,
            "count": 0
           },
           {
            "bin_start": 0.17545428373178537,
            "bin_end": 0.27852249826531217,
            "count": 0
           },
           {
            "bin_start": 0.27852249826531217,
            "bin_end": 0.381590712798839,
            "count": 0
           },
           {
            "bin_start": 0.381590712798839,
            "bin_end": 0.4846589273323658,
            "count": 0
           },
           {
            "bin_start": 0.4846589273323658,
            "bin_end": 0.5877271418658926,
            "count": 0
           },
           {
            "bin_start": 0.5877271418658926,
            "bin_end": 0.6907953563994195,
            "count": 0
           },
           {
            "bin_start": 0.6907953563994195,
            "bin_end": 0.7938635709329462,
            "count": 0
           },
           {
            "bin_start": 0.7938635709329462,
            "bin_end": 0.896931785466473,
            "count": 0
           },
           {
            "bin_start": 0.896931785466473,
            "bin_end": 1,
            "count": 1
           }
          ]
         }
        },
        {
         "name": "Goiter_t",
         "dtype": "float64",
         "stats": {
          "unique_count": 27,
          "nan_count": 0,
          "min": "-0.046398927303804516",
          "max": "1.0",
          "histogram": [
           {
            "bin_start": -0.046398927303804516,
            "bin_end": 0.05824096542657595,
            "count": 26
           },
           {
            "bin_start": 0.05824096542657595,
            "bin_end": 0.1628808581569564,
            "count": 0
           },
           {
            "bin_start": 0.1628808581569564,
            "bin_end": 0.2675207508873369,
            "count": 0
           },
           {
            "bin_start": 0.2675207508873369,
            "bin_end": 0.37216064361771733,
            "count": 0
           },
           {
            "bin_start": 0.37216064361771733,
            "bin_end": 0.47680053634809777,
            "count": 0
           },
           {
            "bin_start": 0.47680053634809777,
            "bin_end": 0.5814404290784783,
            "count": 0
           },
           {
            "bin_start": 0.5814404290784783,
            "bin_end": 0.6860803218088587,
            "count": 0
           },
           {
            "bin_start": 0.6860803218088587,
            "bin_end": 0.7907202145392391,
            "count": 0
           },
           {
            "bin_start": 0.7907202145392391,
            "bin_end": 0.8953601072696196,
            "count": 0
           },
           {
            "bin_start": 0.8953601072696196,
            "bin_end": 1,
            "count": 1
           }
          ]
         }
        },
        {
         "name": "Tumor_t",
         "dtype": "float64",
         "stats": {
          "unique_count": 27,
          "nan_count": 0,
          "min": "-0.07199660690640206",
          "max": "1.0",
          "histogram": [
           {
            "bin_start": -0.07199660690640206,
            "bin_end": 0.035203053784238145,
            "count": 21
           },
           {
            "bin_start": 0.035203053784238145,
            "bin_end": 0.14240271447487834,
            "count": 5
           },
           {
            "bin_start": 0.14240271447487834,
            "bin_end": 0.24960237516551856,
            "count": 0
           },
           {
            "bin_start": 0.24960237516551856,
            "bin_end": 0.3568020358561588,
            "count": 0
           },
           {
            "bin_start": 0.3568020358561588,
            "bin_end": 0.4640016965467989,
            "count": 0
           },
           {
            "bin_start": 0.4640016965467989,
            "bin_end": 0.5712013572374391,
            "count": 0
           },
           {
            "bin_start": 0.5712013572374391,
            "bin_end": 0.6784010179280793,
            "count": 0
           },
           {
            "bin_start": 0.6784010179280793,
            "bin_end": 0.7856006786187195,
            "count": 0
           },
           {
            "bin_start": 0.7856006786187195,
            "bin_end": 0.8928003393093598,
            "count": 0
           },
           {
            "bin_start": 0.8928003393093598,
            "bin_end": 1,
            "count": 1
           }
          ]
         }
        },
        {
         "name": "Hypopituitary_t",
         "dtype": "float64",
         "stats": {
          "unique_count": 27,
          "nan_count": 0,
          "min": "-0.03712099996745351",
          "max": "1.0",
          "histogram": [
           {
            "bin_start": -0.03712099996745351,
            "bin_end": 0.06659110002929185,
            "count": 25
           },
           {
            "bin_start": 0.06659110002929185,
            "bin_end": 0.17030320002603722,
            "count": 1
           },
           {
            "bin_start": 0.17030320002603722,
            "bin_end": 0.27401530002278257,
            "count": 0
           },
           {
            "bin_start": 0.27401530002278257,
            "bin_end": 0.3777274000195279,
            "count": 0
           },
           {
            "bin_start": 0.3777274000195279,
            "bin_end": 0.4814395000162733,
            "count": 0
           },
           {
            "bin_start": 0.4814395000162733,
            "bin_end": 0.5851516000130186,
            "count": 0
           },
           {
            "bin_start": 0.5851516000130186,
            "bin_end": 0.6888637000097639,
            "count": 0
           },
           {
            "bin_start": 0.6888637000097639,
            "bin_end": 0.7925758000065093,
            "count": 0
           },
           {
            "bin_start": 0.7925758000065093,
            "bin_end": 0.8962879000032546,
            "count": 0
           },
           {
            "bin_start": 0.8962879000032546,
            "bin_end": 1,
            "count": 1
           }
          ]
         }
        },
        {
         "name": "Psych_t",
         "dtype": "float64",
         "stats": {
          "unique_count": 27,
          "nan_count": 0,
          "min": "-0.08343069866257864",
          "max": "1.0",
          "histogram": [
           {
            "bin_start": -0.08343069866257864,
            "bin_end": 0.024912371203679215,
            "count": 19
           },
           {
            "bin_start": 0.024912371203679215,
            "bin_end": 0.1332554410699371,
            "count": 7
           },
           {
            "bin_start": 0.1332554410699371,
            "bin_end": 0.24159851093619494,
            "count": 0
           },
           {
            "bin_start": 0.24159851093619494,
            "bin_end": 0.3499415808024528,
            "count": 0
           },
           {
            "bin_start": 0.3499415808024528,
            "bin_end": 0.45828465066871066,
            "count": 0
           },
           {
            "bin_start": 0.45828465066871066,
            "bin_end": 0.5666277205349685,
            "count": 0
           },
           {
            "bin_start": 0.5666277205349685,
            "bin_end": 0.6749707904012263,
            "count": 0
           },
           {
            "bin_start": 0.6749707904012263,
            "bin_end": 0.7833138602674842,
            "count": 0
           },
           {
            "bin_start": 0.7833138602674842,
            "bin_end": 0.891656930133742,
            "count": 0
           },
           {
            "bin_start": 0.891656930133742,
            "bin_end": 1,
            "count": 1
           }
          ]
         }
        },
        {
         "name": "TSH Measured_t",
         "dtype": "float64",
         "stats": {
          "unique_count": 27,
          "nan_count": 0,
          "min": "-0.12215193737775",
          "max": "1.0",
          "histogram": [
           {
            "bin_start": -0.12215193737775,
            "bin_end": -0.009936743639975001,
            "count": 5
           },
           {
            "bin_start": -0.009936743639975001,
            "bin_end": 0.1022784500978,
            "count": 16
           },
           {
            "bin_start": 0.1022784500978,
            "bin_end": 0.214493643835575,
            "count": 1
           },
           {
            "bin_start": 0.214493643835575,
            "bin_end": 0.32670883757335,
            "count": 0
           },
           {
            "bin_start": 0.32670883757335,
            "bin_end": 0.438924031311125,
            "count": 0
           },
           {
            "bin_start": 0.438924031311125,
            "bin_end": 0.5511392250489,
            "count": 3
           },
           {
            "bin_start": 0.5511392250489,
            "bin_end": 0.663354418786675,
            "count": 0
           },
           {
            "bin_start": 0.663354418786675,
            "bin_end": 0.77556961252445,
            "count": 1
           },
           {
            "bin_start": 0.77556961252445,
            "bin_end": 0.8877848062622251,
            "count": 0
           },
           {
            "bin_start": 0.8877848062622251,
            "bin_end": 1,
            "count": 1
           }
          ]
         }
        },
        {
         "name": "T3 Measured_t",
         "dtype": "float64",
         "stats": {
          "unique_count": 27,
          "nan_count": 0,
          "min": "-0.15909016562721182",
          "max": "1.0",
          "histogram": [
           {
            "bin_start": -0.15909016562721182,
            "bin_end": -0.04318114906449062,
            "count": 2
           },
           {
            "bin_start": -0.04318114906449062,
            "bin_end": 0.07272786749823057,
            "count": 17
           },
           {
            "bin_start": 0.07272786749823057,
            "bin_end": 0.18863688406095178,
            "count": 3
           },
           {
            "bin_start": 0.18863688406095178,
            "bin_end": 0.3045459006236729,
            "count": 2
           },
           {
            "bin_start": 0.3045459006236729,
            "bin_end": 0.42045491718639416,
            "count": 0
           },
           {
            "bin_start": 0.42045491718639416,
            "bin_end": 0.5363639337491154,
            "count": 2
           },
           {
            "bin_start": 0.5363639337491154,
            "bin_end": 0.6522729503118365,
            "count": 0
           },
           {
            "bin_start": 0.6522729503118365,
            "bin_end": 0.7681819668745578,
            "count": 0
           },
           {
            "bin_start": 0.7681819668745578,
            "bin_end": 0.8840909834372789,
            "count": 0
           },
           {
            "bin_start": 0.8840909834372789,
            "bin_end": 1,
            "count": 1
           }
          ]
         }
        },
        {
         "name": "TT4 Measured_t",
         "dtype": "float64",
         "stats": {
          "unique_count": 27,
          "nan_count": 0,
          "min": "-0.05813662811149891",
          "max": "1.0",
          "histogram": [
           {
            "bin_start": -0.05813662811149891,
            "bin_end": 0.04767703469965099,
            "count": 18
           },
           {
            "bin_start": 0.04767703469965099,
            "bin_end": 0.15349069751080088,
            "count": 4
           },
           {
            "bin_start": 0.15349069751080088,
            "bin_end": 0.2593043603219508,
            "count": 0
           },
           {
            "bin_start": 0.2593043603219508,
            "bin_end": 0.3651180231331007,
            "count": 0
           },
           {
            "bin_start": 0.3651180231331007,
            "bin_end": 0.4709316859442506,
            "count": 1
           },
           {
            "bin_start": 0.4709316859442506,
            "bin_end": 0.5767453487554005,
            "count": 0
           },
           {
            "bin_start": 0.5767453487554005,
            "bin_end": 0.6825590115665504,
            "count": 0
           },
           {
            "bin_start": 0.6825590115665504,
            "bin_end": 0.7883726743777003,
            "count": 3
           },
           {
            "bin_start": 0.7883726743777003,
            "bin_end": 0.8941863371888502,
            "count": 0
           },
           {
            "bin_start": 0.8941863371888502,
            "bin_end": 1,
            "count": 1
           }
          ]
         }
        },
        {
         "name": "T4U Measured_t",
         "dtype": "float64",
         "stats": {
          "unique_count": 27,
          "nan_count": 0,
          "min": "-0.03771452568082965",
          "max": "1.0",
          "histogram": [
           {
            "bin_start": -0.03771452568082965,
            "bin_end": 0.06605692688725331,
            "count": 21
           },
           {
            "bin_start": 0.06605692688725331,
            "bin_end": 0.16982837945533627,
            "count": 1
           },
           {
            "bin_start": 0.16982837945533627,
            "bin_end": 0.2735998320234192,
            "count": 0
           },
           {
            "bin_start": 0.2735998320234192,
            "bin_end": 0.37737128459150215,
            "count": 1
           },
           {
            "bin_start": 0.37737128459150215,
            "bin_end": 0.4811427371595851,
            "count": 0
           },
           {
            "bin_start": 0.4811427371595851,
            "bin_end": 0.5849141897276681,
            "count": 1
           },
           {
            "bin_start": 0.5849141897276681,
            "bin_end": 0.688685642295751,
            "count": 0
           },
           {
            "bin_start": 0.688685642295751,
            "bin_end": 0.792457094863834,
            "count": 1
           },
           {
            "bin_start": 0.792457094863834,
            "bin_end": 0.8962285474319169,
            "count": 0
           },
           {
            "bin_start": 0.8962285474319169,
            "bin_end": 1,
            "count": 2
           }
          ]
         }
        },
        {
         "name": "FTI Measured_t",
         "dtype": "float64",
         "stats": {
          "unique_count": 27,
          "nan_count": 0,
          "min": "-0.03811059110481537",
          "max": "1.0",
          "histogram": [
           {
            "bin_start": -0.03811059110481537,
            "bin_end": 0.06570046800566617,
            "count": 21
           },
           {
            "bin_start": 0.06570046800566617,
            "bin_end": 0.1695115271161477,
            "count": 1
           },
           {
            "bin_start": 0.1695115271161477,
            "bin_end": 0.27332258622662925,
            "count": 0
           },
           {
            "bin_start": 0.27332258622662925,
            "bin_end": 0.3771336453371108,
            "count": 1
           },
           {
            "bin_start": 0.3771336453371108,
            "bin_end": 0.48094470444759235,
            "count": 0
           },
           {
            "bin_start": 0.48094470444759235,
            "bin_end": 0.5847557635580738,
            "count": 1
           },
           {
            "bin_start": 0.5847557635580738,
            "bin_end": 0.6885668226685554,
            "count": 0
           },
           {
            "bin_start": 0.6885668226685554,
            "bin_end": 0.7923778817790369,
            "count": 1
           },
           {
            "bin_start": 0.7923778817790369,
            "bin_end": 0.8961889408895184,
            "count": 0
           },
           {
            "bin_start": 0.8961889408895184,
            "bin_end": 1,
            "count": 2
           }
          ]
         }
        },
        {
         "name": "Class",
         "dtype": "float64",
         "stats": {
          "unique_count": 27,
          "nan_count": 0,
          "min": "-0.292744858678752",
          "max": "1.0",
          "histogram": [
           {
            "bin_start": -0.292744858678752,
            "bin_end": -0.16347037281087679,
            "count": 3
           },
           {
            "bin_start": -0.16347037281087679,
            "bin_end": -0.034195886943001574,
            "count": 3
           },
           {
            "bin_start": -0.034195886943001574,
            "bin_end": 0.09507859892487364,
            "count": 18
           },
           {
            "bin_start": 0.09507859892487364,
            "bin_end": 0.22435308479274885,
            "count": 1
           },
           {
            "bin_start": 0.22435308479274885,
            "bin_end": 0.353627570660624,
            "count": 0
           },
           {
            "bin_start": 0.353627570660624,
            "bin_end": 0.48290205652849927,
            "count": 1
           },
           {
            "bin_start": 0.48290205652849927,
            "bin_end": 0.6121765423963745,
            "count": 0
           },
           {
            "bin_start": 0.6121765423963745,
            "bin_end": 0.7414510282642497,
            "count": 0
           },
           {
            "bin_start": 0.7414510282642497,
            "bin_end": 0.8707255141321248,
            "count": 0
           },
           {
            "bin_start": 0.8707255141321248,
            "bin_end": 1,
            "count": 1
           }
          ]
         }
        },
        {
         "name": "_deepnote_index_column",
         "dtype": "object"
        }
       ],
       "rows": [
        {
         "Age": 1,
         "Sex": -0.008037519278192164,
         "TSH": -0.03356886507113644,
         "T3": -0.22428552546513156,
         "TT4": -0.05034289640813005,
         "T4U": -0.15512370932707586,
         "FTI": 0.04009206141797116,
         "On Thyroxine_t": 0.008622572598477238,
         "Query on Thyroxine_t": -0.0165371175696486,
         "On Antithyroid Medication_t": -0.07093249238773516,
         "Sick_t": 0.07990193977688266,
         "Pregnant_t": -0.11603835693569141,
         "Thyroid Surgery_t": -0.0332972000212935,
         "I131 Treatment_t": 0.0495090410658722,
         "Query Hypothyroid_t": 0.02473548437297056,
         "Query Hyperthyroid_t": -0.038727876589326395,
         "Lithium_t": -0.030682145335268245,
         "Goiter_t": -0.034348260330030744,
         "Tumor_t": -0.019210313120074173,
         "Hypopituitary_t": -0.0290804953594572,
         "Psych_t": -0.08343069866257864,
         "TSH Measured_t": 0.11173646857736745,
         "T3 Measured_t": 0.07940339680986645,
         "TT4 Measured_t": 0.06837695317805638,
         "T4U Measured_t": 0.09101768034968748,
         "FTI Measured_t": 0.08988754362573853,
         "Class": -0.008215213170402472,
         "_deepnote_index_column": "Age"
        },
        {
         "Age": -0.008037519278192164,
         "Sex": 1,
         "TSH": -0.03376785116951372,
         "T3": -0.06282300157989969,
         "TT4": -0.1608628721425339,
         "T4U": -0.22774214036759813,
         "FTI": -0.029655563616820577,
         "On Thyroxine_t": -0.08826489417940368,
         "Query on Thyroxine_t": 0.04091181499365958,
         "On Antithyroid Medication_t": -0.03474905762797389,
         "Sick_t": 0.001917074338032171,
         "Pregnant_t": -0.08422300633045395,
         "Thyroid Surgery_t": -0.04313574572024398,
         "I131 Treatment_t": -0.02726391014389622,
         "Query Hypothyroid_t": -0.03421579834880606,
         "Query Hyperthyroid_t": -0.07151726451441819,
         "Lithium_t": -0.027427889194429598,
         "Goiter_t": 0.024983607024216013,
         "Tumor_t": -0.07199660690640206,
         "Hypopituitary_t": 0.028130724543611083,
         "Psych_t": 0.11416686145358697,
         "TSH Measured_t": 0.03877022859658228,
         "T3 Measured_t": 0.09602984994982648,
         "TT4 Measured_t": 0.07490358843035176,
         "T4U Measured_t": 0.045723869265009764,
         "FTI Measured_t": 0.046813267668848475,
         "Class": -0.042863110282580746,
         "_deepnote_index_column": "Sex"
        },
        {
         "Age": -0.03356886507113644,
         "Sex": -0.03376785116951372,
         "TSH": 1,
         "T3": -0.1556810604867099,
         "TT4": -0.2596707846190143,
         "T4U": 0.06621804815610538,
         "FTI": -0.29518756279514613,
         "On Thyroxine_t": 0.020958452879637515,
         "Query on Thyroxine_t": -0.015308598220744802,
         "On Antithyroid Medication_t": -0.012325560146210508,
         "Sick_t": -0.019494600226964726,
         "Pregnant_t": -0.02241939856828748,
         "Thyroid Surgery_t": 0.054235618596781235,
         "I131 Treatment_t": 0.007087888908117504,
         "Query Hypothyroid_t": 0.05076113271363226,
         "Query Hyperthyroid_t": -0.020886527987649908,
         "Lithium_t": -0.005936218330032422,
         "Goiter_t": -0.015970026937002765,
         "Tumor_t": -0.018186799207651982,
         "Hypopituitary_t": -0.004084515227038667,
         "Psych_t": -0.027166659894388694,
         "TSH Measured_t": 0.05025794981046844,
         "T3 Measured_t": 0.01370424853757996,
         "TT4 Measured_t": 0.03505459685981216,
         "T4U Measured_t": 0.021041352712295888,
         "FTI Measured_t": 0.020711949226754477,
         "Class": 0.44161778790010925,
         "_deepnote_index_column": "TSH"
        },
        {
         "Age": -0.22428552546513156,
         "Sex": -0.06282300157989969,
         "TSH": -0.1556810604867099,
         "T3": 1,
         "TT4": 0.5145045214976542,
         "T4U": 0.42403585367113994,
         "FTI": 0.3120699967531723,
         "On Thyroxine_t": 0.021581544169899464,
         "Query on Thyroxine_t": -0.020427261192076395,
         "On Antithyroid Medication_t": 0.07556410521904355,
         "Sick_t": -0.07863470648125062,
         "Pregnant_t": 0.19094858702780887,
         "Thyroid Surgery_t": -0.026982280662358533,
         "I131 Treatment_t": 0.012053768172865936,
         "Query Hypothyroid_t": -0.05039672955890501,
         "Query Hyperthyroid_t": 0.1765943317356108,
         "Lithium_t": 0.001871428540801722,
         "Goiter_t": 0.0020147391761363505,
         "Tumor_t": 0.0960561655761029,
         "Hypopituitary_t": -0.01887381236060648,
         "Psych_t": 0.024389438062642616,
         "TSH Measured_t": -0.030957388043210073,
         "T3 Measured_t": 0.011870568508515084,
         "TT4 Measured_t": -0.0004487527367031437,
         "T4U Measured_t": 0.01295609840069287,
         "FTI Measured_t": 0.011774061244783923,
         "Class": -0.16772392069737402,
         "_deepnote_index_column": "T3"
        },
        {
         "Age": -0.05034289640813005,
         "Sex": -0.1608628721425339,
         "TSH": -0.2596707846190143,
         "T3": 0.5145045214976542,
         "TT4": 1,
         "T4U": 0.4319040344821885,
         "FTI": 0.7818324370058307,
         "On Thyroxine_t": 0.20785618690978416,
         "Query on Thyroxine_t": -0.012693189422631175,
         "On Antithyroid Medication_t": 0.0024053465931677892,
         "Sick_t": -0.032763389145795484,
         "Pregnant_t": 0.19920136504229502,
         "Thyroid Surgery_t": -0.030475628950204982,
         "I131 Treatment_t": -0.012968569201192793,
         "Query Hypothyroid_t": -0.019104238062856698,
         "Query Hyperthyroid_t": 0.1392095449888951,
         "Lithium_t": -0.02447261460098977,
         "Goiter_t": -0.03950259094417391,
         "Tumor_t": 0.04353051543292406,
         "Hypopituitary_t": -0.030793930977983344,
         "Psych_t": 0.012191770988786247,
         "TSH Measured_t": 0.03213774001154003,
         "T3 Measured_t": -0.023489254884137285,
         "TT4 Measured_t": 0.036150952644434534,
         "T4U Measured_t": 0.06100308974000244,
         "FTI Measured_t": 0.05879277707841046,
         "Class": -0.26898644591600823,
         "_deepnote_index_column": "TT4"
        },
        {
         "Age": -0.15512370932707586,
         "Sex": -0.22774214036759813,
         "TSH": 0.06621804815610538,
         "T3": 0.42403585367113994,
         "TT4": 0.4319040344821885,
         "T4U": 1,
         "FTI": -0.16714698296458755,
         "On Thyroxine_t": 0.04885961062934887,
         "Query on Thyroxine_t": -0.013549554439757541,
         "On Antithyroid Medication_t": 0.06124736122398451,
         "Sick_t": -0.03886089187810034,
         "Pregnant_t": 0.3676607482382952,
         "Thyroid Surgery_t": 0.02028194019605357,
         "I131 Treatment_t": 0.009032364525584136,
         "Query Hypothyroid_t": 0.011382549096929515,
         "Query Hyperthyroid_t": 0.08783907881599451,
         "Lithium_t": 0.0014354903725709582,
         "Goiter_t": 0.005703374794953426,
         "Tumor_t": 0.06097868084749815,
         "Hypopituitary_t": 0.0077021043438772665,
         "Psych_t": -0.019266559091466916,
         "TSH Measured_t": 0.028984407350187813,
         "T3 Measured_t": 0.013138545737586103,
         "TT4 Measured_t": 0.023567459745470205,
         "T4U Measured_t": 0.030198709727411923,
         "FTI Measured_t": 0.030078185921124035,
         "Class": 0.03187989601826841,
         "_deepnote_index_column": "T4U"
        },
        {
         "Age": 0.04009206141797116,
         "Sex": -0.029655563616820577,
         "TSH": -0.29518756279514613,
         "T3": 0.3120699967531723,
         "TT4": 0.7818324370058307,
         "T4U": -0.16714698296458755,
         "FTI": 1,
         "On Thyroxine_t": 0.17991390119132064,
         "Query on Thyroxine_t": -0.003982134051249002,
         "On Antithyroid Medication_t": -0.03811730630897655,
         "Sick_t": -0.014868858452357001,
         "Pregnant_t": -0.0080683025679516,
         "Thyroid Surgery_t": -0.03709896220891055,
         "I131 Treatment_t": -0.02046334116582766,
         "Query Hypothyroid_t": -0.0276837275554863,
         "Query Hyperthyroid_t": 0.10640731028649039,
         "Lithium_t": -0.030097231486426127,
         "Goiter_t": -0.046398927303804516,
         "Tumor_t": 0.01813330454320585,
         "Hypopituitary_t": -0.03712099996745351,
         "Psych_t": 0.022376924815506682,
         "TSH Measured_t": 0.023195014015984942,
         "T3 Measured_t": -0.02961715287996834,
         "TT4 Measured_t": 0.028533515461536933,
         "T4U Measured_t": 0.037354932642988205,
         "FTI Measured_t": 0.03661571188049544,
         "Class": -0.292744858678752,
         "_deepnote_index_column": "FTI"
        },
        {
         "Age": 0.008622572598477238,
         "Sex": -0.08826489417940368,
         "TSH": 0.020958452879637515,
         "T3": 0.021581544169899464,
         "TT4": 0.20785618690978416,
         "T4U": 0.04885961062934887,
         "FTI": 0.17991390119132064,
         "On Thyroxine_t": 1,
         "Query on Thyroxine_t": 0.0020049481147418865,
         "On Antithyroid Medication_t": -0.0007164494778881462,
         "Sick_t": -0.05208250848920995,
         "Pregnant_t": 0.011466896235190444,
         "Thyroid Surgery_t": 0.04149965857431922,
         "I131 Treatment_t": 0.07691094611680552,
         "Query Hypothyroid_t": 0.07189008940995875,
         "Query Hyperthyroid_t": -0.019451453673155865,
         "Lithium_t": 0.005159298170043199,
         "Goiter_t": -0.011846058294468586,
         "Tumor_t": -0.03150118127781019,
         "Hypopituitary_t": -0.0071111802285635005,
         "Psych_t": -0.07916857014437252,
         "TSH Measured_t": 0.03971976501561545,
         "T3 Measured_t": -0.15909016562721182,
         "TT4 Measured_t": 0.012118472767112599,
         "T4U Measured_t": 0.02068843213696478,
         "FTI Measured_t": 0.019853457755710974,
         "Class": -0.08628483481949893,
         "_deepnote_index_column": "On Thyroxine_t"
        },
        {
         "Age": -0.0165371175696486,
         "Sex": 0.04091181499365958,
         "TSH": -0.015308598220744802,
         "T3": -0.020427261192076395,
         "TT4": -0.012693189422631175,
         "T4U": -0.013549554439757541,
         "FTI": -0.003982134051249002,
         "On Thyroxine_t": 0.0020049481147418865,
         "Query on Thyroxine_t": 1,
         "On Antithyroid Medication_t": -0.013900565928089536,
         "Sick_t": 0.02181164086990927,
         "Pregnant_t": 0.03566037735849048,
         "Thyroid Surgery_t": 0.010794147379428583,
         "I131 Treatment_t": -0.016025090004363907,
         "Query Hypothyroid_t": -0.03089632248235793,
         "Query Hyperthyroid_t": -0.00632302186711817,
         "Lithium_t": -0.008886444277506492,
         "Goiter_t": 0.05211977915837557,
         "Tumor_t": -0.0007889329354529817,
         "Hypopituitary_t": 0.15696309017473986,
         "Psych_t": -0.028130602446237274,
         "TSH Measured_t": -0.12215193737775,
         "T3 Measured_t": -0.03400417850154789,
         "TT4 Measured_t": 0.032110230215144135,
         "T4U Measured_t": 0.03181918784514365,
         "FTI Measured_t": 0.03162012571759944,
         "Class": -0.001571336868007387,
         "_deepnote_index_column": "Query on Thyroxine_t"
        },
        {
         "Age": -0.07093249238773516,
         "Sex": -0.03474905762797389,
         "TSH": -0.012325560146210508,
         "T3": 0.07556410521904355,
         "TT4": 0.0024053465931677892,
         "T4U": 0.06124736122398451,
         "FTI": -0.03811730630897655,
         "On Thyroxine_t": -0.0007164494778881462,
         "Query on Thyroxine_t": -0.013900565928089536,
         "On Antithyroid Medication_t": 1,
         "Sick_t": -0.023139777673922824,
         "Pregnant_t": 0.06858293924814764,
         "Thyroid Surgery_t": -0.013723120057904256,
         "I131 Treatment_t": 0.011188848676728253,
         "Query Hypothyroid_t": -0.01438331355191246,
         "Query Hyperthyroid_t": 0.12207234067019111,
         "Lithium_t": -0.00818363755115748,
         "Goiter_t": -0.010958391722736561,
         "Tumor_t": -0.018493699539368583,
         "Hypopituitary_t": -0.002181875783250628,
         "Psych_t": -0.025905823220927805,
         "TSH Measured_t": -0.00635409079251666,
         "T3 Measured_t": 0.00980812874772545,
         "TT4 Measured_t": -0.03843990317414884,
         "T4U Measured_t": -0.03771452568082965,
         "FTI Measured_t": -0.03811059110481537,
         "Class": -0.020631586213570342,
         "_deepnote_index_column": "On Antithyroid Medication_t"
        }
       ]
      },
      "text/plain": "                                  Age       Sex       TSH        T3       TT4  \\\nAge                          1.000000 -0.008038 -0.033569 -0.224286 -0.050343   \nSex                         -0.008038  1.000000 -0.033768 -0.062823 -0.160863   \nTSH                         -0.033569 -0.033768  1.000000 -0.155681 -0.259671   \nT3                          -0.224286 -0.062823 -0.155681  1.000000  0.514505   \nTT4                         -0.050343 -0.160863 -0.259671  0.514505  1.000000   \nT4U                         -0.155124 -0.227742  0.066218  0.424036  0.431904   \nFTI                          0.040092 -0.029656 -0.295188  0.312070  0.781832   \nOn Thyroxine_t               0.008623 -0.088265  0.020958  0.021582  0.207856   \nQuery on Thyroxine_t        -0.016537  0.040912 -0.015309 -0.020427 -0.012693   \nOn Antithyroid Medication_t -0.070932 -0.034749 -0.012326  0.075564  0.002405   \nSick_t                       0.079902  0.001917 -0.019495 -0.078635 -0.032763   \nPregnant_t                  -0.116038 -0.084223 -0.022419  0.190949  0.199201   \nThyroid Surgery_t           -0.033297 -0.043136  0.054236 -0.026982 -0.030476   \nI131 Treatment_t             0.049509 -0.027264  0.007088  0.012054 -0.012969   \nQuery Hypothyroid_t          0.024735 -0.034216  0.050761 -0.050397 -0.019104   \nQuery Hyperthyroid_t        -0.038728 -0.071517 -0.020887  0.176594  0.139210   \nLithium_t                   -0.030682 -0.027428 -0.005936  0.001871 -0.024473   \nGoiter_t                    -0.034348  0.024984 -0.015970  0.002015 -0.039503   \nTumor_t                     -0.019210 -0.071997 -0.018187  0.096056  0.043531   \nHypopituitary_t             -0.029080  0.028131 -0.004085 -0.018874 -0.030794   \nPsych_t                     -0.083431  0.114167 -0.027167  0.024389  0.012192   \nTSH Measured_t               0.111736  0.038770  0.050258 -0.030957  0.032138   \nT3 Measured_t                0.079403  0.096030  0.013704  0.011871 -0.023489   \nTT4 Measured_t               0.068377  0.074904  0.035055 -0.000449  0.036151   \nT4U Measured_t               0.091018  0.045724  0.021041  0.012956  0.061003   \nFTI Measured_t               0.089888  0.046813  0.020712  0.011774  0.058793   \nClass                       -0.008215 -0.042863  0.441618 -0.167724 -0.268986   \n\n                                  T4U       FTI  On Thyroxine_t  \\\nAge                         -0.155124  0.040092        0.008623   \nSex                         -0.227742 -0.029656       -0.088265   \nTSH                          0.066218 -0.295188        0.020958   \nT3                           0.424036  0.312070        0.021582   \nTT4                          0.431904  0.781832        0.207856   \nT4U                          1.000000 -0.167147        0.048860   \nFTI                         -0.167147  1.000000        0.179914   \nOn Thyroxine_t               0.048860  0.179914        1.000000   \nQuery on Thyroxine_t        -0.013550 -0.003982        0.002005   \nOn Antithyroid Medication_t  0.061247 -0.038117       -0.000716   \nSick_t                      -0.038861 -0.014869       -0.052083   \nPregnant_t                   0.367661 -0.008068        0.011467   \nThyroid Surgery_t            0.020282 -0.037099        0.041500   \nI131 Treatment_t             0.009032 -0.020463        0.076911   \nQuery Hypothyroid_t          0.011383 -0.027684        0.071890   \nQuery Hyperthyroid_t         0.087839  0.106407       -0.019451   \nLithium_t                    0.001435 -0.030097        0.005159   \nGoiter_t                     0.005703 -0.046399       -0.011846   \nTumor_t                      0.060979  0.018133       -0.031501   \nHypopituitary_t              0.007702 -0.037121       -0.007111   \nPsych_t                     -0.019267  0.022377       -0.079169   \nTSH Measured_t               0.028984  0.023195        0.039720   \nT3 Measured_t                0.013139 -0.029617       -0.159090   \nTT4 Measured_t               0.023567  0.028534        0.012118   \nT4U Measured_t               0.030199  0.037355        0.020688   \nFTI Measured_t               0.030078  0.036616        0.019853   \nClass                        0.031880 -0.292745       -0.086285   \n\n                             Query on Thyroxine_t  \\\nAge                                     -0.016537   \nSex                                      0.040912   \nTSH                                     -0.015309   \nT3                                      -0.020427   \nTT4                                     -0.012693   \nT4U                                     -0.013550   \nFTI                                     -0.003982   \nOn Thyroxine_t                           0.002005   \nQuery on Thyroxine_t                     1.000000   \nOn Antithyroid Medication_t             -0.013901   \nSick_t                                   0.021812   \nPregnant_t                               0.035660   \nThyroid Surgery_t                        0.010794   \nI131 Treatment_t                        -0.016025   \nQuery Hypothyroid_t                     -0.030896   \nQuery Hyperthyroid_t                    -0.006323   \nLithium_t                               -0.008886   \nGoiter_t                                 0.052120   \nTumor_t                                 -0.000789   \nHypopituitary_t                          0.156963   \nPsych_t                                 -0.028131   \nTSH Measured_t                          -0.122152   \nT3 Measured_t                           -0.034004   \nTT4 Measured_t                           0.032110   \nT4U Measured_t                           0.031819   \nFTI Measured_t                           0.031620   \nClass                                   -0.001571   \n\n                             On Antithyroid Medication_t  ...  Goiter_t  \\\nAge                                            -0.070932  ... -0.034348   \nSex                                            -0.034749  ...  0.024984   \nTSH                                            -0.012326  ... -0.015970   \nT3                                              0.075564  ...  0.002015   \nTT4                                             0.002405  ... -0.039503   \nT4U                                             0.061247  ...  0.005703   \nFTI                                            -0.038117  ... -0.046399   \nOn Thyroxine_t                                 -0.000716  ... -0.011846   \nQuery on Thyroxine_t                           -0.013901  ...  0.052120   \nOn Antithyroid Medication_t                     1.000000  ... -0.010958   \nSick_t                                         -0.023140  ... -0.019809   \nPregnant_t                                      0.068583  ... -0.011899   \nThyroid Surgery_t                              -0.013723  ... -0.011748   \nI131 Treatment_t                                0.011189  ... -0.012633   \nQuery Hypothyroid_t                            -0.014383  ... -0.024357   \nQuery Hyperthyroid_t                            0.122072  ... -0.024998   \nLithium_t                                      -0.008184  ... -0.007006   \nGoiter_t                                       -0.010958  ...  1.000000   \nTumor_t                                        -0.018494  ... -0.015831   \nHypopituitary_t                                -0.002182  ... -0.001868   \nPsych_t                                        -0.025906  ... -0.004369   \nTSH Measured_t                                 -0.006354  ... -0.044811   \nT3 Measured_t                                   0.009808  ... -0.025622   \nTT4 Measured_t                                 -0.038440  ...  0.009478   \nT4U Measured_t                                 -0.037715  ...  0.020327   \nFTI Measured_t                                 -0.038111  ...  0.020155   \nClass                                          -0.020632  ... -0.028257   \n\n                              Tumor_t  Hypopituitary_t   Psych_t  \\\nAge                         -0.019210        -0.029080 -0.083431   \nSex                         -0.071997         0.028131  0.114167   \nTSH                         -0.018187        -0.004085 -0.027167   \nT3                           0.096056        -0.018874  0.024389   \nTT4                          0.043531        -0.030794  0.012192   \nT4U                          0.060979         0.007702 -0.019267   \nFTI                          0.018133        -0.037121  0.022377   \nOn Thyroxine_t              -0.031501        -0.007111 -0.079169   \nQuery on Thyroxine_t        -0.000789         0.156963 -0.028131   \nOn Antithyroid Medication_t -0.018494        -0.002182 -0.025906   \nSick_t                      -0.009640        -0.003944 -0.029420   \nPregnant_t                   0.114969        -0.002369 -0.014013   \nThyroid Surgery_t           -0.000290        -0.002339 -0.027772   \nI131 Treatment_t            -0.021320        -0.002515 -0.029865   \nQuery Hypothyroid_t         -0.041105        -0.004850 -0.014234   \nQuery Hyperthyroid_t         0.044662        -0.004977 -0.059095   \nLithium_t                   -0.011823        -0.001395  0.030933   \nGoiter_t                    -0.015831        -0.001868 -0.004369   \nTumor_t                      1.000000        -0.003152 -0.026693   \nHypopituitary_t             -0.003152         1.000000 -0.004415   \nPsych_t                     -0.026693        -0.004415  1.000000   \nTSH Measured_t              -0.038386         0.006455  0.076637   \nT3 Measured_t               -0.012384         0.009999  0.110362   \nTT4 Measured_t              -0.033637         0.005040  0.059842   \nT4U Measured_t              -0.013104         0.006573  0.061258   \nFTI Measured_t              -0.013545         0.006547  0.060894   \nClass                        0.004423        -0.005626 -0.022312   \n\n                             TSH Measured_t  T3 Measured_t  TT4 Measured_t  \\\nAge                                0.111736       0.079403        0.068377   \nSex                                0.038770       0.096030        0.074904   \nTSH                                0.050258       0.013704        0.035055   \nT3                                -0.030957       0.011871       -0.000449   \nTT4                                0.032138      -0.023489        0.036151   \nT4U                                0.028984       0.013139        0.023567   \nFTI                                0.023195      -0.029617        0.028534   \nOn Thyroxine_t                     0.039720      -0.159090        0.012118   \nQuery on Thyroxine_t              -0.122152      -0.034004        0.032110   \nOn Antithyroid Medication_t       -0.006354       0.009808       -0.038440   \nSick_t                             0.030705       0.031904        0.007010   \nPregnant_t                         0.010508       0.026125        0.032110   \nThyroid Surgery_t                  0.040597      -0.013212        0.031700   \nI131 Treatment_t                   0.043658      -0.003296        0.034090   \nQuery Hypothyroid_t                0.052840      -0.077295        0.014330   \nQuery Hyperthyroid_t              -0.051425       0.028566       -0.058137   \nLithium_t                          0.024210      -0.000423        0.018904   \nGoiter_t                          -0.044811      -0.025622        0.009478   \nTumor_t                           -0.038386      -0.012384       -0.033637   \nHypopituitary_t                    0.006455       0.009999        0.005040   \nPsych_t                            0.076637       0.110362        0.059842   \nTSH Measured_t                     1.000000       0.449049        0.684933   \nT3 Measured_t                      0.449049       1.000000        0.429674   \nTT4 Measured_t                     0.684933       0.429674        1.000000   \nT4U Measured_t                     0.524940       0.282012        0.761795   \nFTI Measured_t                     0.527424       0.284174        0.759860   \nClass                              0.097649       0.022703        0.059295   \n\n                             T4U Measured_t  FTI Measured_t     Class  \nAge                                0.091018        0.089888 -0.008215  \nSex                                0.045724        0.046813 -0.042863  \nTSH                                0.021041        0.020712  0.441618  \nT3                                 0.012956        0.011774 -0.167724  \nTT4                                0.061003        0.058793 -0.268986  \nT4U                                0.030199        0.030078  0.031880  \nFTI                                0.037355        0.036616 -0.292745  \nOn Thyroxine_t                     0.020688        0.019853 -0.086285  \nQuery on Thyroxine_t               0.031819        0.031620 -0.001571  \nOn Antithyroid Medication_t       -0.037715       -0.038111 -0.020632  \nSick_t                             0.020102        0.019666  0.017810  \nPregnant_t                         0.041877        0.041710 -0.035843  \nThyroid Surgery_t                  0.000606        0.000311 -0.012251  \nI131 Treatment_t                   0.025476        0.025238  0.015851  \nQuery Hypothyroid_t                0.003367        0.002764  0.078626  \nQuery Hyperthyroid_t              -0.027735       -0.028453 -0.023872  \nLithium_t                          0.024654        0.024556 -0.001886  \nGoiter_t                           0.020327        0.020155 -0.028257  \nTumor_t                           -0.013104       -0.013545  0.004423  \nHypopituitary_t                    0.006573        0.006547 -0.005626  \nPsych_t                            0.061258        0.060894 -0.022312  \nTSH Measured_t                     0.524940        0.527424  0.097649  \nT3 Measured_t                      0.282012        0.284174  0.022703  \nTT4 Measured_t                     0.761795        0.759860  0.059295  \nT4U Measured_t                     1.000000        0.996009  0.017943  \nFTI Measured_t                     0.996009        1.000000  0.017287  \nClass                              0.017943        0.017287  1.000000  \n\n[27 rows x 27 columns]",
      "text/html": "<div>\n<style scoped>\n    .dataframe tbody tr th:only-of-type {\n        vertical-align: middle;\n    }\n\n    .dataframe tbody tr th {\n        vertical-align: top;\n    }\n\n    .dataframe thead th {\n        text-align: right;\n    }\n</style>\n<table border=\"1\" class=\"dataframe\">\n  <thead>\n    <tr style=\"text-align: right;\">\n      <th></th>\n      <th>Age</th>\n      <th>Sex</th>\n      <th>TSH</th>\n      <th>T3</th>\n      <th>TT4</th>\n      <th>T4U</th>\n      <th>FTI</th>\n      <th>On Thyroxine_t</th>\n      <th>Query on Thyroxine_t</th>\n      <th>On Antithyroid Medication_t</th>\n      <th>...</th>\n      <th>Goiter_t</th>\n      <th>Tumor_t</th>\n      <th>Hypopituitary_t</th>\n      <th>Psych_t</th>\n      <th>TSH Measured_t</th>\n      <th>T3 Measured_t</th>\n      <th>TT4 Measured_t</th>\n      <th>T4U Measured_t</th>\n      <th>FTI Measured_t</th>\n      <th>Class</th>\n    </tr>\n  </thead>\n  <tbody>\n    <tr>\n      <th>Age</th>\n      <td>1.000000</td>\n      <td>-0.008038</td>\n      <td>-0.033569</td>\n      <td>-0.224286</td>\n      <td>-0.050343</td>\n      <td>-0.155124</td>\n      <td>0.040092</td>\n      <td>0.008623</td>\n      <td>-0.016537</td>\n      <td>-0.070932</td>\n      <td>...</td>\n      <td>-0.034348</td>\n      <td>-0.019210</td>\n      <td>-0.029080</td>\n      <td>-0.083431</td>\n      <td>0.111736</td>\n      <td>0.079403</td>\n      <td>0.068377</td>\n      <td>0.091018</td>\n      <td>0.089888</td>\n      <td>-0.008215</td>\n    </tr>\n    <tr>\n      <th>Sex</th>\n      <td>-0.008038</td>\n      <td>1.000000</td>\n      <td>-0.033768</td>\n      <td>-0.062823</td>\n      <td>-0.160863</td>\n      <td>-0.227742</td>\n      <td>-0.029656</td>\n      <td>-0.088265</td>\n      <td>0.040912</td>\n      <td>-0.034749</td>\n      <td>...</td>\n      <td>0.024984</td>\n      <td>-0.071997</td>\n      <td>0.028131</td>\n      <td>0.114167</td>\n      <td>0.038770</td>\n      <td>0.096030</td>\n      <td>0.074904</td>\n      <td>0.045724</td>\n      <td>0.046813</td>\n      <td>-0.042863</td>\n    </tr>\n    <tr>\n      <th>TSH</th>\n      <td>-0.033569</td>\n      <td>-0.033768</td>\n      <td>1.000000</td>\n      <td>-0.155681</td>\n      <td>-0.259671</td>\n      <td>0.066218</td>\n      <td>-0.295188</td>\n      <td>0.020958</td>\n      <td>-0.015309</td>\n      <td>-0.012326</td>\n      <td>...</td>\n      <td>-0.015970</td>\n      <td>-0.018187</td>\n      <td>-0.004085</td>\n      <td>-0.027167</td>\n      <td>0.050258</td>\n      <td>0.013704</td>\n      <td>0.035055</td>\n      <td>0.021041</td>\n      <td>0.020712</td>\n      <td>0.441618</td>\n    </tr>\n    <tr>\n      <th>T3</th>\n      <td>-0.224286</td>\n      <td>-0.062823</td>\n      <td>-0.155681</td>\n      <td>1.000000</td>\n      <td>0.514505</td>\n      <td>0.424036</td>\n      <td>0.312070</td>\n      <td>0.021582</td>\n      <td>-0.020427</td>\n      <td>0.075564</td>\n      <td>...</td>\n      <td>0.002015</td>\n      <td>0.096056</td>\n      <td>-0.018874</td>\n      <td>0.024389</td>\n      <td>-0.030957</td>\n      <td>0.011871</td>\n      <td>-0.000449</td>\n      <td>0.012956</td>\n      <td>0.011774</td>\n      <td>-0.167724</td>\n    </tr>\n    <tr>\n      <th>TT4</th>\n      <td>-0.050343</td>\n      <td>-0.160863</td>\n      <td>-0.259671</td>\n      <td>0.514505</td>\n      <td>1.000000</td>\n      <td>0.431904</td>\n      <td>0.781832</td>\n      <td>0.207856</td>\n      <td>-0.012693</td>\n      <td>0.002405</td>\n      <td>...</td>\n      <td>-0.039503</td>\n      <td>0.043531</td>\n      <td>-0.030794</td>\n      <td>0.012192</td>\n      <td>0.032138</td>\n      <td>-0.023489</td>\n      <td>0.036151</td>\n      <td>0.061003</td>\n      <td>0.058793</td>\n      <td>-0.268986</td>\n    </tr>\n    <tr>\n      <th>T4U</th>\n      <td>-0.155124</td>\n      <td>-0.227742</td>\n      <td>0.066218</td>\n      <td>0.424036</td>\n      <td>0.431904</td>\n      <td>1.000000</td>\n      <td>-0.167147</td>\n      <td>0.048860</td>\n      <td>-0.013550</td>\n      <td>0.061247</td>\n      <td>...</td>\n      <td>0.005703</td>\n      <td>0.060979</td>\n      <td>0.007702</td>\n      <td>-0.019267</td>\n      <td>0.028984</td>\n      <td>0.013139</td>\n      <td>0.023567</td>\n      <td>0.030199</td>\n      <td>0.030078</td>\n      <td>0.031880</td>\n    </tr>\n    <tr>\n      <th>FTI</th>\n      <td>0.040092</td>\n      <td>-0.029656</td>\n      <td>-0.295188</td>\n      <td>0.312070</td>\n      <td>0.781832</td>\n      <td>-0.167147</td>\n      <td>1.000000</td>\n      <td>0.179914</td>\n      <td>-0.003982</td>\n      <td>-0.038117</td>\n      <td>...</td>\n      <td>-0.046399</td>\n      <td>0.018133</td>\n      <td>-0.037121</td>\n      <td>0.022377</td>\n      <td>0.023195</td>\n      <td>-0.029617</td>\n      <td>0.028534</td>\n      <td>0.037355</td>\n      <td>0.036616</td>\n      <td>-0.292745</td>\n    </tr>\n    <tr>\n      <th>On Thyroxine_t</th>\n      <td>0.008623</td>\n      <td>-0.088265</td>\n      <td>0.020958</td>\n      <td>0.021582</td>\n      <td>0.207856</td>\n      <td>0.048860</td>\n      <td>0.179914</td>\n      <td>1.000000</td>\n      <td>0.002005</td>\n      <td>-0.000716</td>\n      <td>...</td>\n      <td>-0.011846</td>\n      <td>-0.031501</td>\n      <td>-0.007111</td>\n      <td>-0.079169</td>\n      <td>0.039720</td>\n      <td>-0.159090</td>\n      <td>0.012118</td>\n      <td>0.020688</td>\n      <td>0.019853</td>\n      <td>-0.086285</td>\n    </tr>\n    <tr>\n      <th>Query on Thyroxine_t</th>\n      <td>-0.016537</td>\n      <td>0.040912</td>\n      <td>-0.015309</td>\n      <td>-0.020427</td>\n      <td>-0.012693</td>\n      <td>-0.013550</td>\n      <td>-0.003982</td>\n      <td>0.002005</td>\n      <td>1.000000</td>\n      <td>-0.013901</td>\n      <td>...</td>\n      <td>0.052120</td>\n      <td>-0.000789</td>\n      <td>0.156963</td>\n      <td>-0.028131</td>\n      <td>-0.122152</td>\n      <td>-0.034004</td>\n      <td>0.032110</td>\n      <td>0.031819</td>\n      <td>0.031620</td>\n      <td>-0.001571</td>\n    </tr>\n    <tr>\n      <th>On Antithyroid Medication_t</th>\n      <td>-0.070932</td>\n      <td>-0.034749</td>\n      <td>-0.012326</td>\n      <td>0.075564</td>\n      <td>0.002405</td>\n      <td>0.061247</td>\n      <td>-0.038117</td>\n      <td>-0.000716</td>\n      <td>-0.013901</td>\n      <td>1.000000</td>\n      <td>...</td>\n      <td>-0.010958</td>\n      <td>-0.018494</td>\n      <td>-0.002182</td>\n      <td>-0.025906</td>\n      <td>-0.006354</td>\n      <td>0.009808</td>\n      <td>-0.038440</td>\n      <td>-0.037715</td>\n      <td>-0.038111</td>\n      <td>-0.020632</td>\n    </tr>\n    <tr>\n      <th>Sick_t</th>\n      <td>0.079902</td>\n      <td>0.001917</td>\n      <td>-0.019495</td>\n      <td>-0.078635</td>\n      <td>-0.032763</td>\n      <td>-0.038861</td>\n      <td>-0.014869</td>\n      <td>-0.052083</td>\n      <td>0.021812</td>\n      <td>-0.023140</td>\n      <td>...</td>\n      <td>-0.019809</td>\n      <td>-0.009640</td>\n      <td>-0.003944</td>\n      <td>-0.029420</td>\n      <td>0.030705</td>\n      <td>0.031904</td>\n      <td>0.007010</td>\n      <td>0.020102</td>\n      <td>0.019666</td>\n      <td>0.017810</td>\n    </tr>\n    <tr>\n      <th>Pregnant_t</th>\n      <td>-0.116038</td>\n      <td>-0.084223</td>\n      <td>-0.022419</td>\n      <td>0.190949</td>\n      <td>0.199201</td>\n      <td>0.367661</td>\n      <td>-0.008068</td>\n      <td>0.011467</td>\n      <td>0.035660</td>\n      <td>0.068583</td>\n      <td>...</td>\n      <td>-0.011899</td>\n      <td>0.114969</td>\n      <td>-0.002369</td>\n      <td>-0.014013</td>\n      <td>0.010508</td>\n      <td>0.026125</td>\n      <td>0.032110</td>\n      <td>0.041877</td>\n      <td>0.041710</td>\n      <td>-0.035843</td>\n    </tr>\n    <tr>\n      <th>Thyroid Surgery_t</th>\n      <td>-0.033297</td>\n      <td>-0.043136</td>\n      <td>0.054236</td>\n      <td>-0.026982</td>\n      <td>-0.030476</td>\n      <td>0.020282</td>\n      <td>-0.037099</td>\n      <td>0.041500</td>\n      <td>0.010794</td>\n      <td>-0.013723</td>\n      <td>...</td>\n      <td>-0.011748</td>\n      <td>-0.000290</td>\n      <td>-0.002339</td>\n      <td>-0.027772</td>\n      <td>0.040597</td>\n      <td>-0.013212</td>\n      <td>0.031700</td>\n      <td>0.000606</td>\n      <td>0.000311</td>\n      <td>-0.012251</td>\n    </tr>\n    <tr>\n      <th>I131 Treatment_t</th>\n      <td>0.049509</td>\n      <td>-0.027264</td>\n      <td>0.007088</td>\n      <td>0.012054</td>\n      <td>-0.012969</td>\n      <td>0.009032</td>\n      <td>-0.020463</td>\n      <td>0.076911</td>\n      <td>-0.016025</td>\n      <td>0.011189</td>\n      <td>...</td>\n      <td>-0.012633</td>\n      <td>-0.021320</td>\n      <td>-0.002515</td>\n      <td>-0.029865</td>\n      <td>0.043658</td>\n      <td>-0.003296</td>\n      <td>0.034090</td>\n      <td>0.025476</td>\n      <td>0.025238</td>\n      <td>0.015851</td>\n    </tr>\n    <tr>\n      <th>Query Hypothyroid_t</th>\n      <td>0.024735</td>\n      <td>-0.034216</td>\n      <td>0.050761</td>\n      <td>-0.050397</td>\n      <td>-0.019104</td>\n      <td>0.011383</td>\n      <td>-0.027684</td>\n      <td>0.071890</td>\n      <td>-0.030896</td>\n      <td>-0.014383</td>\n      <td>...</td>\n      <td>-0.024357</td>\n      <td>-0.041105</td>\n      <td>-0.004850</td>\n      <td>-0.014234</td>\n      <td>0.052840</td>\n      <td>-0.077295</td>\n      <td>0.014330</td>\n      <td>0.003367</td>\n      <td>0.002764</td>\n      <td>0.078626</td>\n    </tr>\n    <tr>\n      <th>Query Hyperthyroid_t</th>\n      <td>-0.038728</td>\n      <td>-0.071517</td>\n      <td>-0.020887</td>\n      <td>0.176594</td>\n      <td>0.139210</td>\n      <td>0.087839</td>\n      <td>0.106407</td>\n      <td>-0.019451</td>\n      <td>-0.006323</td>\n      <td>0.122072</td>\n      <td>...</td>\n      <td>-0.024998</td>\n      <td>0.044662</td>\n      <td>-0.004977</td>\n      <td>-0.059095</td>\n      <td>-0.051425</td>\n      <td>0.028566</td>\n      <td>-0.058137</td>\n      <td>-0.027735</td>\n      <td>-0.028453</td>\n      <td>-0.023872</td>\n    </tr>\n    <tr>\n      <th>Lithium_t</th>\n      <td>-0.030682</td>\n      <td>-0.027428</td>\n      <td>-0.005936</td>\n      <td>0.001871</td>\n      <td>-0.024473</td>\n      <td>0.001435</td>\n      <td>-0.030097</td>\n      <td>0.005159</td>\n      <td>-0.008886</td>\n      <td>-0.008184</td>\n      <td>...</td>\n      <td>-0.007006</td>\n      <td>-0.011823</td>\n      <td>-0.001395</td>\n      <td>0.030933</td>\n      <td>0.024210</td>\n      <td>-0.000423</td>\n      <td>0.018904</td>\n      <td>0.024654</td>\n      <td>0.024556</td>\n      <td>-0.001886</td>\n    </tr>\n    <tr>\n      <th>Goiter_t</th>\n      <td>-0.034348</td>\n      <td>0.024984</td>\n      <td>-0.015970</td>\n      <td>0.002015</td>\n      <td>-0.039503</td>\n      <td>0.005703</td>\n      <td>-0.046399</td>\n      <td>-0.011846</td>\n      <td>0.052120</td>\n      <td>-0.010958</td>\n      <td>...</td>\n      <td>1.000000</td>\n      <td>-0.015831</td>\n      <td>-0.001868</td>\n      <td>-0.004369</td>\n      <td>-0.044811</td>\n      <td>-0.025622</td>\n      <td>0.009478</td>\n      <td>0.020327</td>\n      <td>0.020155</td>\n      <td>-0.028257</td>\n    </tr>\n    <tr>\n      <th>Tumor_t</th>\n      <td>-0.019210</td>\n      <td>-0.071997</td>\n      <td>-0.018187</td>\n      <td>0.096056</td>\n      <td>0.043531</td>\n      <td>0.060979</td>\n      <td>0.018133</td>\n      <td>-0.031501</td>\n      <td>-0.000789</td>\n      <td>-0.018494</td>\n      <td>...</td>\n      <td>-0.015831</td>\n      <td>1.000000</td>\n      <td>-0.003152</td>\n      <td>-0.026693</td>\n      <td>-0.038386</td>\n      <td>-0.012384</td>\n      <td>-0.033637</td>\n      <td>-0.013104</td>\n      <td>-0.013545</td>\n      <td>0.004423</td>\n    </tr>\n    <tr>\n      <th>Hypopituitary_t</th>\n      <td>-0.029080</td>\n      <td>0.028131</td>\n      <td>-0.004085</td>\n      <td>-0.018874</td>\n      <td>-0.030794</td>\n      <td>0.007702</td>\n      <td>-0.037121</td>\n      <td>-0.007111</td>\n      <td>0.156963</td>\n      <td>-0.002182</td>\n      <td>...</td>\n      <td>-0.001868</td>\n      <td>-0.003152</td>\n      <td>1.000000</td>\n      <td>-0.004415</td>\n      <td>0.006455</td>\n      <td>0.009999</td>\n      <td>0.005040</td>\n      <td>0.006573</td>\n      <td>0.006547</td>\n      <td>-0.005626</td>\n    </tr>\n    <tr>\n      <th>Psych_t</th>\n      <td>-0.083431</td>\n      <td>0.114167</td>\n      <td>-0.027167</td>\n      <td>0.024389</td>\n      <td>0.012192</td>\n      <td>-0.019267</td>\n      <td>0.022377</td>\n      <td>-0.079169</td>\n      <td>-0.028131</td>\n      <td>-0.025906</td>\n      <td>...</td>\n      <td>-0.004369</td>\n      <td>-0.026693</td>\n      <td>-0.004415</td>\n      <td>1.000000</td>\n      <td>0.076637</td>\n      <td>0.110362</td>\n      <td>0.059842</td>\n      <td>0.061258</td>\n      <td>0.060894</td>\n      <td>-0.022312</td>\n    </tr>\n    <tr>\n      <th>TSH Measured_t</th>\n      <td>0.111736</td>\n      <td>0.038770</td>\n      <td>0.050258</td>\n      <td>-0.030957</td>\n      <td>0.032138</td>\n      <td>0.028984</td>\n      <td>0.023195</td>\n      <td>0.039720</td>\n      <td>-0.122152</td>\n      <td>-0.006354</td>\n      <td>...</td>\n      <td>-0.044811</td>\n      <td>-0.038386</td>\n      <td>0.006455</td>\n      <td>0.076637</td>\n      <td>1.000000</td>\n      <td>0.449049</td>\n      <td>0.684933</td>\n      <td>0.524940</td>\n      <td>0.527424</td>\n      <td>0.097649</td>\n    </tr>\n    <tr>\n      <th>T3 Measured_t</th>\n      <td>0.079403</td>\n      <td>0.096030</td>\n      <td>0.013704</td>\n      <td>0.011871</td>\n      <td>-0.023489</td>\n      <td>0.013139</td>\n      <td>-0.029617</td>\n      <td>-0.159090</td>\n      <td>-0.034004</td>\n      <td>0.009808</td>\n      <td>...</td>\n      <td>-0.025622</td>\n      <td>-0.012384</td>\n      <td>0.009999</td>\n      <td>0.110362</td>\n      <td>0.449049</td>\n      <td>1.000000</td>\n      <td>0.429674</td>\n      <td>0.282012</td>\n      <td>0.284174</td>\n      <td>0.022703</td>\n    </tr>\n    <tr>\n      <th>TT4 Measured_t</th>\n      <td>0.068377</td>\n      <td>0.074904</td>\n      <td>0.035055</td>\n      <td>-0.000449</td>\n      <td>0.036151</td>\n      <td>0.023567</td>\n      <td>0.028534</td>\n      <td>0.012118</td>\n      <td>0.032110</td>\n      <td>-0.038440</td>\n      <td>...</td>\n      <td>0.009478</td>\n      <td>-0.033637</td>\n      <td>0.005040</td>\n      <td>0.059842</td>\n      <td>0.684933</td>\n      <td>0.429674</td>\n      <td>1.000000</td>\n      <td>0.761795</td>\n      <td>0.759860</td>\n      <td>0.059295</td>\n    </tr>\n    <tr>\n      <th>T4U Measured_t</th>\n      <td>0.091018</td>\n      <td>0.045724</td>\n      <td>0.021041</td>\n      <td>0.012956</td>\n      <td>0.061003</td>\n      <td>0.030199</td>\n      <td>0.037355</td>\n      <td>0.020688</td>\n      <td>0.031819</td>\n      <td>-0.037715</td>\n      <td>...</td>\n      <td>0.020327</td>\n      <td>-0.013104</td>\n      <td>0.006573</td>\n      <td>0.061258</td>\n      <td>0.524940</td>\n      <td>0.282012</td>\n      <td>0.761795</td>\n      <td>1.000000</td>\n      <td>0.996009</td>\n      <td>0.017943</td>\n    </tr>\n    <tr>\n      <th>FTI Measured_t</th>\n      <td>0.089888</td>\n      <td>0.046813</td>\n      <td>0.020712</td>\n      <td>0.011774</td>\n      <td>0.058793</td>\n      <td>0.030078</td>\n      <td>0.036616</td>\n      <td>0.019853</td>\n      <td>0.031620</td>\n      <td>-0.038111</td>\n      <td>...</td>\n      <td>0.020155</td>\n      <td>-0.013545</td>\n      <td>0.006547</td>\n      <td>0.060894</td>\n      <td>0.527424</td>\n      <td>0.284174</td>\n      <td>0.759860</td>\n      <td>0.996009</td>\n      <td>1.000000</td>\n      <td>0.017287</td>\n    </tr>\n    <tr>\n      <th>Class</th>\n      <td>-0.008215</td>\n      <td>-0.042863</td>\n      <td>0.441618</td>\n      <td>-0.167724</td>\n      <td>-0.268986</td>\n      <td>0.031880</td>\n      <td>-0.292745</td>\n      <td>-0.086285</td>\n      <td>-0.001571</td>\n      <td>-0.020632</td>\n      <td>...</td>\n      <td>-0.028257</td>\n      <td>0.004423</td>\n      <td>-0.005626</td>\n      <td>-0.022312</td>\n      <td>0.097649</td>\n      <td>0.022703</td>\n      <td>0.059295</td>\n      <td>0.017943</td>\n      <td>0.017287</td>\n      <td>1.000000</td>\n    </tr>\n  </tbody>\n</table>\n<p>27 rows × 27 columns</p>\n</div>"
     },
     "metadata": {}
    }
   ],
   "execution_count": null
  },
  {
   "cell_type": "code",
   "source": "import seaborn as sns\nsns.set(rc={'figure.figsize':(30, 30)}) \nsns.heatmap(data.corr(), annot = True) # Creating a heatmap of all variables in the data set",
   "metadata": {
    "cell_id": "05a57f7ce35f441c8542ec993ed71c8b",
    "tags": [],
    "deepnote_to_be_reexecuted": false,
    "source_hash": "826f36f4",
    "execution_start": 1657916770541,
    "execution_millis": 10253,
    "deepnote_cell_type": "code",
    "deepnote_cell_height": 549.953125,
    "deepnote_output_heights": [
     null,
     365
    ]
   },
   "outputs": [
    {
     "output_type": "execute_result",
     "execution_count": 16,
     "data": {
      "text/plain": "<AxesSubplot:>"
     },
     "metadata": {}
    },
    {
     "data": {
      "text/plain": "<Figure size 432x288 with 2 Axes>",
      "image/png": "[encoded data removed]"
     },
     "metadata": {
      "needs_background": "light",
      "image/png": {
       "width": 473,
       "height": 363
      }
     },
     "output_type": "display_data"
    }
   ],
   "execution_count": null
  },
  {
   "cell_type": "markdown",
   "source": "Convert the class feature to numeric so we can also see the correlations it has with the numeric features, and check the correlation again. (already did this)",
   "metadata": {
    "colab_type": "text",
    "id": "scfm6AEv3YIJ",
    "cell_id": "00035-009ef908-375d-4cfb-8820-53547f2f5461",
    "deepnote_cell_type": "markdown",
    "deepnote_cell_height": 74.78125
   }
  },
  {
   "cell_type": "markdown",
   "source": "Let's do some further visual analysis using a new module called seaborn. Explore its incredible versatility and diversity with data visualization here: https://seaborn.pydata.org/",
   "metadata": {
    "colab_type": "text",
    "id": "tp4yO5kUGd3L",
    "cell_id": "00037-9dc89e4b-5eab-4127-997c-1bc5e020e967",
    "deepnote_cell_type": "markdown",
    "deepnote_cell_height": 74.78125
   }
  },
  {
   "cell_type": "code",
   "metadata": {
    "colab": {
     "autoexec": {
      "startup": false,
      "wait_interval": 0
     }
    },
    "colab_type": "code",
    "id": "JzkaBa64aXzb",
    "cell_id": "00038-0099c19e-be78-487c-80f7-3d8583fb7dea",
    "deepnote_to_be_reexecuted": false,
    "source_hash": "aaf29832",
    "execution_start": 1657916780818,
    "execution_millis": 20071,
    "deepnote_cell_type": "code",
    "deepnote_cell_height": 795.953125,
    "deepnote_output_heights": [
     null,
     611
    ]
   },
   "source": "sns.pairplot(data, vars = numeric_columns)\n#sns.pairplot(data)\n#sns.pairplot(data, vars = categorical_columns)",
   "outputs": [
    {
     "output_type": "execute_result",
     "execution_count": 17,
     "data": {
      "text/plain": "<seaborn.axisgrid.PairGrid at 0x7f4197ae6940>"
     },
     "metadata": {}
    },
    {
     "data": {
      "text/plain": "<Figure size 1080x1080 with 42 Axes>",
      "image/png": "[encoded data removed]"
     },
     "metadata": {
      "needs_background": "light",
      "image/png": {
       "width": 1062,
       "height": 1062
      }
     },
     "output_type": "display_data"
    }
   ],
   "execution_count": null
  },
  {
   "cell_type": "code",
   "source": "import matplotlib.pyplot as plt\ndata[numeric_columns].hist()\nplt.plot()",
   "metadata": {
    "cell_id": "47838535e0aa422baaabc9d8db676e3d",
    "tags": [],
    "deepnote_to_be_reexecuted": false,
    "source_hash": "9185d88c",
    "execution_start": 1657916800875,
    "execution_millis": 1570,
    "deepnote_cell_type": "code",
    "deepnote_cell_height": 454.140625,
    "deepnote_output_heights": [
     null,
     269
    ]
   },
   "outputs": [
    {
     "output_type": "execute_result",
     "execution_count": 18,
     "data": {
      "text/plain": "[]"
     },
     "metadata": {}
    },
    {
     "data": {
      "text/plain": "<Figure size 432x288 with 6 Axes>",
      "image/png": "[encoded data removed]"
     },
     "metadata": {
      "needs_background": "light",
      "image/png": {
       "width": 392,
       "height": 267
      }
     },
     "output_type": "display_data"
    }
   ],
   "execution_count": null
  },
  {
   "cell_type": "markdown",
   "source": "OK! I think we're ready to create and select some supervised learning models. To get the ball rolling, select Age and Sex as our explanatory features (and class as the target feature, obviously).",
   "metadata": {
    "colab_type": "text",
    "id": "mvW7_0aWFSEm",
    "cell_id": "00039-db4ba8e1-86fe-4e8b-afbc-b3d3fd0b6bf5",
    "deepnote_cell_type": "markdown",
    "deepnote_cell_height": 74.78125
   }
  },
  {
   "cell_type": "markdown",
   "source": "## Model training and selection",
   "metadata": {
    "colab_type": "text",
    "id": "JXMQ9UaKqyha",
    "cell_id": "00040-baeba808-03ab-4719-b8a9-92d04f4c3e24",
    "deepnote_cell_type": "markdown",
    "deepnote_cell_height": 69.96875
   }
  },
  {
   "cell_type": "markdown",
   "source": "Let's dummy the categorical variables (but not the class value!) and view the column names to select some for our model.",
   "metadata": {
    "colab_type": "text",
    "id": "Mon3ih88tW8y",
    "cell_id": "00041-2bf90da0-c9fc-4816-8216-ed709f798b1a",
    "deepnote_cell_type": "markdown",
    "deepnote_cell_height": 74.78125
   }
  },
  {
   "cell_type": "code",
   "metadata": {
    "colab": {
     "autoexec": {
      "startup": false,
      "wait_interval": 0
     }
    },
    "colab_type": "code",
    "id": "1NqvPYi6itkH",
    "cell_id": "00042-c4328e17-da04-4472-8eda-fe2de2e12a77",
    "deepnote_to_be_reexecuted": false,
    "source_hash": "28243ca0",
    "execution_start": 1657916802446,
    "execution_millis": 7,
    "deepnote_cell_type": "code",
    "deepnote_cell_height": 153.96875
   },
   "source": "print(categorical_columns)\nprint(numeric_columns)",
   "outputs": [
    {
     "name": "stdout",
     "text": "['Lithium_t', 'On Antithyroid Medication_t', 'Psych_t', 'I131 Treatment_t', 'Hypopituitary_t', 'TSH Measured_t', 'Goiter_t', 'T4U Measured_t', 'Query Hypothyroid_t', 'Pregnant_t', 'Thyroid Surgery_t', 'Sick_t', 'Sex', 'On Thyroxine_t', 'Query on Thyroxine_t', 'TT4 Measured_t', 'Query Hyperthyroid_t', 'T3 Measured_t', 'FTI Measured_t', 'Tumor_t']\n['Age', 'TSH', 'T3', 'TT4', 'T4U', 'FTI']\n",
     "output_type": "stream"
    }
   ],
   "execution_count": null
  },
  {
   "cell_type": "markdown",
   "source": "All right, let's now split our data into training and testing in an 80-20 split. For consistency, let's all use a seed of 8675309.",
   "metadata": {
    "colab_type": "text",
    "id": "4yEeqjv19hCX",
    "cell_id": "00043-09382447-ebda-47af-b74e-f30e189109fb",
    "deepnote_cell_type": "markdown",
    "deepnote_cell_height": 74.78125
   }
  },
  {
   "cell_type": "code",
   "source": "# # standardize data\n# from sklearn.preprocessing import StandardScaler\n\n# scaler = StandardScaler()\n# for i in numeric_columns:\n#     feature_data_train = data[i].values.reshape(-1, 1)\n#     scaler.fit(feature_data_train)\n#     data[i] = scaler.transform(feature_data_train)",
   "metadata": {
    "cell_id": "a93620d9669646d29d34766cf05ad5f3",
    "tags": [],
    "deepnote_to_be_reexecuted": false,
    "source_hash": "ffc78fac",
    "execution_start": 1657916802455,
    "execution_millis": 3,
    "deepnote_cell_type": "code",
    "deepnote_cell_height": 206.96875
   },
   "outputs": [],
   "execution_count": null
  },
  {
   "cell_type": "code",
   "source": "from sklearn.model_selection import train_test_split\n\n## Your code here\nX_cols = ['TSH'] #['Age', 'Sex']\ny_col = ['Class']\n\ntest_size = 0.20\nX_train, X_val, y_train, y_val = train_test_split(data[X_cols], data[y_col], test_size=test_size, random_state=8675309)",
   "metadata": {
    "cell_id": "0853c24422314d968d6942d0eb11f2a1",
    "tags": [],
    "deepnote_to_be_reexecuted": false,
    "source_hash": "fe127422",
    "execution_start": 1657916802462,
    "execution_millis": 209,
    "deepnote_cell_type": "code"
   },
   "outputs": [],
   "execution_count": null
  },
  {
   "cell_type": "markdown",
   "source": "For reusability, let's make a logistic regression function that will take our training and testing data as arguments. Inside the function, build a model on your training data, fit it with your training class data, and return a list of your predictions.",
   "metadata": {
    "colab_type": "text",
    "id": "6KGUCXBE-OFy",
    "cell_id": "00045-bf459db7-a71b-4abb-8916-3cb1a58ada89",
    "deepnote_cell_type": "markdown"
   }
  },
  {
   "cell_type": "code",
   "metadata": {
    "colab": {
     "autoexec": {
      "startup": false,
      "wait_interval": 0
     }
    },
    "colab_type": "code",
    "id": "DawvoHd7lnG9",
    "cell_id": "00046-695eea46-1d15-4efe-bc7c-093eb04269c2",
    "deepnote_to_be_reexecuted": false,
    "source_hash": "a302f56",
    "execution_start": 1657916802678,
    "execution_millis": 63,
    "deepnote_cell_type": "code"
   },
   "source": "from sklearn import metrics\nfrom sklearn.linear_model import LogisticRegression\nfrom sklearn.metrics import accuracy_score\n\ndef log_reg(train_X,train_Y,test_X,test_Y):\n\n  ### Your code here\n  logreg = LogisticRegression()\n  logreg.fit(train_X, train_Y)\n\n  y_train_pred = logreg.predict(train_X)\n  y_val_pred = logreg.predict(test_X)\n\n  print('Training acc: ', accuracy_score(train_Y, y_train_pred)*100)\n  print('Val acc: ', accuracy_score(test_Y, y_val_pred)*100)\n\n  return (y_train_pred, y_val_pred)",
   "outputs": [],
   "execution_count": null
  },
  {
   "cell_type": "code",
   "source": "y_train_pred, y_val_pred = log_reg(X_train, y_train, X_val, y_val)",
   "metadata": {
    "cell_id": "e26a8c0663bd47d3b8adaafbce20b59c",
    "tags": [],
    "deepnote_to_be_reexecuted": false,
    "source_hash": "8c65194e",
    "execution_start": 1657916802744,
    "execution_millis": 59,
    "deepnote_cell_type": "code"
   },
   "outputs": [
    {
     "name": "stdout",
     "text": "Training acc:  94.51672862453532\nVal acc:  95.16728624535315\n/shared-libs/python3.9/py/lib/python3.9/site-packages/sklearn/utils/validation.py:1111: DataConversionWarning: A column-vector y was passed when a 1d array was expected. Please change the shape of y to (n_samples, ), for example using ravel().\n  y = column_or_1d(y, warn=True)\n",
     "output_type": "stream"
    }
   ],
   "execution_count": null
  },
  {
   "cell_type": "markdown",
   "source": "Fantastic, we have just built a logistic regression model! Let's go see how well it performs.",
   "metadata": {
    "colab_type": "text",
    "id": "JR8xu_VVsygN",
    "cell_id": "00047-37b44b5b-b8ae-425a-a8df-5c1cd90e0b18",
    "deepnote_cell_type": "markdown"
   }
  },
  {
   "cell_type": "code",
   "source": "# # #knn algorithm\n# from sklearn.neighbors import KNeighborsClassifier\n# from sklearn.metrics import accuracy_score\n\n# knn = KNeighborsClassifier(n_neighbors=5)\n# knn.fit(X_train, y_train)\n\n# y_train_pred=knn.predict(X_train)\n# predictions_fast = knn.predict(X_val)\n\n\n# print(\"Training Accuracy is \", accuracy_score(y_train, y_train_pred)*100)\n# print(\"Validation Accuracy is \", accuracy_score(y_val,predictions_fast)*100)\n",
   "metadata": {
    "cell_id": "44fb769b08cc4ee8933cd8bee6347802",
    "tags": [],
    "deepnote_to_be_reexecuted": false,
    "source_hash": "e887fb51",
    "execution_start": 1657916802808,
    "execution_millis": 911679,
    "deepnote_cell_type": "code",
    "deepnote_cell_height": 314.96875
   },
   "outputs": [],
   "execution_count": null
  },
  {
   "cell_type": "code",
   "source": "# #decision tree algorithm\n# from sklearn.tree import DecisionTreeClassifier\n# from sklearn.ensemble import RandomForestClassifier\n# from sklearn import metrics\n# import matplotlib.pyplot as plt\n\n# decision_tree = DecisionTreeClassifier(criterion = \"entropy\", random_state = None, max_depth=5, min_samples_leaf=5)\n# decision_tree.fit(X_train, y_train)\n# y_train_pred=decision_tree.predict(X_train)\n# print(\"Training Accuracy is \", accuracy_score(y_train, y_train_pred)*100)\n# y_val_pred=decision_tree.predict(X_val)\n# print(\"Validation Accuracy is \", accuracy_score(y_val,y_val_pred)*100)\n",
   "metadata": {
    "cell_id": "c2b7ed9020b84b6bb0ee9a0c8db1bc73",
    "tags": [],
    "deepnote_to_be_reexecuted": false,
    "source_hash": "f648ae8e",
    "execution_start": 1657916802824,
    "execution_millis": 541197,
    "deepnote_cell_type": "code",
    "deepnote_cell_height": 296.96875
   },
   "outputs": [],
   "execution_count": null
  },
  {
   "cell_type": "code",
   "source": "#Random Forest Classifier --> defining important features\n#'TSH', 'T3', 'TT4', 'FTI' are the most important features\n# from sklearn.ensemble import RandomForestClassifier\n# from sklearn.feature_selection import SelectFromModel\n\n# new_columns = data.columns[:len(data.columns) - 1]\n# X_train2, X_val2, y_train2, y_val2 = train_test_split(data[new_columns], data[y_col], test_size=test_size, random_state=8675309)\n\n# random_forest = RandomForestClassifier(n_estimators=100, criterion = \"gini\", max_depth = 5, min_samples_leaf = 2)\n# random_forest.fit(X_train2, y_train2)\n# sel = SelectFromModel(random_forest)\n# selected_feat= X_train2.columns[(sel.get_support())]\n# print(selected_feat)",
   "metadata": {
    "cell_id": "45831520f19a411891dd751452fe5896",
    "tags": [],
    "deepnote_to_be_reexecuted": false,
    "source_hash": "d650ea5a",
    "execution_start": 1657916802843,
    "execution_millis": 1,
    "deepnote_cell_type": "code",
    "deepnote_cell_height": 296.96875
   },
   "outputs": [],
   "execution_count": null
  },
  {
   "cell_type": "code",
   "source": "#Defining the most important feature --> \n#from 'TSH', 'T3', 'TT4', 'FTI' --> find the most important one\n\n# new_columns = [\"TSH\", \"FTI\", \"TT4\"]\n# X_train2, X_val2, y_train2, y_val2 = train_test_split(data[new_columns], data[y_col], test_size=test_size, random_state=8675309)\n\n# random_forest = RandomForestClassifier(n_estimators=100, criterion = \"gini\", max_depth = 5, min_samples_leaf = 2)\n# random_forest.fit(X_train2, y_train2)\n# sel = SelectFromModel(random_forest)\n# selected_feat= X_train2.columns[(sel.get_support())]\n# print(selected_feat)",
   "metadata": {
    "cell_id": "ae100c871105484cae411359aa1f4630",
    "tags": [],
    "deepnote_to_be_reexecuted": false,
    "source_hash": "96da68b3",
    "execution_start": 1657916802862,
    "execution_millis": 1,
    "deepnote_cell_type": "code",
    "deepnote_cell_height": 260.96875
   },
   "outputs": [],
   "execution_count": null
  },
  {
   "cell_type": "markdown",
   "source": "### Model evaluation",
   "metadata": {
    "colab_type": "text",
    "id": "gAz096POwSRJ",
    "cell_id": "00048-9b4292d9-2696-491a-8090-5bdf7b2c819f",
    "deepnote_cell_type": "markdown",
    "deepnote_cell_height": 61.96875
   }
  },
  {
   "cell_type": "markdown",
   "source": "To start, let's establish the baseline performance. This is important because it provides a starting point of comparison for later evaluation methods, like accuracy.\n\nA good baseline model to use is the Zero Rule algorithm. In classification problems, it simply predicts the class value with the greatest number of instances every time.",
   "metadata": {
    "colab_type": "text",
    "id": "570duVNhrTZh",
    "cell_id": "00049-a83a02f3-350a-4e1f-aa28-eb55b903bade",
    "deepnote_cell_type": "markdown",
    "deepnote_cell_height": 133.578125
   }
  },
  {
   "cell_type": "code",
   "source": "def zero_rule_algorithm_classification(y_train, y_test):\n  ## Your code here\n  y_train_pred = y_train.copy()\n  y_train_pred.iloc[:,0] = y_train.mode().iloc[0,0]\n  y_test_pred = y_test.copy()\n  y_test_pred.iloc[:,0] = y_train.mode().iloc[0,0]\n  return (y_train_pred, y_test_pred)",
   "metadata": {
    "cell_id": "84f33f6fc8c443a7b2ab406566119cfc",
    "tags": [],
    "deepnote_to_be_reexecuted": false,
    "source_hash": "4c4af7ea",
    "execution_start": 1657916802863,
    "execution_millis": 1,
    "deepnote_cell_type": "code",
    "deepnote_cell_height": 188.96875
   },
   "outputs": [],
   "execution_count": null
  },
  {
   "cell_type": "markdown",
   "source": "Get your baseline performance by calculating the accuracy of your Zero Rule algorithm.",
   "metadata": {
    "colab_type": "text",
    "id": "I_nExUgUYll5",
    "cell_id": "00051-a1aaeceb-7bab-4913-aa74-5cd53912ab2e",
    "deepnote_cell_type": "markdown",
    "deepnote_cell_height": 52.375
   }
  },
  {
   "cell_type": "code",
   "source": "## Your code here\na,b = zero_rule_algorithm_classification(y_train, y_val)\nprint('Zero Rule Training Acc: ', accuracy_score(y_train, a)*100)\nprint('Zero Rule Val Acc: ', accuracy_score(y_val, b)*100)",
   "metadata": {
    "cell_id": "94c76af4c8a94aa494413439573b4f86",
    "tags": [],
    "deepnote_to_be_reexecuted": false,
    "source_hash": "b0de70d5",
    "execution_start": 1657916802874,
    "execution_millis": 24,
    "deepnote_cell_type": "code",
    "deepnote_cell_height": 185.59375
   },
   "outputs": [
    {
     "name": "stdout",
     "text": "Zero Rule Training Acc:  91.96096654275094\nZero Rule Val Acc:  92.93680297397769\n",
     "output_type": "stream"
    }
   ],
   "execution_count": null
  },
  {
   "cell_type": "markdown",
   "source": "So maybe accuracy isn't the best performance measure for this dataset. As you've seen already, even when the models predict \"negative\" for all the records, we could already achieve a ~92% accuracy. However, that also implies we incorrectly predicted 100% of the positive cases, which in the context of this problem, is fatal.\n\nThankfully, it isn't the only way to evaluate your model. Let's take a look at a confusion matrix.\n\n![alt text](https://i.imgur.com/uipmEwt.png)",
   "metadata": {
    "colab_type": "text",
    "id": "WksirqfT5Ecw",
    "cell_id": "00053-4f9fd871-24ad-4bfd-a7ed-23bb9a14dbc0",
    "deepnote_cell_type": "markdown",
    "deepnote_cell_height": 542.578125
   }
  },
  {
   "cell_type": "markdown",
   "source": "Create a confusion matrix using the logistic regression function you built earlier.",
   "metadata": {
    "colab_type": "text",
    "id": "-vzqX_SKaBzK",
    "cell_id": "00054-618c508d-3ee7-4d02-9aea-739f3189b730",
    "deepnote_cell_type": "markdown",
    "deepnote_cell_height": 52.375
   }
  },
  {
   "cell_type": "code",
   "metadata": {
    "colab": {
     "autoexec": {
      "startup": false,
      "wait_interval": 0
     }
    },
    "colab_type": "code",
    "id": "DSS7JdYjaBWh",
    "cell_id": "00055-f5bb16f5-b948-487e-bf86-ddf09af4b7bc",
    "deepnote_to_be_reexecuted": false,
    "source_hash": "d27ebdf8",
    "execution_start": 1657916802885,
    "execution_millis": 15,
    "owner_user_id": "621726e3-8134-49a7-876e-c70857c125a9",
    "deepnote_cell_type": "code",
    "deepnote_cell_height": 203.59375
   },
   "source": "from sklearn.metrics import confusion_matrix\n\n### Your code here\ncm = metrics.confusion_matrix(y_val,y_val_pred)\nprint(cm)",
   "outputs": [
    {
     "name": "stdout",
     "text": "[[498   2]\n [ 24  14]]\n",
     "output_type": "stream"
    }
   ],
   "execution_count": null
  },
  {
   "cell_type": "code",
   "source": "y_cm = y_val.copy()\ny_cm['Predict']=y_val_pred\npd.crosstab(y_cm['Class'], y_cm['Predict'], rownames=['True'], colnames=['Predicted'], margins=True)",
   "metadata": {
    "cell_id": "6079d368c6674c3ab294bdb0878ab81a",
    "tags": [],
    "deepnote_to_be_reexecuted": false,
    "source_hash": "c7cee7e5",
    "execution_start": 1657916802925,
    "execution_millis": 47,
    "deepnote_cell_type": "code",
    "deepnote_cell_height": 348.921875
   },
   "outputs": [
    {
     "output_type": "execute_result",
     "execution_count": 31,
     "data": {
      "application/vnd.deepnote.dataframe.v3+json": {
       "column_count": 3,
       "row_count": 3,
       "columns": [
        {
         "name": 0,
         "dtype": "int64",
         "stats": {
          "unique_count": 3,
          "nan_count": 0,
          "min": "24",
          "max": "522",
          "histogram": [
           {
            "bin_start": 24,
            "bin_end": 73.8,
            "count": 1
           },
           {
            "bin_start": 73.8,
            "bin_end": 123.6,
            "count": 0
           },
           {
            "bin_start": 123.6,
            "bin_end": 173.39999999999998,
            "count": 0
           },
           {
            "bin_start": 173.39999999999998,
            "bin_end": 223.2,
            "count": 0
           },
           {
            "bin_start": 223.2,
            "bin_end": 273,
            "count": 0
           },
           {
            "bin_start": 273,
            "bin_end": 322.79999999999995,
            "count": 0
           },
           {
            "bin_start": 322.79999999999995,
            "bin_end": 372.59999999999997,
            "count": 0
           },
           {
            "bin_start": 372.59999999999997,
            "bin_end": 422.4,
            "count": 0
           },
           {
            "bin_start": 422.4,
            "bin_end": 472.2,
            "count": 0
           },
           {
            "bin_start": 472.2,
            "bin_end": 522,
            "count": 2
           }
          ]
         }
        },
        {
         "name": 1,
         "dtype": "int64",
         "stats": {
          "unique_count": 3,
          "nan_count": 0,
          "min": "2",
          "max": "16",
          "histogram": [
           {
            "bin_start": 2,
            "bin_end": 3.4,
            "count": 1
           },
           {
            "bin_start": 3.4,
            "bin_end": 4.8,
            "count": 0
           },
           {
            "bin_start": 4.8,
            "bin_end": 6.199999999999999,
            "count": 0
           },
           {
            "bin_start": 6.199999999999999,
            "bin_end": 7.6,
            "count": 0
           },
           {
            "bin_start": 7.6,
            "bin_end": 9,
            "count": 0
           },
           {
            "bin_start": 9,
            "bin_end": 10.399999999999999,
            "count": 0
           },
           {
            "bin_start": 10.399999999999999,
            "bin_end": 11.799999999999999,
            "count": 0
           },
           {
            "bin_start": 11.799999999999999,
            "bin_end": 13.2,
            "count": 0
           },
           {
            "bin_start": 13.2,
            "bin_end": 14.6,
            "count": 1
           },
           {
            "bin_start": 14.6,
            "bin_end": 16,
            "count": 1
           }
          ]
         }
        },
        {
         "name": "All",
         "dtype": "int64",
         "stats": {
          "unique_count": 3,
          "nan_count": 0,
          "min": "38",
          "max": "538",
          "histogram": [
           {
            "bin_start": 38,
            "bin_end": 88,
            "count": 1
           },
           {
            "bin_start": 88,
            "bin_end": 138,
            "count": 0
           },
           {
            "bin_start": 138,
            "bin_end": 188,
            "count": 0
           },
           {
            "bin_start": 188,
            "bin_end": 238,
            "count": 0
           },
           {
            "bin_start": 238,
            "bin_end": 288,
            "count": 0
           },
           {
            "bin_start": 288,
            "bin_end": 338,
            "count": 0
           },
           {
            "bin_start": 338,
            "bin_end": 388,
            "count": 0
           },
           {
            "bin_start": 388,
            "bin_end": 438,
            "count": 0
           },
           {
            "bin_start": 438,
            "bin_end": 488,
            "count": 0
           },
           {
            "bin_start": 488,
            "bin_end": 538,
            "count": 2
           }
          ]
         }
        },
        {
         "name": "_deepnote_index_column",
         "dtype": "object"
        }
       ],
       "rows": [
        {
         "0": 498,
         "1": 2,
         "All": 500,
         "_deepnote_index_column": "0"
        },
        {
         "0": 24,
         "1": 14,
         "All": 38,
         "_deepnote_index_column": "1"
        },
        {
         "0": 522,
         "1": 16,
         "All": 538,
         "_deepnote_index_column": "All"
        }
       ]
      },
      "text/plain": "Predicted    0   1  All\nTrue                   \n0          498   2  500\n1           24  14   38\nAll        522  16  538",
      "text/html": "<div>\n<style scoped>\n    .dataframe tbody tr th:only-of-type {\n        vertical-align: middle;\n    }\n\n    .dataframe tbody tr th {\n        vertical-align: top;\n    }\n\n    .dataframe thead th {\n        text-align: right;\n    }\n</style>\n<table border=\"1\" class=\"dataframe\">\n  <thead>\n    <tr style=\"text-align: right;\">\n      <th>Predicted</th>\n      <th>0</th>\n      <th>1</th>\n      <th>All</th>\n    </tr>\n    <tr>\n      <th>True</th>\n      <th></th>\n      <th></th>\n      <th></th>\n    </tr>\n  </thead>\n  <tbody>\n    <tr>\n      <th>0</th>\n      <td>498</td>\n      <td>2</td>\n      <td>500</td>\n    </tr>\n    <tr>\n      <th>1</th>\n      <td>24</td>\n      <td>14</td>\n      <td>38</td>\n    </tr>\n    <tr>\n      <th>All</th>\n      <td>522</td>\n      <td>16</td>\n      <td>538</td>\n    </tr>\n  </tbody>\n</table>\n</div>"
     },
     "metadata": {}
    }
   ],
   "execution_count": null
  },
  {
   "cell_type": "markdown",
   "source": "\nYet another appropriate metric is the Area Under the Receiver Operator Curve. Specifically, the diagnostic performance of a test, or the accuracy of a test to discriminate diseased cases from normal cases is evaluated using Receiver Operating Characteristic (ROC) curve analysis.\n\nWhen you consider the results of a particular test in two populations, one population with a disease, the other population without the disease, you will rarely observe a perfect separation between the two groups. Hence, the overlapping areas in the diagram below (FN, FP).\n\nIn a Receiver Operating Characteristic (ROC) curve the true positive rate (Sensitivity) is plotted in function of the false positive rate (100-Specificity) for different cut-off points. Each point on the ROC curve represents a sensitivity/specificity pair corresponding to a particular decision threshold. A test with perfect discrimination (no overlap in the two distributions) has a ROC curve that passes through the upper left corner (100% sensitivity, 100% specificity). Therefore the closer the ROC curve is to the upper left corner, the higher the overall accuracy of the test.\n\n![alt text](https://www.medcalc.org/manual/_help/images/roc_intro1.png)\n\n\n\n",
   "metadata": {
    "colab_type": "text",
    "id": "z0JPOHmQn8N6",
    "cell_id": "00056-fdc3ef5e-8145-44a9-bb6a-3b892ca67fe1",
    "deepnote_cell_type": "markdown",
    "deepnote_cell_height": 538.78125
   }
  },
  {
   "cell_type": "markdown",
   "source": "Now, to graph the AUROC curve, we will need to predict probabilities of choosing a specific class value rather than the class value itself. Make a new logistic regression model that does so.",
   "metadata": {
    "colab_type": "text",
    "id": "cvTWQTcycBEp",
    "cell_id": "00057-d9366daa-54a3-413a-bd9b-4fbaaff44823",
    "deepnote_cell_type": "markdown",
    "deepnote_cell_height": 74.78125
   }
  },
  {
   "cell_type": "code",
   "metadata": {
    "colab": {
     "autoexec": {
      "startup": false,
      "wait_interval": 0
     }
    },
    "colab_type": "code",
    "id": "Ur0s4m3kg3H-",
    "cell_id": "00058-b6e1ff9d-e15e-4dea-9fde-44bad027f6f1",
    "deepnote_to_be_reexecuted": false,
    "source_hash": "1afe157a",
    "execution_start": 1657916802978,
    "execution_millis": 6,
    "deepnote_cell_type": "code",
    "deepnote_cell_height": 242.96875
   },
   "source": "from sklearn.linear_model import LogisticRegression\n\n### Your code here\ndef log_reg_prob(train_X,train_Y,test_X,test_Y):\n    labels = [0,1]\n    logreg = LogisticRegression()\n    logreg.fit(train_X, train_Y)\n    y_train_prob = logreg.predict_proba(train_X)\n    y_val_prob = logreg.predict_proba(test_X)\n    return y_val_prob",
   "outputs": [],
   "execution_count": null
  },
  {
   "cell_type": "code",
   "source": "y_val_prob = log_reg_prob(X_train, y_train, X_val, y_val)",
   "metadata": {
    "cell_id": "9d1e0b9d7a4a4c32b34e333ce3fed21e",
    "tags": [],
    "deepnote_to_be_reexecuted": false,
    "source_hash": "73788d21",
    "execution_start": 1657916802984,
    "execution_millis": 41,
    "deepnote_cell_type": "code",
    "deepnote_cell_height": 135.96875
   },
   "outputs": [
    {
     "name": "stderr",
     "text": "/shared-libs/python3.9/py/lib/python3.9/site-packages/sklearn/utils/validation.py:1111: DataConversionWarning: A column-vector y was passed when a 1d array was expected. Please change the shape of y to (n_samples, ), for example using ravel().\n  y = column_or_1d(y, warn=True)\n",
     "output_type": "stream"
    }
   ],
   "execution_count": null
  },
  {
   "cell_type": "markdown",
   "source": "Now calculate the area under the receiver operator curve with your predictions.",
   "metadata": {
    "colab_type": "text",
    "id": "Xm0yv6wmDnQz",
    "cell_id": "00059-3b1177b1-8256-4c0b-9234-fdfb9d885e87",
    "deepnote_cell_type": "markdown",
    "deepnote_cell_height": 52.375
   }
  },
  {
   "cell_type": "code",
   "metadata": {
    "colab": {
     "autoexec": {
      "startup": false,
      "wait_interval": 0
     }
    },
    "colab_type": "code",
    "id": "0xRxhlqbcc-I",
    "cell_id": "00060-70a6cbb2-d481-4b98-8649-1e732e27808d",
    "deepnote_to_be_reexecuted": false,
    "source_hash": "19a5125f",
    "execution_start": 1657916803030,
    "execution_millis": 9,
    "deepnote_cell_type": "code",
    "deepnote_cell_height": 183.765625
   },
   "source": "from sklearn import metrics\n### Your code here\nfpr, tpr, thresholds = metrics.roc_curve(y_val, y_val_prob[:, 1])\nroc_auc = metrics.auc(fpr, tpr)\nprint(roc_auc)",
   "outputs": [
    {
     "name": "stdout",
     "text": "0.9905\n",
     "output_type": "stream"
    }
   ],
   "execution_count": null
  },
  {
   "cell_type": "markdown",
   "source": "Now graph the ROC curve using matplotlib, fully labeled.",
   "metadata": {
    "colab_type": "text",
    "id": "w3hnQOGUczOn",
    "cell_id": "00061-6b112153-f2f7-4456-98e3-b6b5abf3e6d5",
    "deepnote_cell_type": "markdown",
    "deepnote_cell_height": 52.375
   }
  },
  {
   "cell_type": "code",
   "metadata": {
    "colab": {
     "autoexec": {
      "startup": false,
      "wait_interval": 0
     }
    },
    "colab_type": "code",
    "id": "JA-ieOGua55H",
    "cell_id": "00062-58ed95d2-f259-4088-bf15-97c4d7da684d",
    "deepnote_to_be_reexecuted": false,
    "source_hash": "6cd99c08",
    "execution_start": 1657916803047,
    "execution_millis": 336,
    "deepnote_cell_type": "code",
    "deepnote_cell_height": 761.96875,
    "deepnote_output_heights": [
     395
    ]
   },
   "source": "import matplotlib.pyplot as plt\n\n### Your code here\nplt.figure(figsize=(6,6))\nlw = 2\nplt.plot(fpr, tpr, color='darkorange',\n         lw=lw, label='ROC curve (area = %0.2f)' % roc_auc)\nplt.plot([0, 1], [0, 1], color='navy', lw=lw, linestyle='--')\nplt.xlim([0.0, 1.0])\nplt.ylim([0.0, 1.0])\nplt.xlabel('False Positive Rate')\nplt.ylabel('True Positive Rate')\nplt.title('Receiver operating characteristic')\nplt.legend(loc=\"lower right\")\nplt.show()\n",
   "outputs": [
    {
     "data": {
      "text/plain": "<Figure size 432x432 with 1 Axes>",
      "image/png": "[encoded data removed]"
     },
     "metadata": {
      "needs_background": "light",
      "image/png": {
       "width": 401,
       "height": 393
      }
     },
     "output_type": "display_data"
    }
   ],
   "execution_count": null
  },
  {
   "cell_type": "markdown",
   "source": "In conclusion, it looks like this model performed pretty bad. It's probably best to try out different columns or perhaps use a different model before we submit our model for scoring.",
   "metadata": {
    "colab_type": "text",
    "id": "5D4BtDZV6fxV",
    "cell_id": "00063-d8d82abe-c6d0-42e4-83ee-0ede0bd75851",
    "deepnote_cell_type": "markdown",
    "deepnote_cell_height": 74.78125
   }
  },
  {
   "cell_type": "markdown",
   "source": "# Submitting your Model",
   "metadata": {
    "colab_type": "text",
    "id": "5JW3myd8LHJy",
    "cell_id": "00064-ec6ed03f-6554-4d7a-b1ee-692862e12789",
    "deepnote_cell_type": "markdown",
    "deepnote_cell_height": 81.96875
   }
  },
  {
   "cell_type": "markdown",
   "source": "Once you believe to have found the best classifier, run your classifier on the test data and make a pickle file containing of your predictions contained a pandas dataframe.\n\nThis pandas dataframe will contain three columns for your binary classifier (or 5 columns for the multiclass classifier): the first column should be your model's \"best guess\" for each patient (either 0 or 1, negative or positive) and the last two columns should be the probability the patient would be classified as either a 0 or 1.\n\n(see below for reference)",
   "metadata": {
    "colab_type": "text",
    "id": "Wuexs1daLNBY",
    "cell_id": "00065-376d636e-e176-405e-bf34-8238704b8b12",
    "deepnote_cell_type": "markdown",
    "deepnote_cell_height": 192.375
   }
  },
  {
   "cell_type": "code",
   "metadata": {
    "colab": {
     "autoexec": {
      "startup": false,
      "wait_interval": 0
     },
     "base_uri": "https://localhost:8080/",
     "height": 16
    },
    "colab_type": "code",
    "executionInfo": {
     "elapsed": 735,
     "status": "ok",
     "timestamp": 1531300930305,
     "user": {
      "displayName": "Lyle Lalunio",
      "photoUrl": "https://lh3.googleusercontent.com/a/default-user=s128",
      "userId": "108954789805627648380"
     },
     "user_tz": 240
    },
    "id": "GkZOEgg3m3g1",
    "outputId": "6e113681-1554-4d5d-ee1a-14fce422cdfe",
    "cell_id": "00066-10af5235-b89e-458a-9662-f0f792705571",
    "deepnote_to_be_reexecuted": false,
    "source_hash": "7abd26d9",
    "execution_start": 1657916803384,
    "execution_millis": 34,
    "deepnote_cell_type": "code",
    "deepnote_cell_height": 278.96875
   },
   "source": "# after running this cell, you should see the pickle file pop up in the file explorer to the left\n# use the three dots next to the filename to download the file\n# after downloading the pickle file, email it to medlytics-21@mit.edu\nimport pickle\npredictions = pd.DataFrame(y_val_pred)\nprediction_pickle_path = 'prediction_pickle.pkl'\n\n# Create an variable to pickle and open it in write mode\nprediction_pickle = open(prediction_pickle_path, 'wb')\npickle.dump(predictions, prediction_pickle)\n\nprediction_pickle.close()",
   "outputs": [],
   "execution_count": null
  },
  {
   "cell_type": "code",
   "source": "len()",
   "metadata": {
    "cell_id": "704043b458334aa083e280f81f562844",
    "tags": [],
    "owner_user_id": "e8df7286-59b1-4d58-a85e-eaecdd45436a",
    "deepnote_cell_type": "code",
    "deepnote_cell_height": 65.96875
   },
   "outputs": [],
   "execution_count": null
  },
  {
   "cell_type": "code",
   "metadata": {
    "colab": {
     "autoexec": {
      "startup": false,
      "wait_interval": 0
     },
     "base_uri": "https://localhost:8080/",
     "height": 105
    },
    "colab_type": "code",
    "executionInfo": {
     "elapsed": 263,
     "status": "ok",
     "timestamp": 1531301033636,
     "user": {
      "displayName": "Lyle Lalunio",
      "photoUrl": "https://lh3.googleusercontent.com/a/default-user=s128",
      "userId": "108954789805627648380"
     },
     "user_tz": 240
    },
    "id": "Dj6_AB6LnjrW",
    "outputId": "399f0da3-727f-4e2f-9213-385243a95553",
    "cell_id": "00067-bc594228-5e0f-4b77-a810-af748a352536",
    "deepnote_to_be_reexecuted": false,
    "source_hash": "6bbc19f9",
    "execution_start": 1657916803427,
    "execution_millis": 6,
    "deepnote_cell_type": "code",
    "deepnote_cell_height": 459.484375
   },
   "source": "prediction_unpickle = open(prediction_pickle_path, 'rb')\n \n# load the unpickle object into a variable\npredictions = pickle.load(prediction_unpickle)\n \nprint(predictions)",
   "outputs": [
    {
     "name": "stdout",
     "text": "     0\n0    0\n1    0\n2    0\n3    0\n4    0\n..  ..\n533  0\n534  0\n535  0\n536  0\n537  0\n\n[538 rows x 1 columns]\n",
     "output_type": "stream"
    }
   ],
   "execution_count": null
  },
  {
   "cell_type": "markdown",
   "source": "# Scoring your Model",
   "metadata": {
    "colab_type": "text",
    "id": "GW27RtFNttQA",
    "cell_id": "00068-27fe8845-7bc3-47d1-80d8-4d0a9706d491",
    "deepnote_cell_type": "markdown",
    "deepnote_cell_height": 81.96875
   }
  },
  {
   "cell_type": "markdown",
   "source": "\n**Area Under ROC Curve**: A receiver operating characteristic (ROC) curve plots the true positive rate (y) against the false positive rate (x) at many decision threshold settings (output < threshold = 0, output > threshold = 1). The area under this curve represents the probability that a classifier will rank a randomly chosen positive instance higher than a randomly chosen negative one.\n\n**Confusion Matrix**: You will receive a certain number of points for each correct classification and a certain point penalty for each incorrect classification. The points are weighted, and are designed to equate to 0 in a Zero Rule baseline model. This point scheme is designed to punish you heavily for predicting false positives (FP) and false negatives (FN)--FN cases especially. In doing so, we hope you see the importance of clinical considerations and treat your models from a more human perspective, rather than detached from it.\n\n**Real World Cost**: Similar to the confusion matrix, we want you to keep in mind the other aspects of healthcare analytics--in this case, economic feasibility. In essence, we want you to minimize the amount of time and money spent on data collection by reducing the number of features collected. Each record certainly required a lot of time and money from several individuals and businesses to reliably create, and we hope you gain a better understanding of conducting a useful cost-benefit analysis with this scoring method. The full details of the weighted features can be found in the GitHub.",
   "metadata": {
    "colab_type": "text",
    "id": "iJdiisMerewv",
    "cell_id": "00069-d2f6afaa-cda0-49b1-9054-4584a4b7f46d",
    "deepnote_cell_type": "markdown",
    "deepnote_cell_height": 394
   }
  },
  {
   "cell_type": "markdown",
   "source": "# Moving to the Next Level",
   "metadata": {
    "colab_type": "text",
    "id": "w66lpbB6Qv_M",
    "cell_id": "00070-ffd8f065-4590-4610-a4ac-c66262c746f2",
    "deepnote_cell_type": "markdown",
    "deepnote_cell_height": 81.96875
   }
  },
  {
   "cell_type": "markdown",
   "source": "For those that finish early, remember how I converted the class values into simply \"negative\" and \"positive\"? Now try tackling the multiclass classifier (predicting the different types of positive hypothyroid cases instead of simply negative or positive)! \n\nThe same rules apply!",
   "metadata": {
    "colab_type": "text",
    "id": "X-HZ12lht_so",
    "cell_id": "00071-f937a6d6-cc0c-4bbf-8bde-35b0720a893e",
    "deepnote_cell_type": "markdown",
    "deepnote_cell_height": 133.578125
   }
  },
  {
   "cell_type": "markdown",
   "source": "<a style='text-decoration:none;line-height:16px;display:flex;color:#5B5B62;padding:10px;justify-content:end;' href='https://deepnote.com?utm_source=created-in-deepnote-cell&projectId=88ada329-c7d3-445a-96c6-9517bc1835c2' target=\"_blank\">\n<img alt='Created in deepnote.com' style='display:inline;max-height:16px;margin:0px;margin-right:7.5px;' src='data:image/svg+xml;base64,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' > </img>\nCreated in <span style='font-weight:600;margin-left:4px;'>Deepnote</span></a>",
   "metadata": {
    "tags": [],
    "created_in_deepnote_cell": true,
    "deepnote_cell_type": "markdown"
   }
  }
 ],
 "nbformat": 4,
 "nbformat_minor": 1,
 "metadata": {
  "colab": {
   "collapsed_sections": [],
   "default_view": {},
   "name": "Challenge_Project_STUDENT.ipynb",
   "provenance": [],
   "version": "0.3.2",
   "views": {}
  },
  "kernelspec": {
   "display_name": "Python 3",
   "language": "python",
   "name": "python3"
  },
  "language_info": {
   "codemirror_mode": {
    "name": "ipython",
    "version": 3
   },
   "file_extension": ".py",
   "mimetype": "text/x-python",
   "name": "python",
   "nbconvert_exporter": "python",
   "pygments_lexer": "ipython3",
   "version": "3.7.3"
  },
  "deepnote_notebook_id": "f8c9caeb-052c-426a-b255-3c3b6ce5c5b0",
  "deepnote": {},
  "deepnote_execution_queue": []
 }
}